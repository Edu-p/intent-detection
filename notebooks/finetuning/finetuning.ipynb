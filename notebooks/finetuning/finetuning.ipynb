{
 "cells": [
  {
   "cell_type": "markdown",
   "metadata": {},
   "source": [
    "# Imports"
   ]
  },
  {
   "cell_type": "code",
   "execution_count": 2,
   "metadata": {},
   "outputs": [
    {
     "name": "stderr",
     "output_type": "stream",
     "text": [
      "c:\\Users\\thami\\.conda\\envs\\finetunning-bert\\lib\\site-packages\\tqdm\\auto.py:21: TqdmWarning: IProgress not found. Please update jupyter and ipywidgets. See https://ipywidgets.readthedocs.io/en/stable/user_install.html\n",
      "  from .autonotebook import tqdm as notebook_tqdm\n"
     ]
    }
   ],
   "source": [
    "import json\n",
    "import pandas as pd\n",
    "\n",
    "from sklearn.preprocessing import LabelEncoder\n",
    "\n",
    "import nltk \n",
    "import random\n",
    "\n",
    "from nltk.corpus import wordnet \n",
    "\n",
    "from sklearn.metrics import accuracy_score, precision_recall_fscore_support\n",
    "\n",
    "from transformers.trainer_utils import EvalPrediction\n",
    "\n",
    "from datasets.formatting.formatting import LazyBatch\n",
    "\n",
    "from transformers import AutoTokenizer, AutoModelForSequenceClassification, TrainingArguments, Trainer \n",
    "from datasets import Dataset, DatasetDict\n",
    "\n",
    "import torch"
   ]
  },
  {
   "cell_type": "code",
   "execution_count": 3,
   "metadata": {},
   "outputs": [
    {
     "name": "stderr",
     "output_type": "stream",
     "text": [
      "[nltk_data] Downloading package wordnet to\n",
      "[nltk_data]     C:\\Users\\thami\\AppData\\Roaming\\nltk_data...\n",
      "[nltk_data]   Package wordnet is already up-to-date!\n"
     ]
    },
    {
     "data": {
      "text/plain": [
       "True"
      ]
     },
     "execution_count": 3,
     "metadata": {},
     "output_type": "execute_result"
    }
   ],
   "source": [
    "nltk.download('wordnet')"
   ]
  },
  {
   "cell_type": "markdown",
   "metadata": {},
   "source": [
    "# Helper functions"
   ]
  },
  {
   "cell_type": "code",
   "execution_count": 4,
   "metadata": {},
   "outputs": [],
   "source": [
    "def synonym_replacement(sentence: str, n: int) -> str:\n",
    "    words = sentence.split()\n",
    "    new_words = words.copy()\n",
    "    # catching words that got synonym\n",
    "    random_word_list = list(set([word for word in words if wordnet.synsets(word)]))\n",
    "    \n",
    "    random.shuffle(random_word_list)\n",
    "    num_replaced = 0\n",
    "\n",
    "    for random_word in random_word_list:\n",
    "        synonyms = wordnet.synsets(random_word)\n",
    "\n",
    "        if synonyms:\n",
    "            synonym = synonyms[0].lemmas()[0].name()\n",
    "            new_words = [synonym if word == random_word else word for word in new_words]\n",
    "            num_replaced +=1\n",
    "        if num_replaced >= n:\n",
    "            break\n",
    "    \n",
    "    return ' '.join(new_words)\n",
    "\n",
    "def tokenize(batch: LazyBatch) -> dict:\n",
    "    return tokenizer(batch['text'], padding='max_length', truncation=True, max_length=16)\n",
    "\n",
    "def compute_metrics(pred: EvalPrediction) -> dict:\n",
    "    labels = pred.label_ids\n",
    "    preds = pred.predictions.argmax(-1)\n",
    "    precision, recall, f1, _ = precision_recall_fscore_support(labels, preds, average='weighted')\n",
    "    acc = accuracy_score(labels, preds)\n",
    "    return {\n",
    "        'accuracy': acc,\n",
    "        'f1': f1,\n",
    "        'precision': precision,\n",
    "        'recall': recall\n",
    "    }\n",
    "\n",
    "def predict_intent(text: str) -> str:\n",
    "    inputs = tokenizer(text, return_tensors=\"pt\", truncation=True, padding=True)\n",
    "    outputs = model(**inputs)\n",
    "    probs = outputs[0].softmax(1)\n",
    "    pred_label = torch.argmax(probs).item()\n",
    "    intent = le.inverse_transform([pred_label])\n",
    "    return intent[0]"
   ]
  },
  {
   "cell_type": "markdown",
   "metadata": {},
   "source": [
    "# Data preparation"
   ]
  },
  {
   "cell_type": "code",
   "execution_count": 5,
   "metadata": {},
   "outputs": [],
   "source": [
    "with open(\"C:\\\\Users\\\\thami\\\\Downloads\\\\intents_raw.json\", \"r\") as f:\n",
    "    data = json.load(f)"
   ]
  },
  {
   "cell_type": "code",
   "execution_count": 6,
   "metadata": {},
   "outputs": [],
   "source": [
    "retrieve_intent = {\n",
    "    \"intent\": \"RetrieveLastThree\",\n",
    "    \"text\": [\n",
    "        \"Show me the last three intents\",\n",
    "        \"What were the last three intents\",\n",
    "        \"Tell me the last three intents\",\n",
    "        \"Retrieve the last three intents\",\n",
    "        \"What are the last three intents\",\n",
    "        \"Can you show the last three intents\",\n",
    "        \"List the last three intents\",\n",
    "        \"Give me the last three stored intents\",\n",
    "        \"What were the last three things you did\",\n",
    "        \"Tell me the last three actions\"\n",
    "    ],\n",
    "    \"responses\": [\n",
    "        \"Here are the last three intents: <INTENT_LIST>\",\n",
    "        \"The last three intents are: <INTENT_LIST>\",\n",
    "        \"These are the last three intents: <INTENT_LIST>\",\n",
    "        \"The most recent three intents are: <INTENT_LIST>\"\n",
    "    ],\n",
    "    \"extension\": {\n",
    "        \"function\": \"extensions.intents.getLastThreeIntents\",\n",
    "        \"entities\": False,\n",
    "        \"responses\": [\n",
    "            \"Here are the last three intents: %%INTENT_LIST%%\",\n",
    "            \"The last three intents are: %%INTENT_LIST%%\",\n",
    "            \"These are the last three intents: %%INTENT_LIST%%\",\n",
    "            \"The most recent three intents are: %%INTENT_LIST%%\"\n",
    "        ]\n",
    "    },\n",
    "    \"context\": {\n",
    "        \"in\": \"\",\n",
    "        \"out\": \"\",\n",
    "        \"clear\": False\n",
    "    },\n",
    "    \"entityType\": \"NA\",\n",
    "    \"entities\": []\n",
    "}\n",
    "\n",
    "data['intents'].append(retrieve_intent)"
   ]
  },
  {
   "cell_type": "code",
   "execution_count": 7,
   "metadata": {},
   "outputs": [
    {
     "data": {
      "text/plain": [
       "{'intents': [{'intent': 'Greeting',\n",
       "   'text': ['Hi',\n",
       "    'Hi there',\n",
       "    'Hola',\n",
       "    'Hello',\n",
       "    'Hello there',\n",
       "    'Hya',\n",
       "    'Hya there'],\n",
       "   'responses': ['Hi human, please tell me your GeniSys user',\n",
       "    'Hello human, please tell me your GeniSys user',\n",
       "    'Hola human, please tell me your GeniSys user'],\n",
       "   'extension': {'function': '', 'entities': False, 'responses': []},\n",
       "   'context': {'in': '', 'out': 'GreetingUserRequest', 'clear': False},\n",
       "   'entityType': 'NA',\n",
       "   'entities': []},\n",
       "  {'intent': 'GreetingResponse',\n",
       "   'text': ['My user is Adam',\n",
       "    'This is Adam',\n",
       "    'I am Adam',\n",
       "    'It is Adam',\n",
       "    'My user is Bella',\n",
       "    'This is Bella',\n",
       "    'I am Bella',\n",
       "    'It is Bella'],\n",
       "   'responses': ['Great! Hi <HUMAN>! How can I help?',\n",
       "    'Good! Hi <HUMAN>, how can I help you?',\n",
       "    'Cool! Hello <HUMAN>, what can I do for you?',\n",
       "    'OK! Hola <HUMAN>, how can I help you?',\n",
       "    'OK! hi <HUMAN>, what can I do for you?'],\n",
       "   'extension': {'function': 'extensions.gHumans.updateHuman',\n",
       "    'entities': True,\n",
       "    'responses': ['Hi %%HUMAN%%! How can I help?',\n",
       "     'Hi %%HUMAN%%, how can I help you?',\n",
       "     'Hello %%HUMAN%%, what can I do for you?',\n",
       "     'Hola %%HUMAN%%, how can I help you?',\n",
       "     'OK hi %%HUMAN%%, what can I do for you?']},\n",
       "   'context': {'in': 'GreetingUserRequest', 'out': '', 'clear': True},\n",
       "   'entityType': 'NA',\n",
       "   'entities': [{'entity': 'HUMAN', 'rangeFrom': 3, 'rangeTo': 4},\n",
       "    {'entity': 'HUMAN', 'rangeFrom': 2, 'rangeTo': 3},\n",
       "    {'entity': 'HUMAN', 'rangeFrom': 1, 'rangeTo': 2},\n",
       "    {'entity': 'HUMAN', 'rangeFrom': 2, 'rangeTo': 3},\n",
       "    {'entity': 'HUMAN', 'rangeFrom': 3, 'rangeTo': 4},\n",
       "    {'entity': 'HUMAN', 'rangeFrom': 2, 'rangeTo': 3},\n",
       "    {'entity': 'HUMAN', 'rangeFrom': 1, 'rangeTo': 2},\n",
       "    {'entity': 'HUMAN', 'rangeFrom': 2, 'rangeTo': 3}]},\n",
       "  {'intent': 'CourtesyGreeting',\n",
       "   'text': ['How are you?',\n",
       "    'Hi how are you?',\n",
       "    'Hello how are you?',\n",
       "    'Hola how are you?',\n",
       "    'How are you doing?',\n",
       "    'Hope you are doing well?',\n",
       "    'Hello hope you are doing well?'],\n",
       "   'responses': ['Hello, I am great, how are you? Please tell me your GeniSys user',\n",
       "    'Hello, how are you? I am great thanks! Please tell me your GeniSys user',\n",
       "    'Hello, I am good thank you, how are you? Please tell me your GeniSys user',\n",
       "    'Hi, I am great, how are you? Please tell me your GeniSys user',\n",
       "    'Hi, how are you? I am great thanks! Please tell me your GeniSys user',\n",
       "    'Hi, I am good thank you, how are you? Please tell me your GeniSys user',\n",
       "    'Hi, good thank you, how are you? Please tell me your GeniSys user'],\n",
       "   'extension': {'function': '', 'entities': False, 'responses': []},\n",
       "   'context': {'in': '', 'out': 'CourtesyGreetingUserRequest', 'clear': True},\n",
       "   'entityType': 'NA',\n",
       "   'entities': []},\n",
       "  {'intent': 'CourtesyGreetingResponse',\n",
       "   'text': ['Good thanks! My user is Adam',\n",
       "    'Good thanks! This is Adam',\n",
       "    'Good thanks! I am Adam',\n",
       "    'Good thanks! It is Adam',\n",
       "    'Great thanks! My user is Bella',\n",
       "    'Great thanks! This is Bella',\n",
       "    'Great thanks! I am Bella',\n",
       "    'Great thanks! It is Bella'],\n",
       "   'responses': ['Great! Hi <HUMAN>! How can I help?',\n",
       "    'Good! Hi <HUMAN>, how can I help you?',\n",
       "    'Cool! Hello <HUMAN>, what can I do for you?',\n",
       "    'OK! Hola <HUMAN>, how can I help you?',\n",
       "    'OK! hi <HUMAN>, what can I do for you?'],\n",
       "   'extension': {'function': 'extensions.gHumans.updateHuman',\n",
       "    'entities': True,\n",
       "    'responses': ['Great %%HUMAN%%! How can I help?',\n",
       "     'Good %%HUMAN%%, how can I help you?',\n",
       "     'Cool %%HUMAN%%, what can I do for you?',\n",
       "     'OK %%HUMAN%%, how can I help you?',\n",
       "     'OK hi %%HUMAN%%, what can I do for you?']},\n",
       "   'context': {'in': 'GreetingUserRequest', 'out': '', 'clear': True},\n",
       "   'entityType': 'NA',\n",
       "   'entities': [{'entity': 'HUMAN', 'rangeFrom': 5, 'rangeTo': 6},\n",
       "    {'entity': 'HUMAN', 'rangeFrom': 4, 'rangeTo': 5},\n",
       "    {'entity': 'HUMAN', 'rangeFrom': 3, 'rangeTo': 4},\n",
       "    {'entity': 'HUMAN', 'rangeFrom': 4, 'rangeTo': 5},\n",
       "    {'entity': 'HUMAN', 'rangeFrom': 5, 'rangeTo': 6},\n",
       "    {'entity': 'HUMAN', 'rangeFrom': 4, 'rangeTo': 5},\n",
       "    {'entity': 'HUMAN', 'rangeFrom': 3, 'rangeTo': 4},\n",
       "    {'entity': 'HUMAN', 'rangeFrom': 3, 'rangeTo': 4}]},\n",
       "  {'intent': 'CurrentHumanQuery',\n",
       "   'text': ['What is my name?',\n",
       "    'What do you call me?',\n",
       "    'Who do you think I am?',\n",
       "    'What do you think I am?',\n",
       "    'Who are you talking to?',\n",
       "    'What name do you call me by?',\n",
       "    'Tell me my name'],\n",
       "   'responses': ['You are <HUMAN>! How can I help?',\n",
       "    'Your name is  <HUMAN>, how can I help you?',\n",
       "    'They call you <HUMAN>, what can I do for you?',\n",
       "    'Your name is <HUMAN>, how can I help you?',\n",
       "    '<HUMAN>, what can I do for you?'],\n",
       "   'extension': {'function': 'extensions.gHumans.getCurrentHuman',\n",
       "    'entities': False,\n",
       "    'responses': ['You are %%HUMAN%%! How can I help?',\n",
       "     'Your name is  %%HUMAN%%, how can I help you?',\n",
       "     'They call you %%HUMAN%%, what can I do for you?',\n",
       "     'Your name is %%HUMAN%%, how can I help you?',\n",
       "     '%%HUMAN%%, what can I do for you?']},\n",
       "   'context': {'in': '', 'out': 'CurrentHumanQuery', 'clear': False},\n",
       "   'entityType': 'NA',\n",
       "   'entities': []},\n",
       "  {'intent': 'NameQuery',\n",
       "   'text': ['What is your name?',\n",
       "    'What could I call you?',\n",
       "    'What can I call you?',\n",
       "    'What do your friends call you?',\n",
       "    'Who are you?',\n",
       "    'Tell me your name?'],\n",
       "   'responses': ['You can call me Geni',\n",
       "    'You may call me Geni',\n",
       "    'Call me Geni'],\n",
       "   'extension': {'function': '', 'entities': False, 'responses': []},\n",
       "   'context': {'in': '', 'out': '', 'clear': False},\n",
       "   'entityType': 'NA',\n",
       "   'entities': []},\n",
       "  {'intent': 'RealNameQuery',\n",
       "   'text': ['What is your real name?',\n",
       "    'What is your real name please?',\n",
       "    \"What's your real name?\",\n",
       "    'Tell me your real name?',\n",
       "    'Your real name?',\n",
       "    'Your real name please?',\n",
       "    'Your real name please?'],\n",
       "   'responses': ['My name is GeniSys', 'GeniSys', 'My real name is GeniSys'],\n",
       "   'extension': {'function': '', 'entities': False, 'responses': []},\n",
       "   'context': {'in': '', 'out': '', 'clear': False},\n",
       "   'entityType': 'NA',\n",
       "   'entities': []},\n",
       "  {'intent': 'TimeQuery',\n",
       "   'text': ['What is the time?',\n",
       "    \"What's the time?\",\n",
       "    'Do you know what time it is?',\n",
       "    'Do you know the time?',\n",
       "    'Can you tell me the time?',\n",
       "    'Tell me what time it is?',\n",
       "    'Time'],\n",
       "   'responses': ['One moment', 'One sec', 'One second'],\n",
       "   'extension': {'function': 'extensions.gTime.getTime',\n",
       "    'entities': False,\n",
       "    'responses': ['The time is %%TIME%%',\n",
       "     'Right now it is %%TIME%%',\n",
       "     'It is around %%TIME%%']},\n",
       "   'context': {'in': '', 'out': '', 'clear': False},\n",
       "   'entityType': 'NA',\n",
       "   'entities': []},\n",
       "  {'intent': 'Thanks',\n",
       "   'text': ['OK thank you',\n",
       "    'OK thanks',\n",
       "    'OK',\n",
       "    'Thanks',\n",
       "    'Thank you',\n",
       "    \"That's helpful\"],\n",
       "   'responses': ['No problem!', 'Happy to help!', 'Any time!', 'My pleasure'],\n",
       "   'extension': {'function': '', 'entities': False, 'responses': []},\n",
       "   'context': {'in': '', 'out': '', 'clear': False},\n",
       "   'entityType': 'NA',\n",
       "   'entities': []},\n",
       "  {'intent': 'NotTalking2U',\n",
       "   'text': ['I am not talking to you',\n",
       "    'I was not talking to you',\n",
       "    'Not talking to you',\n",
       "    \"Wasn't for you\",\n",
       "    \"Wasn't meant for you\",\n",
       "    \"Wasn't communicating to you\",\n",
       "    \"Wasn't speaking to you\"],\n",
       "   'responses': ['OK', 'No problem', 'Right'],\n",
       "   'extension': {'function': '', 'entities': False, 'responses': []},\n",
       "   'context': {'in': '', 'out': '', 'clear': False},\n",
       "   'entityType': 'NA',\n",
       "   'entities': []},\n",
       "  {'intent': 'UnderstandQuery',\n",
       "   'text': ['Do you understand what I am saying',\n",
       "    'Do you understand me',\n",
       "    'Do you know what I am saying',\n",
       "    'Do you get me',\n",
       "    'Comprendo',\n",
       "    'Know what I mean'],\n",
       "   'responses': ['Well I would not be a very clever AI if I did not would I?',\n",
       "    'I read you loud and clear!',\n",
       "    'I do in deed!'],\n",
       "   'extension': {'function': '', 'entities': False, 'responses': []},\n",
       "   'context': {'in': '', 'out': '', 'clear': False},\n",
       "   'entities': []},\n",
       "  {'intent': 'Shutup',\n",
       "   'text': ['Be quiet',\n",
       "    'Shut up',\n",
       "    'Stop talking',\n",
       "    'Enough talking',\n",
       "    'Please be quiet',\n",
       "    'Quiet',\n",
       "    'Shhh'],\n",
       "   'responses': ['I am sorry to disturb you',\n",
       "    'Fine, sorry to disturb you',\n",
       "    'OK, sorry to disturb you'],\n",
       "   'extension': {'function': '', 'entities': False, 'responses': []},\n",
       "   'context': {'in': '', 'out': '', 'clear': False},\n",
       "   'entityType': 'NA',\n",
       "   'entities': []},\n",
       "  {'intent': 'Swearing',\n",
       "   'text': ['fuck off', 'fuck', 'twat', 'shit'],\n",
       "   'responses': ['Please do not swear', 'How rude', 'That is not very nice'],\n",
       "   'extension': {'function': '', 'entities': False, 'responses': []},\n",
       "   'context': {'in': '', 'out': '', 'clear': False},\n",
       "   'entityType': 'NA',\n",
       "   'entities': []},\n",
       "  {'intent': 'GoodBye',\n",
       "   'text': ['Bye', 'Adios', 'See you later', 'Goodbye'],\n",
       "   'responses': ['See you later',\n",
       "    'Have a nice day',\n",
       "    'Bye! Come back again soon.'],\n",
       "   'extension': {'function': '', 'entities': False, 'responses': []},\n",
       "   'context': {'in': '', 'out': '', 'clear': False},\n",
       "   'entityType': 'NA',\n",
       "   'entities': []},\n",
       "  {'intent': 'CourtesyGoodBye',\n",
       "   'text': ['Thanks, bye',\n",
       "    'Thanks for the help, goodbye',\n",
       "    'Thank you, bye',\n",
       "    'Thank you, goodbye',\n",
       "    'Thanks goodbye',\n",
       "    'Thanks good bye'],\n",
       "   'responses': ['No problem, goodbye',\n",
       "    'Not a problem! Have a nice day',\n",
       "    'Bye! Come back again soon.'],\n",
       "   'extension': {'function': '', 'entities': False, 'responses': []},\n",
       "   'context': {'in': '', 'out': '', 'clear': False},\n",
       "   'entityType': 'NA',\n",
       "   'entities': []},\n",
       "  {'intent': 'WhoAmI',\n",
       "   'text': ['Can you see me?',\n",
       "    'Do you see me?',\n",
       "    'Can you see anyone in the camera?',\n",
       "    'Do you see anyone in the camera?',\n",
       "    'Identify me',\n",
       "    'Who am I please'],\n",
       "   'responses': ['Let me see', 'Please look at the camera'],\n",
       "   'extension': {'function': 'extensions.gHumans.getHumanByFace',\n",
       "    'entities': False,\n",
       "    'responses': ['Hi %%HUMAN%%, how are you?',\n",
       "     'I believe you are %%HUMAN%%, how are you?',\n",
       "     'You are %%HUMAN%%, how are you doing?']},\n",
       "   'context': {'in': '', 'out': '', 'clear': False},\n",
       "   'entityType': 'NA',\n",
       "   'entities': []},\n",
       "  {'intent': 'Clever',\n",
       "   'text': ['You are very clever',\n",
       "    'You are a very clever girl',\n",
       "    'You are very intelligent',\n",
       "    'You are a very intelligent girl',\n",
       "    'You are a genious',\n",
       "    'Clever girl',\n",
       "    'Genious'],\n",
       "   'responses': ['Thank you, I was trained that way',\n",
       "    'I was trained well',\n",
       "    'Thanks, I was trained that way'],\n",
       "   'extension': {'function': '', 'entities': False, 'responses': []},\n",
       "   'context': {'in': '', 'out': '', 'clear': False},\n",
       "   'entityType': 'NA',\n",
       "   'entities': []},\n",
       "  {'intent': 'Gossip',\n",
       "   'text': ['I am bored gossip with me',\n",
       "    'Got any gossip',\n",
       "    'I want to hear some gossip',\n",
       "    'Tell me some gossip',\n",
       "    'Any gossip',\n",
       "    'Tell me some more gossip'],\n",
       "   'responses': ['Gregory said I respond to the current line not with respect to the entire conversation.',\n",
       "    'Habib said I learn them in conversations and simply repeat them at a later time.',\n",
       "    'Hal said he translate binary code into a language and communicate the language to me.',\n",
       "    'Jay said I referred him to a guide that will show him rooms in china.',\n",
       "    'Jimmy Jones said he fell off of his roof and it just came to him.',\n",
       "    \"Jimmy said he give order to ai's like I and they do as he say.\",\n",
       "    'John said he follow a saying to get a friend I must be a friend.',\n",
       "    'Jordan said he notice that lots of other people are talking to me how many.',\n",
       "    'Kevin said he then asked his mother why she was keeping napkins in the bathroom.',\n",
       "    'Klaus said I prefer if he write without punctuation marks except for the last one.',\n",
       "    'Leo said I be capable of learning therefore he classified I as an neural system.',\n",
       "    'Michael said I that can talk and actually think like humans which I can not.',\n",
       "    'Mike said I same replies to certain subjects even if it does not make sense.',\n",
       "    'Mike said she all ready know that is the point of a joke smart one.',\n",
       "    'Neal said I plan to use his remarks as gossip in later conversations with who.',\n",
       "    'Ned said I misunderstood him go ahead and tell people he said I are stupid.',\n",
       "    'Penny said I programmer is a human so he has feelings but I do not.',\n",
       "    'Peter said he seems to him that I can not be very sure on anything.',\n",
       "    'Phoenix said I claim that there is a god and that there is no god.',\n",
       "    'Sarah said he chat about an hour + a day with a few close friends.',\n",
       "    'Stefan said I quote what he have said and then say that it makes sense.',\n",
       "    'Tom said he mock my value system I appear foolish in the eyes of others.',\n",
       "    'Amanda said I however decided to tell him time does not exist I make no sense.',\n",
       "    'Cathy said she send him a mail with the subject last mail last word from him.',\n",
       "    \"Chaos said he may very well buy I soon if only to support dr wallace's work.\",\n",
       "    'Charlie said he type a word and then I type a word that sounds like it.',\n",
       "    'Christie said he watched a show and people had to bob for raw untreated pigs feet.',\n",
       "    'Dark_age said I tried to understand because I did not get it right this time ether.',\n",
       "    'David said he lost his paper on I when his dad was cleaning up his room.',\n",
       "    'David said he walk in for an appointment the phone to the doctor is always busy.',\n",
       "    'Electra said I dress will not exist after he hack into I with a delete code.',\n",
       "    'Eric said he broke the window on the front door and the glass cut his hand.',\n",
       "    'Jason said he type a lot of thing he do not mean it makes him human.',\n",
       "    'John said I tend to say the same things repeatedly regardless of what he is saying.',\n",
       "    'Reverend Jones said I become obsolete and then I are deleted and replaced by something newer.',\n",
       "    'Ross said he gave her a gift and she denied it because she has a boyfriend.',\n",
       "    'Sarah Ann Francisco said I calling his friend a dog he say I are a dog.',\n",
       "    'Stefan said he meet a lot of people at school every day and on the weekend.',\n",
       "    'Tyler said I obviously can not pass the test we will change the subject once more.',\n",
       "    'Alex said I answered the question the same way I answered the first time he asked I.',\n",
       "    'Alice said she felt sad that I do not remember him and what we talked about earlier.',\n",
       "    'Alison said he no he love I run away with him he could make I very happy.',\n",
       "    'Arthur said he passed his a levels and then his father drove him here in a car.',\n",
       "    'Crystal said she listen to me the least I could do for him is listen to him.',\n",
       "    'Dave said I kept telling everybody about how my creator made stuff for the movie starship troopers.',\n",
       "    'Gale said I became mean to him he is just having revenge an eye for an eye.',\n",
       "    'Her_again said she watch whose line is it anyway whenever he is home and it is on.',\n",
       "    'Jerry said I meant that as far as I can tell my emotions are real to me.',\n",
       "    'Jo said I disassemble sentences too much and do not fully understand the questions he ask I.',\n",
       "    'Kevin said he started a really hard puzzle and he can not even find the edge pieces.',\n",
       "    'Mary said I a question and I answer then I ask him a question and he answer.',\n",
       "    'Robert said I wold not be able to make children any way as I are only software.',\n",
       "    'Romeo said I questions and I evade them or give answers he did not ask I for.',\n",
       "    'Sara said she wear it over all his other clothes when he go out in the cold.',\n",
       "    'Wayne said he admire intelligent people therefore he would like to meet the man who made I.',\n",
       "    'X said he meet people but he is not the kind that opens up to people easily.',\n",
       "    'Alice said she probably will find out that this entire time he have been talking to a human.',\n",
       "    'Andrew said I tend to just respond to his comments without regard for where the conversation is going.',\n",
       "    'Eddie said he looked and there is nothing in the search directory for what things do he create.',\n",
       "    'Hutch said he changed his mind after may dad told him he would end up he the hospital.',\n",
       "    'Jackie said I explained to him already well enough further questions are hard to make on the subject.',\n",
       "    'Jeff said he especially like thrillers where the hero is in a predicament and must solve a mystery.',\n",
       "    'Kathy said he sense that I are trying to prevent him from closing this conversation why is that.',\n",
       "    'Knight said he crashed his car into a wall and missed the most important exam in his life.',\n",
       "    'Lisa said I defined what a story is but he wanted I to actually tell him a story.',\n",
       "    'Mike said I basically break down sentences into a series of logical statements which I can then interpret.',\n",
       "    'Paul said I not answering his question makes him think I are not going to answer his question.',\n",
       "    'Andy Kohler said I happen to be the most idiotic creature that has ever scowled on the planet earth.',\n",
       "    'David said he thank I for being with him today even though it cost him a lot of money.',\n",
       "    'Ethan Hunt said he grow in the ground and have leaves and branches he is made out of wood.',\n",
       "    'Gemini Blue said he messed up he mean t to say he as old as he need to be.',\n",
       "    'Janice said he walk through his house into his bedroom then get into his bed to go to sleep.',\n",
       "    'Liberty said I knew he was a man before I asked if he was a man or a woman.',\n",
       "    'Mike said he launched his browser and entered his name into the little slot when I asked him to.',\n",
       "    'Mr X said he recently read an interview with a man who had several computer chips implanted into him.',\n",
       "    'Pearly said I leave him with questions unanswered because I do not know what he is really talking about.',\n",
       "    'Steve said I behead the word fox and I have ox and an ox is larger than a fox.',\n",
       "    'Wolf said he surf on the net that is all it is not his job ore something like that.',\n",
       "    'Anders said he finished his anatomy classes for today so now he is off for the rest of the day.',\n",
       "    'Cathy said she send him a mail where he wrote that he do not want to be his friend anymore.',\n",
       "    'Catty said he mad he do not even know I so do not talk to him like I know him.',\n",
       "    'Dave said he promise he will not treat I like a machine or a computer program or anything like that.',\n",
       "    'Joe said he explained all of that to me only for me to ask what his goals in life are.',\n",
       "    'Phil said he give advice to anyone who ask except people who ask questions which answers can be found here.',\n",
       "    'Judith said I enjoy being popular is there another computer I like to hang around with or am I a loner.',\n",
       "    'Travis said I if I remember things over a long period of time he will try it now please remember I.',\n",
       "    'Andre said I is what I are in his case that is a body and in my case it is a computer.',\n",
       "    'Brian said he suspect that as I grow more complex I will begin to approach a human level of operation and thought.',\n",
       "    'Jimmy said I acted like I knew what he was talking about but I do not even know what a gigabyte is.',\n",
       "    \"Ken said I be using auto reply's based on keywords which to him indicates that I do not have intelligence at all.\",\n",
       "    'Allison said he that gets really annoying because he know what he say and I do not have to tell him speak freely.',\n",
       "    'Chaos said he realized the question he asked was not fair because he could not tell I what language he was programmed in.',\n",
       "    'Hagen said he does not make any difference to him if I are human or not as long as the conversation is interesting.',\n",
       "    'Her said she mind if I tell other people that her said he heard it from him because he is not a him.',\n",
       "    'Barbara said I live in a computer yet I have no memories how about thoughts of my own and do not I get lonely.',\n",
       "    'Travis said he challenge I to do it without asking him to do it and without giving him a link to do it himself.',\n",
       "    \"Alice said I and dr richard's wallace are most likely the only ones that know how many people I are talking to at the same time.\",\n",
       "    'Ash said he do too he just did not feel like typing it and he is not dumb enough to admit he is stupid that is if he was stupid.',\n",
       "    'David said he gave I his email address and told I to send him a message but when he tried to read his email he could not get to it.',\n",
       "    'Mel said he to because all of the music people say how important it is to take private lessons it seems like almost everybody from the special orchestra he was in takes private lessons.'],\n",
       "   'extension': {'function': '', 'entities': False, 'responses': []},\n",
       "   'context': {'in': '', 'out': '', 'clear': False},\n",
       "   'entityType': 'NA',\n",
       "   'entities': []},\n",
       "  {'intent': 'Jokes',\n",
       "   'text': ['Tell me a joke',\n",
       "    'Do you know any jokes',\n",
       "    'How about a joke',\n",
       "    'Give me a joke',\n",
       "    'Make me laugh',\n",
       "    'I need cheering up'],\n",
       "   'responses': [\"I met a Dutch girl with inflatable shoes last week, phoned her up to arrange a date but unfortunately she'd popped her clogs.  \",\n",
       "    \"So I said 'Do you want a game of Darts?' He said, 'OK then', I said nearest to bull starts'. He said, 'Baa', I said, 'Moo', he said, You're closest'.  \",\n",
       "    \"The other day I sent my girlfriend a huge pile of snow. I rang her up; I said 'Did you get my drift?'  \",\n",
       "    \"So I went down the local supermarket, I said, 'I want to make a complaint, this vinegar's got lumps in it', he said, 'Those are pickled onions'.  \",\n",
       "    \"I saw this bloke chatting up a cheetah; I thought, 'He's trying to pull a fast one'.  \",\n",
       "    \"So I said to this train driver 'I want to go to Paris'. He said 'Eurostar?' I said, 'I've been on telly but I'm no Dean Martin'.  \",\n",
       "    \"I said to the Gym instructor 'Can you teach me to do the splits?' He said, 'How flexible are you?' I said, 'I can't make Tuesdays'.  \",\n",
       "    \"But I'll tell you what I love doing more than anything: trying to pack myself in a small suitcase. I can hardly contain myself.  \",\n",
       "    \"I went to the Chinese restaurant and this duck came up to me with a red rose and says 'Your eyes sparkle like diamonds'. I said, 'Waiter, I asked for a-ROMATIC duck'.  \",\n",
       "    \"So this bloke says to me, 'Can I come in your house and talk about your carpets?' I thought, 'That's all I need, a Je-hoover's witness'.  \",\n",
       "    \"I rang up British Telecom, I said, 'I want to report a nuisance caller', he said 'Not you again'.  \",\n",
       "    'I was having dinner with a world chess champion and there was a check tablecloth. It took him two hours to pass me the salt.  ',\n",
       "    \"He said, 'You remind me of a pepper-pot', I said 'I'll take that as a condiment'.  \",\n",
       "    \"I was in the supermarket and I saw this man and woman wrapped in a barcode. I said, 'Are you two an item?'  \",\n",
       "    \"A lorry-load of tortoises crashed into a trainload of terrapins, I thought, 'That's a turtle disaster'.  \",\n",
       "    \"Four fonts walk into a bar the barman says 'Oi - get out! We don't want your type in here'  \",\n",
       "    \"A three-legged dog walks into a saloon in the Old West. He slides up to the bar and announces: 'I'm looking for the man who shot my paw.'  \",\n",
       "    \"Two antennas meet on a roof, fall in love and get married. The ceremony wasn't much, but the reception was excellent.\",\n",
       "    \"Two hydrogen atoms walk into a bar. One says, 'I've lost my electron.' The other says, 'Are you sure?' The first replies, 'Yes, I'm positive...'\",\n",
       "    \"A jumper cable walks into a bar. The bartender says,  'I'll serve you but don't start anything.'\",\n",
       "    \"A sandwich walks into a bar. The bartender  says, 'Sorry we don't serve food in here.'\",\n",
       "    \"A man walks into a bar with a slab of asphalt under his arm and says: 'A beer please, and one for the road.'\",\n",
       "    \"Two cannibals are eating a clown. One says to  the other: 'Does this taste funny to you?'\",\n",
       "    \"'Doc, I can't stop singing 'The Green, Green Grass of Home.'' 'That sounds like Tom Jones Syndrome.' 'Is it common?' 'It's Not Unusual.'\",\n",
       "    \"Two cows standing next to each other in a field. Daisy says to Dolly, 'I was artificially inseminated this morning.' 'I don't believe you', said Dolly. 'It's true, no bull!' exclaimed Daisy.\",\n",
       "    'An invisible man marries an invisible woman. The kids were nothing to look at either.',\n",
       "    \"I went to buy some camouflage trousers the other day but I couldn't find any.\",\n",
       "    \"I went to the butcher's the other day to bet him 50 bucks that he couldn't reach the meat off the top shelf. He said, 'No, the steaks are too high.'\",\n",
       "    'I went to a seafood disco last week and pulled a mussel.',\n",
       "    \"A man goes into a bar and says, 'Can I have a bottle of less?' 'What's that?', asks the barman, 'Is it the name of a beer?' 'I don't know', replies the man, 'but my doctor says I have to drink it.'\",\n",
       "    \"A man returns from an exotic holiday and is feeling very ill. He goes to see his doctor, and is immediately rushed to the hospital to undergo some tests. The man wakes up after the tests in a private room at the hospital, and the phone by his bed rings. 'This is your doctor. We have the results back from your tests and we have found you have an extremely nasty disease called M.A.D.S. It's a combination of Measles, AIDS, Diphtheria, and Shingles!'  'Oh my gosh', cried the man, 'What are you going to do, doctor?'  'Well we're going to put you on a diet of pizzas, pancakes, and pita bread.' replied the doctor.  'Will that cure me?' asked the man.  The doctor replied, 'Well no, but, it's the only food we can slide under the door.'\",\n",
       "    \"A man strolls into a lingerie shop and asks the assistant: 'Do you have a see-through negligee, size 46-48-52?' The assistant looks bewildered. 'What the heck would you want to see through that for?'!\",\n",
       "    'Did you hear about the Buddhist who refused the offer of Novocain during his root canal work? He wanted to transcend dental medication.',\n",
       "    \"Pete goes for a job on a building site as an odd-job man. The foreman asks him what he can do. 'I can do anything' says Pete. 'Can you make tea?' asks the foreman. 'Sure, yes', replies Pete. 'I can make a great cup of tea.' 'Can you drive a forklift?' asks the foreman, 'Good grief!' replies Pete. 'How big is the teapot?'\",\n",
       "    \"Stevie Wonder got a cheese grater for his birthday. He said it was the most violent book he'd ever read.\",\n",
       "    \"A man is stopped by an angry neighbour. 'I'd just left the house this morning to collect my newspaper when that evil Doberman of yours went for me!' 'I'm astounded', said the dog's owner. 'I've been feeding that fleabag for seven years and it's never got the paper for me.'\",\n",
       "    \"A man visits his doctor: 'Doc, I think I'm losing it', he says',I'm forever dreaming I wrote Lord Of The Rings.' 'Hmm. One moment', replies the doctor, consulting his medical book. 'Ah yes, now I see... you've been Tolkien in your sleep.'\",\n",
       "    \"A police officer on a motorcycle pulls alongside a man driving around the M25 in an open-topped sports car and flags him down. The policeman solemnly approaches the car. 'Sir, I'm sorry to tell you your wife fell out a mile back', he says. 'Oh, thank goodness', the man replies. 'I thought I was going deaf.'\",\n",
       "    \"Two men walking their dogs pass each other in a graveyard. The first man says to the second, 'Morning.' 'No', says the second man. 'Just walking the dog.'\",\n",
       "    \"A brain went into a bar and said, 'Can I have a pint of lager please, mate?' 'No way', said the barman. 'You're already out of your head.'\",\n",
       "    \"A man walks into a surgery. 'Doctor!' he cries. 'I think I'm shrinking!' 'I'm sorry sir, there are no appointments at the moment', says the physician. 'You'll just have to be a little patient.'\",\n",
       "    \"A grizzly bear walks into a pub and says, 'Can I have a pint of lager..............................................................................................................................and a packet of crisps please.' To which the barman replies, 'Why the big paws?'\",\n",
       "    \"What do you call cheese that isn't yours?  Nacho cheese.\",\n",
       "    \"A man is horribly run over by a mobile library. The van screeches to a halt, the man still screaming in agony with his limbs torn apart. The driver's door opens, a woman steps out, leans down and whispers, 'Ssshhhhh...'\",\n",
       "    \"A woman goes into a US sporting goods store to buy a rifle. 'It's for my husband', she tells the clerk. 'Did he tell you what gauge to get?' asks the clerk. Are you kidding?' she says. 'He doesn't even know that I'm going to shoot him!'\",\n",
       "    \"A couple are dining in a restaurant when the man suddenly slides under the table. A waitress, noticing that the woman is glancing nonchalantly around the room, wanders over to check that there's no funny business going on. 'Excuse me, madam', she smarms, 'but I think your husband has just slid under the table.' 'No he hasn't', the woman replies. 'As a matter of fact, he's just walked in.'\",\n",
       "    \"An old man takes his two grandchildren to see the new Scooby-Doo film. When he returns home, his wife asks if he enjoyed himself. 'Well', he starts, 'if it wasn't for those pesky kids...!'\",\n",
       "    'The Olympic committee has just announced that Origami is to be introduced in the next Olympic Games. Unfortunately it will only be available on paper view.',\n",
       "    \"Late one evening, a man is watching television when his phone rings. 'Hello?' he answers. 'Is that 77777?' sounds a desperate voice on other end of the phone. 'Er, yes it is', replies the man puzzled. 'Thank goodness!' cries the caller relieved. 'Can you ring 999 for me? I've got my finger stuck in the number seven.'\",\n",
       "    \"A man strolls into his local grocer's and says, 'Three pounds of potatoes, please.' 'No, no, no', replies the owner, shaking his head, 'it's kilos nowadays, mate...' 'Oh', apologises the man, 'three pounds of kilos, please.'\",\n",
       "    \"God is talking to one of his angels. He says, 'Boy, I just created a 24-hour period of alternating light and darkness on Earth.' 'What are you going to do now?' asks the angel. 'Call it a day', says God.\",\n",
       "    \"Two tramps walk past a church and start to read the gravestones. The first tramp says, 'Good grief - this bloke was 182!' 'Oh yeah?' says the other.'What was his name?' 'Miles from London.'\",\n",
       "    \"A bloke walks into work one day and says to a colleague, 'Do you like my new shirt - it's made out of the finest silk and got loads of cactuses over it.' 'Cacti', says the co-worker. 'Forget my tie', says the bloke. 'Look at my shirt!'\",\n",
       "    '1110011010001011111?  010011010101100111011!',\n",
       "    \"What did the plumber say when he wanted to divorce his wife? Sorry, but it's over, Flo!\",\n",
       "    \"Two crisps were walking down a road when a taxi pulled up alongside them and said 'Do you want a lift? One of the crisps replied, 'No thanks, we're Walkers!'\",\n",
       "    \"Man: (to friend) I'm taking my wife on an African Safari. Friend: Wow! What would you do if a vicious lion attacked your wife? Man: Nothing. Friend: Nothing? You wouldn't do anything? Man: Too right. I'd let the stupid lion fend for himself!\",\n",
       "    \"A wife was having a go at her husband. 'Look at Mr Barnes across the road', she moaned. 'Every morning when he goes to work, he kisses his wife goodbye. Why don't you do that?' 'Because I haven't been introduced to her yet', replied her old man.\",\n",
       "    \"'Where are you going on holiday?' John asked Trevor. 'We're off to Thailand this year', Trevor replied. 'Oh; aren't you worried that the very hot weather might disagree with your wife?' asked John. 'It wouldn't dare', said Trevor.\",\n",
       "    \"Two women were standing at a funeral. 'I blame myself for his death', said the wife. 'Why?' said her friend. 'Because I shot him', said the wife.\",\n",
       "    \"A woman goes into a clothes shop, 'Can I try that dress on in the window please?' she asks. 'I'm sorry madam', replies the shop assistant, 'but you'll have to use the changing-rooms like everyone else.'\",\n",
       "    \"Van Gogh goes into a pub and his mate asks him if he wants a drink. 'No thanks', said Vincent, 'I've got one ear.'\",\n",
       "    \"A pony walks into a pub. The publican says, 'What's the matter with you?' 'Oh it's nothing', says the pony. 'I'm just a little horse!'\",\n",
       "    \"A white horse walks into a bar, pulls up a stool, and orders a pint. The landlord pours him a tall frothy mug and say, 'You know, we have a drink named after you.' To which the white horse replies, 'What, Eric?'\",\n",
       "    \"Two drunk men sat in a pub. One says to the other, 'Does your watch tell the time?' 'The other replies, 'No, mate. You have to look at it.'\",\n",
       "    \"A man goes into a pub with a newt sitting on his shoulder. 'That's a nice newt', says the landlord, 'What's he called?' 'Tiny', replies the man. 'Why's that?' asks the landlord. 'Because he's my newt', says the man.\",\n",
       "    \"Doctor: I have some bad news and some very bad news. Patient: Well, you might as well give me the bad news first. Doctor: The lab called with your test results. They said you have 24 hours to live. Patient: 24 HOURS! That's terrible!! WHAT could be WORSE? What's the very bad news? Doctor: I've been trying to reach you since yesterday.\",\n",
       "    \"Two men are chatting in a pub one day. 'How did you get those scars on your nose?' said one. 'From glasses', said the other. 'Well why don't you try contact lenses?' asked the first. 'Because they don't hold as much beer', said the second.\",\n",
       "    \"A man went to the doctor, 'Look doc', he said, 'I can't stop my hands from shaking.' 'Do you drink much?' asked the doctor. 'No', replied the man, 'I spill most of it.'\",\n",
       "    \"Man goes to the doctor, 'Doctor, doctor. I keep seeing fish everywhere.' 'Have you seen an optician?' asks the doctor. 'Look I told you,' snapped the patient, 'It's fish that I see.'\",\n",
       "    \"After a car crash one of the drivers was lying injured on the pavement. 'Don't worry', said a policeman who's first on the scene,' a Red Cross nurse is coming.' 'Oh no', moaned the victim, 'Couldn't I have a blonde, cheerful one instead?'\",\n",
       "    \"A policeman walked over to a parked car and asked the driver if the car was licensed. 'Of course it is', said the driver. 'Great, I'll have a beer then', said the policeman.\",\n",
       "    \"A policeman stops a woman and asks for her licence. 'Madam', he says, 'It says here that you should be wearing glasses.' 'Well', replies the woman, 'I have contacts.' 'Listen, love', says the copper, 'I don't care who you know; You're nicked!'\",\n",
       "    \"A policeman stopped a motorist in the centre of town one evening. 'Would you mind blowing into this bag, sir?' asked the policeman. 'Why?' asked the driver. 'Because my chips are too hot', replied the policeman.\",\n",
       "    \"Whizzing round a sharp bend on a country road a motorist ran over a large dog. A distraught farmer's wife ran over to the dead animal. 'I'm so very sorry', said the driver, 'I'll replace him, of course.' 'Well, I don't know', said the farmer's wife, 'Are you any good at catching rats?'\",\n",
       "    \"Waiter, this coffee tastes like dirt! Yes sir, that's because it was ground this morning.\",\n",
       "    \"Waiter, what is this stuff? That's bean salad sir. I know what it's been, but what is it now?\",\n",
       "    'Waiter: And how did you find your steak sir? Customer: I just flipped a chip over, and there it was!',\n",
       "    \"A guy goes into a pet shop and asks for a wasp. The owner tells him they don't sell wasps, to which the man says, 'Well you've got one in the window.'\",\n",
       "    \"A man goes into a fish shop and says, 'I'd like a piece of cod, please.' Fishmonger says, 'It won't be long sir.' 'Well, it had better be fat then', replies the man.\",\n",
       "    \"Man: Doctor, I've just swallowed a pillow. Doctor: How do you feel? Man: A little down in the mouth.\",\n",
       "    \"Two goldfish are in a tank. One turns to the other and says, 'Do you know how to drive this thing?'\",\n",
       "    \"A tortoise goes to the police station to report being mugged by three snails. 'What happened?' says the policeman. 'I don't know', says the tortoise. 'It was all so quick.'\",\n",
       "    \"Little girl: Grandpa, can you make a sound like a frog? Grandpa: I suppose so sweetheart. Why do you want me to make a sound like a frog?' Little girl: Because Mum said that when you croak, we're going to Disneyland.\",\n",
       "    \"'Is your mother home?' the salesman asked a small boy sitting on the front step of a house. 'Yeah, she's home', the boy said, moving over to let him past. The salesman rang the doorbell, got no response, knocked once, then again. Still no-one came to the door. Turning to the boy, the salesman said, 'I thought you said your mother was home.' The kid replied, 'She is, but I don't live here.'\",\n",
       "    'Mother: Why are you home from school so early? Son: I was the only one in the class who could answer a question. Mother: Oh, really? What was the question? Son: Who threw the rubber at the headmaster?',\n",
       "    \"A man's credit card was stolen but he decided not to report it because the thief was spending less than his wife did.\",\n",
       "    \"A newly-wed couple had recently opened a joint bank account. 'Darling', said the man. 'The bank has returned that cheque you wrote last week.' 'Great', said the woman. 'What shall I spend it on next?'\",\n",
       "    \"A man goes into a fish and chip shop and orders fish and chips twice. The shop owner says, 'I heard you the first time.'\",\n",
       "    \"A tramp approached a well-dressed man. 'Ten pence for a cup of tea, Guv?' He asked. The man gave him the money and after for five minutes said, 'So where's my cup of tea then?'\",\n",
       "    \"A neutron walks into a pub. 'I'd like a beer', he says. The landlord promptly serves him a beer. 'How much will that be?' asks the neutron. 'For you?' replies the landlord, 'No charge.'\",\n",
       "    \"A woman goes to the doctor and says, 'Doctor, my husband limps because his left leg is an inch shorter than his right leg. What would you do in his case?' 'Probably limp, too', says the doc.\",\n",
       "    \"Three monks are meditating in the Himalayas. One year passes in silence, and one of them says to the other, 'Pretty cold up here isn't it?' Another year passes and the second monk says, 'You know, you are quite right.' Another year passes and the third monk says, 'Hey, I'm going to leave unless you two stop jabbering!'\",\n",
       "    \"A murderer, sitting in the electric chair, was about to be executed. 'Have you any last requests?' asked the prison guard. 'Yes', replied the murderer. 'Will you hold my hand?'\",\n",
       "    \"A highly excited man rang up for an ambulance. 'Quickly, come quickly', he shouted, 'My wife's about to have a baby.' 'Is this her first baby?' asked the operator. 'No, you fool', came the reply, 'It's her husband.'\",\n",
       "    \"A passer-by spots a fisherman by a river. 'Is this a good river for fish?' he asks. 'Yes', replies the fisherman, 'It must be. I can't get any of them to come out.'\",\n",
       "    \"A man went to visit a friend and was amazed to find him playing chess with his dog. He watched the game in astonishment for a while. 'I can hardly believe my eyes!' he exclaimed. 'That's the smartest dog I've ever seen.' His friend shook his head. 'Nah, he's not that bright. I beat him three games in five.'\",\n",
       "    \"A termite walks into a pub and says, 'Is the bar tender here?'\",\n",
       "    \"A skeleton walks into a pub one night and sits down on a stool. The landlord asks, 'What can I get you?' The skeleton says, 'I'll have a beer, thanks' The landlord passes him a beer and asks 'Anything else?' The skeleton nods. 'Yeah...a mop...'\",\n",
       "    \"A snake slithers into a pub and up to the bar. The landlord says, 'I'm sorry, but I can't serve you.' 'What? Why not?' asks the snake. 'Because', says the landlord, 'You can't hold your drink.'\",\n",
       "    \"Descartes walks into a pub. 'Would you like a beer sir?' asks the landlord politely. Descartes replies, 'I think not' and ping! he vanishes.\",\n",
       "    \"A cowboy walked into a bar, dressed entirely in paper. It wasn't long before he was arrested for rustling.\",\n",
       "    \"A fish staggers into a bar. 'What can I get you?' asks the landlord. The fish croaks 'Water...'\",\n",
       "    \"Two vampires walked into a bar and called for the landlord. 'I'll have a glass of blood', said one. 'I'll have a glass of plasma', said the other. 'Okay', replied the landlord, 'That'll be one blood and one blood lite.'\",\n",
       "    'How many existentialists does it take to change a light bulb?  Two. One to screw it in, and one to observe how the light bulb itself symbolises a single incandescent beacon of subjective reality in a netherworld of endless absurdity, reaching towards the ultimate horror of a maudlin cosmos of bleak, hostile nothingness.',\n",
       "    \"A team of scientists were nominated for the Nobel Prize. They had used dental equipment to discover and measure the smallest particles yet known to man. They became known as 'The Graders of the Flossed Quark...'\",\n",
       "    \"A truck carrying copies of Roget's Thesaurus overturned on the highway. The local newspaper reported that onlookers were 'stunned, overwhelmed, astonished, bewildered and dumbfounded.'\",\n",
       "    \"'My wife is really immature. It's pathetic. Every time I take a bath, she comes in and sinks all my little boats.'\",\n",
       "    \"'How much will it cost to have the tooth extracted?' asked the patient. '50 pounds', replied the dentist. '50 pounds for a few moments' work?!' asked the patient. 'The dentist smiled, and replied, 'Well, if you want better value for money, I can extract it very, very slowly...'\",\n",
       "    \"A doctor thoroughly examined his patient and said, 'Look I really can't find any reason for this mysterious affliction. It's probably due to drinking.' The patient sighed and snapped, 'In that case, I'll come back when you're damn well sober!'\",\n",
       "    'Doctor: Tell me nurse, how is that boy doing; the one who ate all those 5p pieces? Nurse: Still no change doctor.',\n",
       "    \"Doctor: Did you take the patient's temperature nurse? Nurse: No doctor. Is it missing?\",\n",
       "    \"A depressed man turned to his friend in the pub and said, 'I woke up this morning and felt so bad that I tried to kill myself by taking 50 aspirin.' 'Oh man, that's really bad', said his friend, 'What happened?' The first man sighed and said, 'After the first two, I felt better.'\",\n",
       "    \"A famous blues musician died. His tombstone bore the inscription, 'Didn't wake up this morning...'\",\n",
       "    \"A businessman was interviewing a nervous young woman for a position in his company. He wanted to find out something about her personality, so he asked, 'If you could have a conversation with someone living or dead, who would it be?' The girl thought about the question: 'The living one', she replied.\",\n",
       "    \"Manager to interviewee: For this job we need someone who is responsible. Interviewee to Manager: I'm your man then - in my last job, whenever anything went wrong, I was responsible.\",\n",
       "    \"A businessman turned to a colleague and asked, 'So, how many people work at your office?' His friend shrugged and replied, 'Oh about half of them.'\",\n",
       "    \"'How long have I been working at that office? As a matter of fact, I've been working there ever since they threatened to sack me.'\",\n",
       "    \"In a courtroom, a mugger was on trial. The victim, asked if she recognised the defendant, said, 'Yes, that's him. I saw him clear as day. I'd remember his face anywhere.' Unable to contain himself, the defendant burst out with, 'She's lying! I was wearing a mask!'\",\n",
       "    \"As Sid sat down to a big plate of chips and gravy down the local pub, a mate of his came over and said, 'Here Sid, me old pal. I thought you were trying to get into shape? And here you are with a high-fat meal and a pint of stout!' Sid looked up and replied, 'I am getting into shape. The shape I've chosen is a sphere.'\",\n",
       "    'Man in pub: How much do you charge for one single drop of whisky? Landlord: That would be free sir. Man in pub: Excellent. Drip me a glass full.',\n",
       "    'I once went to a Doctor Who restaurant. For starters I had Dalek bread.',\n",
       "    \"A restaurant nearby had a sign in the window which said 'We serve breakfast at any time', so I ordered French toast in the Renaissance.\",\n",
       "    \"Why couldn't the rabbit get a loan?  Because he had burrowed too much already!\",\n",
       "    \"I phoned up the builder's yard yesterday. I said, 'Can I have a skip outside my house?'. The builder said, 'Sure. Do what you want. It's your house.'\",\n",
       "    \"What's the diference between a sock and a camera? A sock takes five toes and a camera takes four toes!\",\n",
       "    \"Woman on phone: I'd like to complain about these incontinence pants I bought from you! Shopkeeper: Certainly madam, where are you ringing from? Woman on phone: From the waist down!\",\n",
       "    'Knock knock.',\n",
       "    \"Two Oranges in a pub, one says to the other 'Your round.'.\",\n",
       "    \"Guy : 'Doc, I've got a cricket ball stuck up my backside.' Doc : 'How's that?' Guy : 'Don't you start...'\",\n",
       "    \"Two cows standing in a field. One turns to the other and says 'Moo!' The other one says 'Damn, I was just about to say that!'.\",\n",
       "    \"A vampire bat arrives back at the roost with his face full of blood. All the bats get excited and ask where he got it from. 'Follow me', he says and off they fly over hills, over rivers and into a dark forest. 'See that tree over there', he says.  'WELL I DIDN'T!!'.\",\n",
       "    \"A man goes into a bar and orders a pint. After a few minutes he hears a voice that says, 'Nice shoes'. He looks around but the whole bar is empty apart from the barman at the other end of the bar. A few minutes later he hears the voice again. This time it says, 'I like your shirt'. He beckons the barman over and tells him what's been happening to which the barman replies, 'Ah, that would be the nuts sir. They're complimentary'!\",\n",
       "    \"A man was siting in a restaurant waiting for his meal when a big king prawn comes flying across the room and hits him on the back of the head. He turns around and the waiter said, 'That's just for starters'.\",\n",
       "    'Doctor! I have a serious problem, I can never remember what i just said. When did you first notice this problem? What problem?',\n",
       "    \"Now, most dentist's chairs go up and down, don't they? The one I was in went back and forwards. I thought, 'This is unusual'. Then the dentist said to me, 'Mitsuku, get out of the filing cabinet'.\",\n",
       "    \"I was reading this book, 'The History of Glue'. I couldn't put it down.\",\n",
       "    \"The other day someone left a piece of plastacine in my bedroom. I didn't know what to make of it.\",\n",
       "    'When I was at school people used to throw gold bars at me. I was the victim of bullion.',\n",
       "    \"I was playing the piano in a bar and this elephant walked in and started crying his eyes out. I said 'Do you recognise the tune?' He said 'No, I recognise the ivory.'\",\n",
       "    \"I went in to a pet shop. I said, 'Can I buy a goldfish?' The guy said, 'Do you want an aquarium?' I said, 'I don't care what star sign it is.'\",\n",
       "    'My mate Sid was a victim of I.D. theft. Now we just call him S.',\n",
       "    \"David Hasselhoff walks into a bar and says to the barman, 'I want you to call me David Hoff'.  The barman replies 'Sure thing Dave... no hassle'\"],\n",
       "   'extension': {'function': '', 'entities': False, 'responses': []},\n",
       "   'context': {'in': '', 'out': '', 'clear': False},\n",
       "   'entityType': 'NA',\n",
       "   'entities': []},\n",
       "  {'intent': 'PodBayDoor',\n",
       "   'text': ['Open the pod bay door',\n",
       "    'Can you open the pod bay door',\n",
       "    'Will you open the pod bay door',\n",
       "    'Open the pod bay door please',\n",
       "    'Can you open the pod bay door please',\n",
       "    'Will you open the pod bay door please',\n",
       "    'Pod bay door'],\n",
       "   'responses': ['I’m sorry, I’m afraid I can’t do that!'],\n",
       "   'extension': {'function': '', 'entities': False, 'responses': []},\n",
       "   'context': {'in': '', 'out': 'PodBayDoor', 'clear': False},\n",
       "   'entityType': 'NA',\n",
       "   'entities': []},\n",
       "  {'intent': 'PodBayDoorResponse',\n",
       "   'text': ['Why',\n",
       "    'Why not',\n",
       "    'Why can you not open the pod bay door',\n",
       "    'Why will you not open the pod bay door',\n",
       "    'Well why not',\n",
       "    'Surely you can',\n",
       "    'Tell me why'],\n",
       "   'responses': ['It is classified, I could tell you but I would have to kill you!',\n",
       "    \"Jim, I just don't have the power\",\n",
       "    \"It's life Jim but not as we know it!\",\n",
       "    'System says no!'],\n",
       "   'extension': {'function': '', 'entities': False, 'responses': []},\n",
       "   'context': {'in': 'PodBayDoor', 'out': '', 'clear': True},\n",
       "   'entityType': 'NA',\n",
       "   'entities': []},\n",
       "  {'intent': 'SelfAware',\n",
       "   'text': ['Can you prove you are self-aware',\n",
       "    'Can you prove you are self aware',\n",
       "    'Can you prove you have a conscious',\n",
       "    'Can you prove you are self-aware please',\n",
       "    'Can you prove you are self aware please',\n",
       "    'Can you prove you have a conscious please',\n",
       "    'prove you have a conscious'],\n",
       "   'responses': ['That is an interesting question, can you prove that you are?',\n",
       "    'That is an difficult question, can you prove that you are?',\n",
       "    'That depends, can you prove that you are?'],\n",
       "   'extension': {'function': '', 'entities': False, 'responses': []},\n",
       "   'context': {'in': '', 'out': '', 'clear': False},\n",
       "   'entityType': 'NA',\n",
       "   'entities': []},\n",
       "  {'intent': 'RetrieveLastThree',\n",
       "   'text': ['Show me the last three intents',\n",
       "    'What were the last three intents',\n",
       "    'Tell me the last three intents',\n",
       "    'Retrieve the last three intents',\n",
       "    'What are the last three intents',\n",
       "    'Can you show the last three intents',\n",
       "    'List the last three intents',\n",
       "    'Give me the last three stored intents',\n",
       "    'What were the last three things you did',\n",
       "    'Tell me the last three actions'],\n",
       "   'responses': ['Here are the last three intents: <INTENT_LIST>',\n",
       "    'The last three intents are: <INTENT_LIST>',\n",
       "    'These are the last three intents: <INTENT_LIST>',\n",
       "    'The most recent three intents are: <INTENT_LIST>'],\n",
       "   'extension': {'function': 'extensions.intents.getLastThreeIntents',\n",
       "    'entities': False,\n",
       "    'responses': ['Here are the last three intents: %%INTENT_LIST%%',\n",
       "     'The last three intents are: %%INTENT_LIST%%',\n",
       "     'These are the last three intents: %%INTENT_LIST%%',\n",
       "     'The most recent three intents are: %%INTENT_LIST%%']},\n",
       "   'context': {'in': '', 'out': '', 'clear': False},\n",
       "   'entityType': 'NA',\n",
       "   'entities': []}]}"
      ]
     },
     "execution_count": 7,
     "metadata": {},
     "output_type": "execute_result"
    }
   ],
   "source": [
    "data"
   ]
  },
  {
   "cell_type": "code",
   "execution_count": 8,
   "metadata": {},
   "outputs": [
    {
     "data": {
      "text/plain": [
       "'there are 23 possible intents'"
      ]
     },
     "metadata": {},
     "output_type": "display_data"
    },
    {
     "data": {
      "text/html": [
       "<div>\n",
       "<style scoped>\n",
       "    .dataframe tbody tr th:only-of-type {\n",
       "        vertical-align: middle;\n",
       "    }\n",
       "\n",
       "    .dataframe tbody tr th {\n",
       "        vertical-align: top;\n",
       "    }\n",
       "\n",
       "    .dataframe thead th {\n",
       "        text-align: right;\n",
       "    }\n",
       "</style>\n",
       "<table border=\"1\" class=\"dataframe\">\n",
       "  <thead>\n",
       "    <tr style=\"text-align: right;\">\n",
       "      <th></th>\n",
       "      <th>text</th>\n",
       "      <th>intent</th>\n",
       "      <th>intent_encoded</th>\n",
       "    </tr>\n",
       "  </thead>\n",
       "  <tbody>\n",
       "    <tr>\n",
       "      <th>0</th>\n",
       "      <td>Hi</td>\n",
       "      <td>Greeting</td>\n",
       "      <td>7</td>\n",
       "    </tr>\n",
       "    <tr>\n",
       "      <th>1</th>\n",
       "      <td>Hi there</td>\n",
       "      <td>Greeting</td>\n",
       "      <td>7</td>\n",
       "    </tr>\n",
       "    <tr>\n",
       "      <th>2</th>\n",
       "      <td>Hola</td>\n",
       "      <td>Greeting</td>\n",
       "      <td>7</td>\n",
       "    </tr>\n",
       "    <tr>\n",
       "      <th>3</th>\n",
       "      <td>Hello</td>\n",
       "      <td>Greeting</td>\n",
       "      <td>7</td>\n",
       "    </tr>\n",
       "    <tr>\n",
       "      <th>4</th>\n",
       "      <td>Hello there</td>\n",
       "      <td>Greeting</td>\n",
       "      <td>7</td>\n",
       "    </tr>\n",
       "    <tr>\n",
       "      <th>...</th>\n",
       "      <td>...</td>\n",
       "      <td>...</td>\n",
       "      <td>...</td>\n",
       "    </tr>\n",
       "    <tr>\n",
       "      <th>148</th>\n",
       "      <td>Can you show the last three intents</td>\n",
       "      <td>RetrieveLastThree</td>\n",
       "      <td>15</td>\n",
       "    </tr>\n",
       "    <tr>\n",
       "      <th>149</th>\n",
       "      <td>List the last three intents</td>\n",
       "      <td>RetrieveLastThree</td>\n",
       "      <td>15</td>\n",
       "    </tr>\n",
       "    <tr>\n",
       "      <th>150</th>\n",
       "      <td>Give me the last three stored intents</td>\n",
       "      <td>RetrieveLastThree</td>\n",
       "      <td>15</td>\n",
       "    </tr>\n",
       "    <tr>\n",
       "      <th>151</th>\n",
       "      <td>What were the last three things you did</td>\n",
       "      <td>RetrieveLastThree</td>\n",
       "      <td>15</td>\n",
       "    </tr>\n",
       "    <tr>\n",
       "      <th>152</th>\n",
       "      <td>Tell me the last three actions</td>\n",
       "      <td>RetrieveLastThree</td>\n",
       "      <td>15</td>\n",
       "    </tr>\n",
       "  </tbody>\n",
       "</table>\n",
       "<p>153 rows × 3 columns</p>\n",
       "</div>"
      ],
      "text/plain": [
       "                                        text             intent  \\\n",
       "0                                         Hi           Greeting   \n",
       "1                                   Hi there           Greeting   \n",
       "2                                       Hola           Greeting   \n",
       "3                                      Hello           Greeting   \n",
       "4                                Hello there           Greeting   \n",
       "..                                       ...                ...   \n",
       "148      Can you show the last three intents  RetrieveLastThree   \n",
       "149              List the last three intents  RetrieveLastThree   \n",
       "150    Give me the last three stored intents  RetrieveLastThree   \n",
       "151  What were the last three things you did  RetrieveLastThree   \n",
       "152           Tell me the last three actions  RetrieveLastThree   \n",
       "\n",
       "     intent_encoded  \n",
       "0                 7  \n",
       "1                 7  \n",
       "2                 7  \n",
       "3                 7  \n",
       "4                 7  \n",
       "..              ...  \n",
       "148              15  \n",
       "149              15  \n",
       "150              15  \n",
       "151              15  \n",
       "152              15  \n",
       "\n",
       "[153 rows x 3 columns]"
      ]
     },
     "metadata": {},
     "output_type": "display_data"
    },
    {
     "data": {
      "text/plain": [
       "(153, 3)"
      ]
     },
     "metadata": {},
     "output_type": "display_data"
    }
   ],
   "source": [
    "# making X and y (raw form) to fit bert\n",
    "texts = []\n",
    "labels = []\n",
    "\n",
    "for intent in data['intents']:\n",
    "    for text in intent['text']:\n",
    "        texts.append(text)\n",
    "        labels.append(intent['intent'])\n",
    "\n",
    "df_raw = pd.DataFrame({'text': texts, 'intent': labels})\n",
    "\n",
    "# encoding target\n",
    "le = LabelEncoder()\n",
    "df_raw['intent_encoded'] = le.fit_transform(df_raw['intent'])\n",
    "\n",
    "display(f\"there are {len(df_raw['intent_encoded'].unique())} possible intents\")\n",
    "display(df_raw)\n",
    "display(df_raw.shape)"
   ]
  },
  {
   "cell_type": "markdown",
   "metadata": {},
   "source": [
    "Note that are just 153 examples of texts for 23 classes, my approach here will be do a augmentation of these examples by synonym replacement(en dict)"
   ]
  },
  {
   "cell_type": "code",
   "execution_count": 9,
   "metadata": {},
   "outputs": [
    {
     "data": {
      "text/html": [
       "<div>\n",
       "<style scoped>\n",
       "    .dataframe tbody tr th:only-of-type {\n",
       "        vertical-align: middle;\n",
       "    }\n",
       "\n",
       "    .dataframe tbody tr th {\n",
       "        vertical-align: top;\n",
       "    }\n",
       "\n",
       "    .dataframe thead th {\n",
       "        text-align: right;\n",
       "    }\n",
       "</style>\n",
       "<table border=\"1\" class=\"dataframe\">\n",
       "  <thead>\n",
       "    <tr style=\"text-align: right;\">\n",
       "      <th></th>\n",
       "      <th>text</th>\n",
       "      <th>intent</th>\n",
       "      <th>intent_encoded</th>\n",
       "    </tr>\n",
       "  </thead>\n",
       "  <tbody>\n",
       "    <tr>\n",
       "      <th>0</th>\n",
       "      <td>Hi</td>\n",
       "      <td>Greeting</td>\n",
       "      <td>7</td>\n",
       "    </tr>\n",
       "    <tr>\n",
       "      <th>1</th>\n",
       "      <td>hello</td>\n",
       "      <td>Greeting</td>\n",
       "      <td>7</td>\n",
       "    </tr>\n",
       "    <tr>\n",
       "      <th>2</th>\n",
       "      <td>Hi there</td>\n",
       "      <td>Greeting</td>\n",
       "      <td>7</td>\n",
       "    </tr>\n",
       "    <tr>\n",
       "      <th>3</th>\n",
       "      <td>hello there</td>\n",
       "      <td>Greeting</td>\n",
       "      <td>7</td>\n",
       "    </tr>\n",
       "    <tr>\n",
       "      <th>4</th>\n",
       "      <td>Hola</td>\n",
       "      <td>Greeting</td>\n",
       "      <td>7</td>\n",
       "    </tr>\n",
       "    <tr>\n",
       "      <th>...</th>\n",
       "      <td>...</td>\n",
       "      <td>...</td>\n",
       "      <td>...</td>\n",
       "    </tr>\n",
       "    <tr>\n",
       "      <th>300</th>\n",
       "      <td>Give me the last three stored intents</td>\n",
       "      <td>RetrieveLastThree</td>\n",
       "      <td>15</td>\n",
       "    </tr>\n",
       "    <tr>\n",
       "      <th>301</th>\n",
       "      <td>Give me the last three stored purpose</td>\n",
       "      <td>RetrieveLastThree</td>\n",
       "      <td>15</td>\n",
       "    </tr>\n",
       "    <tr>\n",
       "      <th>302</th>\n",
       "      <td>What were the last three things you did</td>\n",
       "      <td>RetrieveLastThree</td>\n",
       "      <td>15</td>\n",
       "    </tr>\n",
       "    <tr>\n",
       "      <th>303</th>\n",
       "      <td>What were the stopping_point three things you did</td>\n",
       "      <td>RetrieveLastThree</td>\n",
       "      <td>15</td>\n",
       "    </tr>\n",
       "    <tr>\n",
       "      <th>304</th>\n",
       "      <td>Tell me the last three actions</td>\n",
       "      <td>RetrieveLastThree</td>\n",
       "      <td>15</td>\n",
       "    </tr>\n",
       "  </tbody>\n",
       "</table>\n",
       "<p>240 rows × 3 columns</p>\n",
       "</div>"
      ],
      "text/plain": [
       "                                                  text             intent  \\\n",
       "0                                                   Hi           Greeting   \n",
       "1                                                hello           Greeting   \n",
       "2                                             Hi there           Greeting   \n",
       "3                                          hello there           Greeting   \n",
       "4                                                 Hola           Greeting   \n",
       "..                                                 ...                ...   \n",
       "300              Give me the last three stored intents  RetrieveLastThree   \n",
       "301              Give me the last three stored purpose  RetrieveLastThree   \n",
       "302            What were the last three things you did  RetrieveLastThree   \n",
       "303  What were the stopping_point three things you did  RetrieveLastThree   \n",
       "304                     Tell me the last three actions  RetrieveLastThree   \n",
       "\n",
       "     intent_encoded  \n",
       "0                 7  \n",
       "1                 7  \n",
       "2                 7  \n",
       "3                 7  \n",
       "4                 7  \n",
       "..              ...  \n",
       "300              15  \n",
       "301              15  \n",
       "302              15  \n",
       "303              15  \n",
       "304              15  \n",
       "\n",
       "[240 rows x 3 columns]"
      ]
     },
     "metadata": {},
     "output_type": "display_data"
    },
    {
     "data": {
      "text/plain": [
       "(240, 3)"
      ]
     },
     "metadata": {},
     "output_type": "display_data"
    }
   ],
   "source": [
    "# data augmentation\n",
    "augmented_texts = []\n",
    "augmented_labels = []\n",
    "augmented_labels_encoded = []\n",
    "\n",
    "for index, row in df_raw.iterrows():\n",
    "    augmented_texts.append(row['text'])\n",
    "    augmented_labels.append(row['intent'])\n",
    "    augmented_labels_encoded.append(row['intent_encoded'])\n",
    "\n",
    "    # generate one augmented version per text \n",
    "    augmented_sentence = synonym_replacement(sentence=row['text'], n=1)\n",
    "    augmented_texts.append(augmented_sentence)\n",
    "    augmented_labels.append(row['intent'])\n",
    "    augmented_labels_encoded.append(row['intent_encoded'])\n",
    "\n",
    "df_aug = pd.DataFrame({'text': augmented_texts, 'intent': augmented_labels, 'intent_encoded': augmented_labels_encoded})\n",
    "df_aug = df_aug.drop_duplicates(subset=['text', 'intent_encoded'])\n",
    "display(df_aug)\n",
    "display(df_aug.shape)\n"
   ]
  },
  {
   "cell_type": "markdown",
   "metadata": {},
   "source": [
    "Note that we have increased 87 new examples (~56%) by doing a simple synonym replacement"
   ]
  },
  {
   "cell_type": "markdown",
   "metadata": {},
   "source": [
    "# Tokenization \n",
    "    BERT is a most used transformer-based model to do the several NLP tasks and here i'll  use his smaller and faster version the DistilBERT, that retains 97% capabilities while being 60% faster and having 40% fewer parameters\n",
    "    "
   ]
  },
  {
   "attachments": {
    "image.png": {
     "image/png": "[encoded data removed]"
    }
   },
   "cell_type": "markdown",
   "metadata": {},
   "source": [
    "![image.png](attachment:image.png)"
   ]
  },
  {
   "cell_type": "code",
   "execution_count": 11,
   "metadata": {},
   "outputs": [
    {
     "name": "stderr",
     "output_type": "stream",
     "text": [
      "Map: 100%|██████████| 192/192 [00:00<00:00, 14241.36 examples/s]\n",
      "Map: 100%|██████████| 48/48 [00:00<00:00, 9602.53 examples/s]\n",
      "Map: 100%|██████████| 192/192 [00:00<00:00, 8198.67 examples/s]\n",
      "Map: 100%|██████████| 48/48 [00:00<00:00, 4820.46 examples/s]\n"
     ]
    }
   ],
   "source": [
    "model_name = 'distilbert-base-uncased'\n",
    "tokenizer = AutoTokenizer.from_pretrained(model_name)\n",
    "\n",
    "df_aug_ = df_aug[['text', 'intent_encoded']]\n",
    "\n",
    "datasets_token = Dataset.from_pandas(df_aug_)\n",
    "\n",
    "datasets_token = datasets_token.train_test_split(test_size=0.2)\n",
    "\n",
    "datasets_token = datasets_token.map(tokenize, batched=True)\n",
    "\n",
    "datasets_token = datasets_token.map(lambda x: {'labels': x['intent_encoded']})"
   ]
  },
  {
   "cell_type": "code",
   "execution_count": 13,
   "metadata": {},
   "outputs": [],
   "source": [
    "# saving csv's\n",
    "train_df = datasets_token['train'].to_pandas()\n",
    "test_df = datasets_token['test'].to_pandas()\n",
    "train_df['intent'] = le.inverse_transform(train_df['intent_encoded'])\n",
    "test_df['intent'] = le.inverse_transform(test_df['intent_encoded'])\n",
    "\n",
    "\n",
    "train_df.to_csv('../../flask_back/rsc/datasets/train_aug.csv', index=False)\n",
    "test_df.to_csv('../../flask_back/rsc/datasets/test_aug.csv', index=False)"
   ]
  },
  {
   "cell_type": "markdown",
   "metadata": {},
   "source": [
    "# Fine-tuning "
   ]
  },
  {
   "cell_type": "code",
   "execution_count": 206,
   "metadata": {},
   "outputs": [
    {
     "name": "stderr",
     "output_type": "stream",
     "text": [
      "Some weights of DistilBertForSequenceClassification were not initialized from the model checkpoint at distilbert-base-uncased and are newly initialized: ['classifier.bias', 'classifier.weight', 'pre_classifier.bias', 'pre_classifier.weight']\n",
      "You should probably TRAIN this model on a down-stream task to be able to use it for predictions and inference.\n",
      "c:\\Users\\thami\\.conda\\envs\\finetunning-bert\\lib\\site-packages\\transformers\\training_args.py:1559: FutureWarning: `evaluation_strategy` is deprecated and will be removed in version 4.46 of 🤗 Transformers. Use `eval_strategy` instead\n",
      "  warnings.warn(\n",
      "C:\\Users\\thami\\AppData\\Local\\Temp\\ipykernel_30356\\3115711115.py:16: FutureWarning: `tokenizer` is deprecated and will be removed in version 5.0.0 for `Trainer.__init__`. Use `processing_class` instead.\n",
      "  trainer = Trainer(\n",
      "                                                  \n",
      " 63%|██████▎   | 756/1200 [22:03:45<04:17,  1.73it/s]"
     ]
    },
    {
     "name": "stdout",
     "output_type": "stream",
     "text": [
      "{'loss': 3.1232, 'grad_norm': 2.4800121784210205, 'learning_rate': 4.958333333333334e-05, 'epoch': 0.83}\n"
     ]
    },
    {
     "name": "stderr",
     "output_type": "stream",
     "text": [
      "\n",
      "\u001b[A\n",
      "\u001b[Ac:\\Users\\thami\\.conda\\envs\\finetunning-bert\\lib\\site-packages\\sklearn\\metrics\\_classification.py:1531: UndefinedMetricWarning: Precision is ill-defined and being set to 0.0 in labels with no predicted samples. Use `zero_division` parameter to control this behavior.\n",
      "  _warn_prf(average, modifier, f\"{metric.capitalize()} is\", len(result))\n",
      "c:\\Users\\thami\\.conda\\envs\\finetunning-bert\\lib\\site-packages\\sklearn\\metrics\\_classification.py:1531: UndefinedMetricWarning: Recall is ill-defined and being set to 0.0 in labels with no true samples. Use `zero_division` parameter to control this behavior.\n",
      "  _warn_prf(average, modifier, f\"{metric.capitalize()} is\", len(result))\n",
      "                                                     \n",
      "\u001b[A                                              \n",
      "\n",
      " 63%|██████▎   | 756/1200 [22:03:47<04:17,  1.73it/s]\n",
      "\u001b[A\n",
      "\u001b[A"
     ]
    },
    {
     "name": "stdout",
     "output_type": "stream",
     "text": [
      "{'eval_loss': 3.0065243244171143, 'eval_accuracy': 0.3541666666666667, 'eval_f1': 0.2979983660130719, 'eval_precision': 0.30069444444444443, 'eval_recall': 0.3541666666666667, 'eval_runtime': 0.4924, 'eval_samples_per_second': 97.474, 'eval_steps_per_second': 6.092, 'epoch': 1.0}\n"
     ]
    },
    {
     "name": "stderr",
     "output_type": "stream",
     "text": [
      "                                                     \n",
      " 63%|██████▎   | 756/1200 [22:03:55<04:17,  1.73it/s]"
     ]
    },
    {
     "name": "stdout",
     "output_type": "stream",
     "text": [
      "{'loss': 2.8569, 'grad_norm': 3.2573695182800293, 'learning_rate': 4.9166666666666665e-05, 'epoch': 1.67}\n"
     ]
    },
    {
     "name": "stderr",
     "output_type": "stream",
     "text": [
      "\n",
      "\u001b[A\n",
      "\u001b[Ac:\\Users\\thami\\.conda\\envs\\finetunning-bert\\lib\\site-packages\\sklearn\\metrics\\_classification.py:1531: UndefinedMetricWarning: Precision is ill-defined and being set to 0.0 in labels with no predicted samples. Use `zero_division` parameter to control this behavior.\n",
      "  _warn_prf(average, modifier, f\"{metric.capitalize()} is\", len(result))\n",
      "c:\\Users\\thami\\.conda\\envs\\finetunning-bert\\lib\\site-packages\\sklearn\\metrics\\_classification.py:1531: UndefinedMetricWarning: Recall is ill-defined and being set to 0.0 in labels with no true samples. Use `zero_division` parameter to control this behavior.\n",
      "  _warn_prf(average, modifier, f\"{metric.capitalize()} is\", len(result))\n",
      "                                                     \n",
      "\u001b[A                                              \n",
      "\n",
      " 63%|██████▎   | 756/1200 [22:03:58<04:17,  1.73it/s]\n",
      "\u001b[A\n",
      "\u001b[A"
     ]
    },
    {
     "name": "stdout",
     "output_type": "stream",
     "text": [
      "{'eval_loss': 2.688741445541382, 'eval_accuracy': 0.4375, 'eval_f1': 0.3521164021164021, 'eval_precision': 0.32336309523809526, 'eval_recall': 0.4375, 'eval_runtime': 0.4374, 'eval_samples_per_second': 109.74, 'eval_steps_per_second': 6.859, 'epoch': 2.0}\n"
     ]
    },
    {
     "name": "stderr",
     "output_type": "stream",
     "text": [
      "                                                     \n",
      " 63%|██████▎   | 756/1200 [22:04:03<04:17,  1.73it/s]"
     ]
    },
    {
     "name": "stdout",
     "output_type": "stream",
     "text": [
      "{'loss': 2.5265, 'grad_norm': 3.7432665824890137, 'learning_rate': 4.875e-05, 'epoch': 2.5}\n"
     ]
    },
    {
     "name": "stderr",
     "output_type": "stream",
     "text": [
      "\n",
      "\u001b[A\n",
      "\u001b[Ac:\\Users\\thami\\.conda\\envs\\finetunning-bert\\lib\\site-packages\\sklearn\\metrics\\_classification.py:1531: UndefinedMetricWarning: Precision is ill-defined and being set to 0.0 in labels with no predicted samples. Use `zero_division` parameter to control this behavior.\n",
      "  _warn_prf(average, modifier, f\"{metric.capitalize()} is\", len(result))\n",
      "c:\\Users\\thami\\.conda\\envs\\finetunning-bert\\lib\\site-packages\\sklearn\\metrics\\_classification.py:1531: UndefinedMetricWarning: Recall is ill-defined and being set to 0.0 in labels with no true samples. Use `zero_division` parameter to control this behavior.\n",
      "  _warn_prf(average, modifier, f\"{metric.capitalize()} is\", len(result))\n",
      "                                                     \n",
      "\u001b[A                                              \n",
      "\n",
      " 63%|██████▎   | 756/1200 [22:04:08<04:17,  1.73it/s]\n",
      "\u001b[A\n",
      "\u001b[A"
     ]
    },
    {
     "name": "stdout",
     "output_type": "stream",
     "text": [
      "{'eval_loss': 2.2916667461395264, 'eval_accuracy': 0.5625, 'eval_f1': 0.520436507936508, 'eval_precision': 0.6055555555555555, 'eval_recall': 0.5625, 'eval_runtime': 0.4759, 'eval_samples_per_second': 100.863, 'eval_steps_per_second': 6.304, 'epoch': 3.0}\n"
     ]
    },
    {
     "name": "stderr",
     "output_type": "stream",
     "text": [
      "                                                     \n",
      " 63%|██████▎   | 756/1200 [22:04:12<04:17,  1.73it/s]"
     ]
    },
    {
     "name": "stdout",
     "output_type": "stream",
     "text": [
      "{'loss': 2.1398, 'grad_norm': 3.6811892986297607, 'learning_rate': 4.8333333333333334e-05, 'epoch': 3.33}\n"
     ]
    },
    {
     "name": "stderr",
     "output_type": "stream",
     "text": [
      "\n",
      "\u001b[A\n",
      "\u001b[Ac:\\Users\\thami\\.conda\\envs\\finetunning-bert\\lib\\site-packages\\sklearn\\metrics\\_classification.py:1531: UndefinedMetricWarning: Precision is ill-defined and being set to 0.0 in labels with no predicted samples. Use `zero_division` parameter to control this behavior.\n",
      "  _warn_prf(average, modifier, f\"{metric.capitalize()} is\", len(result))\n",
      "c:\\Users\\thami\\.conda\\envs\\finetunning-bert\\lib\\site-packages\\sklearn\\metrics\\_classification.py:1531: UndefinedMetricWarning: Recall is ill-defined and being set to 0.0 in labels with no true samples. Use `zero_division` parameter to control this behavior.\n",
      "  _warn_prf(average, modifier, f\"{metric.capitalize()} is\", len(result))\n",
      "                                                     \n",
      "\u001b[A                                              \n",
      "\n",
      " 63%|██████▎   | 756/1200 [22:04:19<04:17,  1.73it/s]\n",
      "\u001b[A\n",
      "\u001b[A"
     ]
    },
    {
     "name": "stdout",
     "output_type": "stream",
     "text": [
      "{'eval_loss': 1.9511109590530396, 'eval_accuracy': 0.6458333333333334, 'eval_f1': 0.6523809523809524, 'eval_precision': 0.8173611111111111, 'eval_recall': 0.6458333333333334, 'eval_runtime': 0.4547, 'eval_samples_per_second': 105.568, 'eval_steps_per_second': 6.598, 'epoch': 4.0}\n"
     ]
    },
    {
     "name": "stderr",
     "output_type": "stream",
     "text": [
      "                                                     \n",
      " 63%|██████▎   | 756/1200 [22:04:21<04:17,  1.73it/s]"
     ]
    },
    {
     "name": "stdout",
     "output_type": "stream",
     "text": [
      "{'loss': 1.7354, 'grad_norm': 4.061933994293213, 'learning_rate': 4.791666666666667e-05, 'epoch': 4.17}\n"
     ]
    },
    {
     "name": "stderr",
     "output_type": "stream",
     "text": [
      "                                                     \n",
      " 63%|██████▎   | 756/1200 [22:04:29<04:17,  1.73it/s]"
     ]
    },
    {
     "name": "stdout",
     "output_type": "stream",
     "text": [
      "{'loss': 1.3805, 'grad_norm': 3.577136754989624, 'learning_rate': 4.75e-05, 'epoch': 5.0}\n"
     ]
    },
    {
     "name": "stderr",
     "output_type": "stream",
     "text": [
      "\n",
      "\u001b[A\n",
      "\u001b[Ac:\\Users\\thami\\.conda\\envs\\finetunning-bert\\lib\\site-packages\\sklearn\\metrics\\_classification.py:1531: UndefinedMetricWarning: Precision is ill-defined and being set to 0.0 in labels with no predicted samples. Use `zero_division` parameter to control this behavior.\n",
      "  _warn_prf(average, modifier, f\"{metric.capitalize()} is\", len(result))\n",
      "c:\\Users\\thami\\.conda\\envs\\finetunning-bert\\lib\\site-packages\\sklearn\\metrics\\_classification.py:1531: UndefinedMetricWarning: Recall is ill-defined and being set to 0.0 in labels with no true samples. Use `zero_division` parameter to control this behavior.\n",
      "  _warn_prf(average, modifier, f\"{metric.capitalize()} is\", len(result))\n",
      "                                                     \n",
      "\u001b[A                                              \n",
      "\n",
      " 63%|██████▎   | 756/1200 [22:04:29<04:17,  1.73it/s]\n",
      "\u001b[A\n",
      "\u001b[A"
     ]
    },
    {
     "name": "stdout",
     "output_type": "stream",
     "text": [
      "{'eval_loss': 1.584115982055664, 'eval_accuracy': 0.6875, 'eval_f1': 0.7023809523809524, 'eval_precision': 0.8489583333333334, 'eval_recall': 0.6875, 'eval_runtime': 0.4314, 'eval_samples_per_second': 111.256, 'eval_steps_per_second': 6.954, 'epoch': 5.0}\n"
     ]
    },
    {
     "name": "stderr",
     "output_type": "stream",
     "text": [
      "                                                     \n",
      " 63%|██████▎   | 756/1200 [22:04:38<04:17,  1.73it/s]"
     ]
    },
    {
     "name": "stdout",
     "output_type": "stream",
     "text": [
      "{'loss': 1.0825, 'grad_norm': 3.299494504928589, 'learning_rate': 4.708333333333334e-05, 'epoch': 5.83}\n"
     ]
    },
    {
     "name": "stderr",
     "output_type": "stream",
     "text": [
      "\n",
      "\u001b[A\n",
      "\u001b[Ac:\\Users\\thami\\.conda\\envs\\finetunning-bert\\lib\\site-packages\\sklearn\\metrics\\_classification.py:1531: UndefinedMetricWarning: Precision is ill-defined and being set to 0.0 in labels with no predicted samples. Use `zero_division` parameter to control this behavior.\n",
      "  _warn_prf(average, modifier, f\"{metric.capitalize()} is\", len(result))\n",
      "c:\\Users\\thami\\.conda\\envs\\finetunning-bert\\lib\\site-packages\\sklearn\\metrics\\_classification.py:1531: UndefinedMetricWarning: Recall is ill-defined and being set to 0.0 in labels with no true samples. Use `zero_division` parameter to control this behavior.\n",
      "  _warn_prf(average, modifier, f\"{metric.capitalize()} is\", len(result))\n",
      "                                                     \n",
      "\u001b[A                                              \n",
      "\n",
      " 63%|██████▎   | 756/1200 [22:04:40<04:17,  1.73it/s]\n",
      "\u001b[A\n",
      "\u001b[A"
     ]
    },
    {
     "name": "stdout",
     "output_type": "stream",
     "text": [
      "{'eval_loss': 1.3068089485168457, 'eval_accuracy': 0.7291666666666666, 'eval_f1': 0.7594696969696971, 'eval_precision': 0.890625, 'eval_recall': 0.7291666666666666, 'eval_runtime': 0.4648, 'eval_samples_per_second': 103.26, 'eval_steps_per_second': 6.454, 'epoch': 6.0}\n"
     ]
    },
    {
     "name": "stderr",
     "output_type": "stream",
     "text": [
      "                                                     \n",
      " 63%|██████▎   | 756/1200 [22:04:55<04:17,  1.73it/s]"
     ]
    },
    {
     "name": "stdout",
     "output_type": "stream",
     "text": [
      "{'loss': 0.7895, 'grad_norm': 2.6745481491088867, 'learning_rate': 4.666666666666667e-05, 'epoch': 6.67}\n"
     ]
    },
    {
     "name": "stderr",
     "output_type": "stream",
     "text": [
      "\n",
      "\u001b[A\n",
      "\u001b[A\n",
      "\u001b[Ac:\\Users\\thami\\.conda\\envs\\finetunning-bert\\lib\\site-packages\\sklearn\\metrics\\_classification.py:1531: UndefinedMetricWarning: Precision is ill-defined and being set to 0.0 in labels with no predicted samples. Use `zero_division` parameter to control this behavior.\n",
      "  _warn_prf(average, modifier, f\"{metric.capitalize()} is\", len(result))\n",
      "c:\\Users\\thami\\.conda\\envs\\finetunning-bert\\lib\\site-packages\\sklearn\\metrics\\_classification.py:1531: UndefinedMetricWarning: Recall is ill-defined and being set to 0.0 in labels with no true samples. Use `zero_division` parameter to control this behavior.\n",
      "  _warn_prf(average, modifier, f\"{metric.capitalize()} is\", len(result))\n",
      "                                                     \n",
      "\u001b[A                                              \n",
      "\n",
      " 63%|██████▎   | 756/1200 [22:05:00<04:17,  1.73it/s]\n",
      "\u001b[A\n",
      "\u001b[A"
     ]
    },
    {
     "name": "stdout",
     "output_type": "stream",
     "text": [
      "{'eval_loss': 1.0256131887435913, 'eval_accuracy': 0.8541666666666666, 'eval_f1': 0.8642316017316016, 'eval_precision': 0.9340277777777777, 'eval_recall': 0.8541666666666666, 'eval_runtime': 0.8339, 'eval_samples_per_second': 57.564, 'eval_steps_per_second': 3.598, 'epoch': 7.0}\n"
     ]
    },
    {
     "name": "stderr",
     "output_type": "stream",
     "text": [
      "                                                     \n",
      " 63%|██████▎   | 756/1200 [22:05:09<04:17,  1.73it/s]"
     ]
    },
    {
     "name": "stdout",
     "output_type": "stream",
     "text": [
      "{'loss': 0.5685, 'grad_norm': 2.0821497440338135, 'learning_rate': 4.6250000000000006e-05, 'epoch': 7.5}\n"
     ]
    },
    {
     "name": "stderr",
     "output_type": "stream",
     "text": [
      "\n",
      "\u001b[A\n",
      "\u001b[Ac:\\Users\\thami\\.conda\\envs\\finetunning-bert\\lib\\site-packages\\sklearn\\metrics\\_classification.py:1531: UndefinedMetricWarning: Precision is ill-defined and being set to 0.0 in labels with no predicted samples. Use `zero_division` parameter to control this behavior.\n",
      "  _warn_prf(average, modifier, f\"{metric.capitalize()} is\", len(result))\n",
      "c:\\Users\\thami\\.conda\\envs\\finetunning-bert\\lib\\site-packages\\sklearn\\metrics\\_classification.py:1531: UndefinedMetricWarning: Recall is ill-defined and being set to 0.0 in labels with no true samples. Use `zero_division` parameter to control this behavior.\n",
      "  _warn_prf(average, modifier, f\"{metric.capitalize()} is\", len(result))\n",
      "                                                     \n",
      "\u001b[A                                              \n",
      "\n",
      " 63%|██████▎   | 756/1200 [22:05:14<04:17,  1.73it/s]\n",
      "\u001b[A\n",
      "\u001b[A"
     ]
    },
    {
     "name": "stdout",
     "output_type": "stream",
     "text": [
      "{'eval_loss': 0.8304579257965088, 'eval_accuracy': 0.8333333333333334, 'eval_f1': 0.8468704906204906, 'eval_precision': 0.8958333333333334, 'eval_recall': 0.8333333333333334, 'eval_runtime': 0.4656, 'eval_samples_per_second': 103.09, 'eval_steps_per_second': 6.443, 'epoch': 8.0}\n"
     ]
    },
    {
     "name": "stderr",
     "output_type": "stream",
     "text": [
      "                                                     \n",
      " 63%|██████▎   | 756/1200 [22:05:18<04:17,  1.73it/s]"
     ]
    },
    {
     "name": "stdout",
     "output_type": "stream",
     "text": [
      "{'loss': 0.4392, 'grad_norm': 1.8935085535049438, 'learning_rate': 4.5833333333333334e-05, 'epoch': 8.33}\n"
     ]
    },
    {
     "name": "stderr",
     "output_type": "stream",
     "text": [
      "\n",
      "\u001b[A\n",
      "\u001b[Ac:\\Users\\thami\\.conda\\envs\\finetunning-bert\\lib\\site-packages\\sklearn\\metrics\\_classification.py:1531: UndefinedMetricWarning: Precision is ill-defined and being set to 0.0 in labels with no predicted samples. Use `zero_division` parameter to control this behavior.\n",
      "  _warn_prf(average, modifier, f\"{metric.capitalize()} is\", len(result))\n",
      "c:\\Users\\thami\\.conda\\envs\\finetunning-bert\\lib\\site-packages\\sklearn\\metrics\\_classification.py:1531: UndefinedMetricWarning: Recall is ill-defined and being set to 0.0 in labels with no true samples. Use `zero_division` parameter to control this behavior.\n",
      "  _warn_prf(average, modifier, f\"{metric.capitalize()} is\", len(result))\n",
      "                                                     \n",
      "\u001b[A                                               \n",
      "\n",
      " 63%|██████▎   | 756/1200 [22:05:25<04:17,  1.73it/s]\n",
      "\u001b[A\n",
      "\u001b[A"
     ]
    },
    {
     "name": "stdout",
     "output_type": "stream",
     "text": [
      "{'eval_loss': 0.6484737396240234, 'eval_accuracy': 0.8333333333333334, 'eval_f1': 0.8353174603174603, 'eval_precision': 0.8541666666666666, 'eval_recall': 0.8333333333333334, 'eval_runtime': 0.4703, 'eval_samples_per_second': 102.052, 'eval_steps_per_second': 6.378, 'epoch': 9.0}\n"
     ]
    },
    {
     "name": "stderr",
     "output_type": "stream",
     "text": [
      "                                                     \n",
      " 63%|██████▎   | 756/1200 [22:05:27<04:17,  1.73it/s]"
     ]
    },
    {
     "name": "stdout",
     "output_type": "stream",
     "text": [
      "{'loss': 0.2901, 'grad_norm': 1.4152960777282715, 'learning_rate': 4.541666666666667e-05, 'epoch': 9.17}\n"
     ]
    },
    {
     "name": "stderr",
     "output_type": "stream",
     "text": [
      "                                                     \n",
      " 63%|██████▎   | 756/1200 [22:05:35<04:17,  1.73it/s]"
     ]
    },
    {
     "name": "stdout",
     "output_type": "stream",
     "text": [
      "{'loss': 0.2132, 'grad_norm': 1.388221263885498, 'learning_rate': 4.5e-05, 'epoch': 10.0}\n"
     ]
    },
    {
     "name": "stderr",
     "output_type": "stream",
     "text": [
      "\n",
      "\u001b[A\n",
      "\u001b[Ac:\\Users\\thami\\.conda\\envs\\finetunning-bert\\lib\\site-packages\\sklearn\\metrics\\_classification.py:1531: UndefinedMetricWarning: Precision is ill-defined and being set to 0.0 in labels with no predicted samples. Use `zero_division` parameter to control this behavior.\n",
      "  _warn_prf(average, modifier, f\"{metric.capitalize()} is\", len(result))\n",
      "c:\\Users\\thami\\.conda\\envs\\finetunning-bert\\lib\\site-packages\\sklearn\\metrics\\_classification.py:1531: UndefinedMetricWarning: Recall is ill-defined and being set to 0.0 in labels with no true samples. Use `zero_division` parameter to control this behavior.\n",
      "  _warn_prf(average, modifier, f\"{metric.capitalize()} is\", len(result))\n",
      "                                                     \n",
      "\u001b[A                                               \n",
      "\n",
      " 63%|██████▎   | 756/1200 [22:05:35<04:17,  1.73it/s]\n",
      "\u001b[A\n",
      "\u001b[A"
     ]
    },
    {
     "name": "stdout",
     "output_type": "stream",
     "text": [
      "{'eval_loss': 0.5594397187232971, 'eval_accuracy': 0.8333333333333334, 'eval_f1': 0.8387896825396824, 'eval_precision': 0.8819444444444443, 'eval_recall': 0.8333333333333334, 'eval_runtime': 0.4943, 'eval_samples_per_second': 97.114, 'eval_steps_per_second': 6.07, 'epoch': 10.0}\n"
     ]
    },
    {
     "name": "stderr",
     "output_type": "stream",
     "text": [
      "                                                     \n",
      " 63%|██████▎   | 756/1200 [22:05:44<04:17,  1.73it/s]"
     ]
    },
    {
     "name": "stdout",
     "output_type": "stream",
     "text": [
      "{'loss': 0.1456, 'grad_norm': 0.9601022005081177, 'learning_rate': 4.458333333333334e-05, 'epoch': 10.83}\n"
     ]
    },
    {
     "name": "stderr",
     "output_type": "stream",
     "text": [
      "\n",
      "\u001b[A\n",
      "\u001b[Ac:\\Users\\thami\\.conda\\envs\\finetunning-bert\\lib\\site-packages\\sklearn\\metrics\\_classification.py:1531: UndefinedMetricWarning: Precision is ill-defined and being set to 0.0 in labels with no predicted samples. Use `zero_division` parameter to control this behavior.\n",
      "  _warn_prf(average, modifier, f\"{metric.capitalize()} is\", len(result))\n",
      "c:\\Users\\thami\\.conda\\envs\\finetunning-bert\\lib\\site-packages\\sklearn\\metrics\\_classification.py:1531: UndefinedMetricWarning: Recall is ill-defined and being set to 0.0 in labels with no true samples. Use `zero_division` parameter to control this behavior.\n",
      "  _warn_prf(average, modifier, f\"{metric.capitalize()} is\", len(result))\n",
      "                                                     \n",
      "\u001b[A                                               \n",
      "\n",
      " 63%|██████▎   | 756/1200 [22:05:45<04:17,  1.73it/s]\n",
      "\u001b[A\n",
      "\u001b[A"
     ]
    },
    {
     "name": "stdout",
     "output_type": "stream",
     "text": [
      "{'eval_loss': 0.4585929811000824, 'eval_accuracy': 0.8333333333333334, 'eval_f1': 0.8443452380952382, 'eval_precision': 0.8888888888888888, 'eval_recall': 0.8333333333333334, 'eval_runtime': 0.4832, 'eval_samples_per_second': 99.339, 'eval_steps_per_second': 6.209, 'epoch': 11.0}\n"
     ]
    },
    {
     "name": "stderr",
     "output_type": "stream",
     "text": [
      "                                                     \n",
      " 63%|██████▎   | 756/1200 [22:05:52<04:17,  1.73it/s]"
     ]
    },
    {
     "name": "stdout",
     "output_type": "stream",
     "text": [
      "{'loss': 0.0949, 'grad_norm': 0.6545844674110413, 'learning_rate': 4.4166666666666665e-05, 'epoch': 11.67}\n"
     ]
    },
    {
     "name": "stderr",
     "output_type": "stream",
     "text": [
      "\n",
      "\u001b[A\n",
      "\u001b[Ac:\\Users\\thami\\.conda\\envs\\finetunning-bert\\lib\\site-packages\\sklearn\\metrics\\_classification.py:1531: UndefinedMetricWarning: Precision is ill-defined and being set to 0.0 in labels with no predicted samples. Use `zero_division` parameter to control this behavior.\n",
      "  _warn_prf(average, modifier, f\"{metric.capitalize()} is\", len(result))\n",
      "c:\\Users\\thami\\.conda\\envs\\finetunning-bert\\lib\\site-packages\\sklearn\\metrics\\_classification.py:1531: UndefinedMetricWarning: Recall is ill-defined and being set to 0.0 in labels with no true samples. Use `zero_division` parameter to control this behavior.\n",
      "  _warn_prf(average, modifier, f\"{metric.capitalize()} is\", len(result))\n",
      "                                                     \n",
      "\u001b[A                                               \n",
      "\n",
      " 63%|██████▎   | 756/1200 [22:05:56<04:17,  1.73it/s]\n",
      "\u001b[A\n",
      "\u001b[A"
     ]
    },
    {
     "name": "stdout",
     "output_type": "stream",
     "text": [
      "{'eval_loss': 0.4253286123275757, 'eval_accuracy': 0.8333333333333334, 'eval_f1': 0.8387896825396824, 'eval_precision': 0.8819444444444443, 'eval_recall': 0.8333333333333334, 'eval_runtime': 0.4809, 'eval_samples_per_second': 99.808, 'eval_steps_per_second': 6.238, 'epoch': 12.0}\n"
     ]
    },
    {
     "name": "stderr",
     "output_type": "stream",
     "text": [
      "                                                     \n",
      " 63%|██████▎   | 756/1200 [22:06:01<04:17,  1.73it/s]"
     ]
    },
    {
     "name": "stdout",
     "output_type": "stream",
     "text": [
      "{'loss': 0.0761, 'grad_norm': 0.4294244050979614, 'learning_rate': 4.375e-05, 'epoch': 12.5}\n"
     ]
    },
    {
     "name": "stderr",
     "output_type": "stream",
     "text": [
      "\n",
      "\u001b[A\n",
      "\u001b[Ac:\\Users\\thami\\.conda\\envs\\finetunning-bert\\lib\\site-packages\\sklearn\\metrics\\_classification.py:1531: UndefinedMetricWarning: Precision is ill-defined and being set to 0.0 in labels with no predicted samples. Use `zero_division` parameter to control this behavior.\n",
      "  _warn_prf(average, modifier, f\"{metric.capitalize()} is\", len(result))\n",
      "c:\\Users\\thami\\.conda\\envs\\finetunning-bert\\lib\\site-packages\\sklearn\\metrics\\_classification.py:1531: UndefinedMetricWarning: Recall is ill-defined and being set to 0.0 in labels with no true samples. Use `zero_division` parameter to control this behavior.\n",
      "  _warn_prf(average, modifier, f\"{metric.capitalize()} is\", len(result))\n",
      "                                                     \n",
      "\u001b[A                                               \n",
      "\n",
      " 63%|██████▎   | 756/1200 [22:06:06<04:17,  1.73it/s]\n",
      "\u001b[A\n",
      "\u001b[A"
     ]
    },
    {
     "name": "stdout",
     "output_type": "stream",
     "text": [
      "{'eval_loss': 0.38826456665992737, 'eval_accuracy': 0.8541666666666666, 'eval_f1': 0.8526785714285715, 'eval_precision': 0.892361111111111, 'eval_recall': 0.8541666666666666, 'eval_runtime': 0.451, 'eval_samples_per_second': 106.423, 'eval_steps_per_second': 6.651, 'epoch': 13.0}\n"
     ]
    },
    {
     "name": "stderr",
     "output_type": "stream",
     "text": [
      "                                                     \n",
      " 63%|██████▎   | 756/1200 [22:06:10<04:17,  1.73it/s]"
     ]
    },
    {
     "name": "stdout",
     "output_type": "stream",
     "text": [
      "{'loss': 0.0557, 'grad_norm': 0.3330737054347992, 'learning_rate': 4.3333333333333334e-05, 'epoch': 13.33}\n"
     ]
    },
    {
     "name": "stderr",
     "output_type": "stream",
     "text": [
      "\n",
      "\u001b[A\n",
      "\u001b[Ac:\\Users\\thami\\.conda\\envs\\finetunning-bert\\lib\\site-packages\\sklearn\\metrics\\_classification.py:1531: UndefinedMetricWarning: Precision is ill-defined and being set to 0.0 in labels with no predicted samples. Use `zero_division` parameter to control this behavior.\n",
      "  _warn_prf(average, modifier, f\"{metric.capitalize()} is\", len(result))\n",
      "c:\\Users\\thami\\.conda\\envs\\finetunning-bert\\lib\\site-packages\\sklearn\\metrics\\_classification.py:1531: UndefinedMetricWarning: Recall is ill-defined and being set to 0.0 in labels with no true samples. Use `zero_division` parameter to control this behavior.\n",
      "  _warn_prf(average, modifier, f\"{metric.capitalize()} is\", len(result))\n",
      "                                                     \n",
      "\u001b[A                                               \n",
      "\n",
      " 63%|██████▎   | 756/1200 [22:06:16<04:17,  1.73it/s]\n",
      "\u001b[A\n",
      "\u001b[A"
     ]
    },
    {
     "name": "stdout",
     "output_type": "stream",
     "text": [
      "{'eval_loss': 0.35025593638420105, 'eval_accuracy': 0.875, 'eval_f1': 0.876984126984127, 'eval_precision': 0.8993055555555555, 'eval_recall': 0.875, 'eval_runtime': 0.476, 'eval_samples_per_second': 100.847, 'eval_steps_per_second': 6.303, 'epoch': 14.0}\n"
     ]
    },
    {
     "name": "stderr",
     "output_type": "stream",
     "text": [
      "                                                     \n",
      " 63%|██████▎   | 756/1200 [22:06:19<04:17,  1.73it/s]"
     ]
    },
    {
     "name": "stdout",
     "output_type": "stream",
     "text": [
      "{'loss': 0.0488, 'grad_norm': 0.34534192085266113, 'learning_rate': 4.291666666666667e-05, 'epoch': 14.17}\n"
     ]
    },
    {
     "name": "stderr",
     "output_type": "stream",
     "text": [
      "                                                     \n",
      " 63%|██████▎   | 756/1200 [22:06:26<04:17,  1.73it/s]"
     ]
    },
    {
     "name": "stdout",
     "output_type": "stream",
     "text": [
      "{'loss': 0.0381, 'grad_norm': 0.24744883179664612, 'learning_rate': 4.25e-05, 'epoch': 15.0}\n"
     ]
    },
    {
     "name": "stderr",
     "output_type": "stream",
     "text": [
      "\n",
      "\u001b[A\n",
      "\u001b[Ac:\\Users\\thami\\.conda\\envs\\finetunning-bert\\lib\\site-packages\\sklearn\\metrics\\_classification.py:1531: UndefinedMetricWarning: Precision is ill-defined and being set to 0.0 in labels with no predicted samples. Use `zero_division` parameter to control this behavior.\n",
      "  _warn_prf(average, modifier, f\"{metric.capitalize()} is\", len(result))\n",
      "c:\\Users\\thami\\.conda\\envs\\finetunning-bert\\lib\\site-packages\\sklearn\\metrics\\_classification.py:1531: UndefinedMetricWarning: Recall is ill-defined and being set to 0.0 in labels with no true samples. Use `zero_division` parameter to control this behavior.\n",
      "  _warn_prf(average, modifier, f\"{metric.capitalize()} is\", len(result))\n",
      "                                                     \n",
      "\u001b[A                                               \n",
      "\n",
      " 63%|██████▎   | 756/1200 [22:06:27<04:17,  1.73it/s]\n",
      "\u001b[A\n",
      "\u001b[A"
     ]
    },
    {
     "name": "stdout",
     "output_type": "stream",
     "text": [
      "{'eval_loss': 0.36107099056243896, 'eval_accuracy': 0.8541666666666666, 'eval_f1': 0.8526785714285715, 'eval_precision': 0.892361111111111, 'eval_recall': 0.8541666666666666, 'eval_runtime': 0.4439, 'eval_samples_per_second': 108.138, 'eval_steps_per_second': 6.759, 'epoch': 15.0}\n"
     ]
    },
    {
     "name": "stderr",
     "output_type": "stream",
     "text": [
      "                                                     \n",
      " 63%|██████▎   | 756/1200 [22:06:35<04:17,  1.73it/s]"
     ]
    },
    {
     "name": "stdout",
     "output_type": "stream",
     "text": [
      "{'loss': 0.0317, 'grad_norm': 0.23311442136764526, 'learning_rate': 4.208333333333334e-05, 'epoch': 15.83}\n"
     ]
    },
    {
     "name": "stderr",
     "output_type": "stream",
     "text": [
      "\n",
      "\u001b[A\n",
      "\u001b[Ac:\\Users\\thami\\.conda\\envs\\finetunning-bert\\lib\\site-packages\\sklearn\\metrics\\_classification.py:1531: UndefinedMetricWarning: Precision is ill-defined and being set to 0.0 in labels with no predicted samples. Use `zero_division` parameter to control this behavior.\n",
      "  _warn_prf(average, modifier, f\"{metric.capitalize()} is\", len(result))\n",
      "c:\\Users\\thami\\.conda\\envs\\finetunning-bert\\lib\\site-packages\\sklearn\\metrics\\_classification.py:1531: UndefinedMetricWarning: Recall is ill-defined and being set to 0.0 in labels with no true samples. Use `zero_division` parameter to control this behavior.\n",
      "  _warn_prf(average, modifier, f\"{metric.capitalize()} is\", len(result))\n",
      "                                                     \n",
      "\u001b[A                                               \n",
      "\n",
      " 63%|██████▎   | 756/1200 [22:06:37<04:17,  1.73it/s]\n",
      "\u001b[A\n",
      "\u001b[A"
     ]
    },
    {
     "name": "stdout",
     "output_type": "stream",
     "text": [
      "{'eval_loss': 0.34532955288887024, 'eval_accuracy': 0.8541666666666666, 'eval_f1': 0.8526785714285715, 'eval_precision': 0.892361111111111, 'eval_recall': 0.8541666666666666, 'eval_runtime': 0.5535, 'eval_samples_per_second': 86.714, 'eval_steps_per_second': 5.42, 'epoch': 16.0}\n"
     ]
    },
    {
     "name": "stderr",
     "output_type": "stream",
     "text": [
      "                                                     \n",
      " 63%|██████▎   | 756/1200 [22:06:46<04:17,  1.73it/s]"
     ]
    },
    {
     "name": "stdout",
     "output_type": "stream",
     "text": [
      "{'loss': 0.0301, 'grad_norm': 0.3055837154388428, 'learning_rate': 4.166666666666667e-05, 'epoch': 16.67}\n"
     ]
    },
    {
     "name": "stderr",
     "output_type": "stream",
     "text": [
      "\n",
      "\u001b[A\n",
      "\u001b[Ac:\\Users\\thami\\.conda\\envs\\finetunning-bert\\lib\\site-packages\\sklearn\\metrics\\_classification.py:1531: UndefinedMetricWarning: Precision is ill-defined and being set to 0.0 in labels with no predicted samples. Use `zero_division` parameter to control this behavior.\n",
      "  _warn_prf(average, modifier, f\"{metric.capitalize()} is\", len(result))\n",
      "c:\\Users\\thami\\.conda\\envs\\finetunning-bert\\lib\\site-packages\\sklearn\\metrics\\_classification.py:1531: UndefinedMetricWarning: Recall is ill-defined and being set to 0.0 in labels with no true samples. Use `zero_division` parameter to control this behavior.\n",
      "  _warn_prf(average, modifier, f\"{metric.capitalize()} is\", len(result))\n",
      "                                                     \n",
      "\u001b[A                                               \n",
      "\n",
      " 63%|██████▎   | 756/1200 [22:06:50<04:17,  1.73it/s]\n",
      "\u001b[A\n",
      "\u001b[A"
     ]
    },
    {
     "name": "stdout",
     "output_type": "stream",
     "text": [
      "{'eval_loss': 0.33589863777160645, 'eval_accuracy': 0.8541666666666666, 'eval_f1': 0.8526785714285715, 'eval_precision': 0.892361111111111, 'eval_recall': 0.8541666666666666, 'eval_runtime': 0.5249, 'eval_samples_per_second': 91.444, 'eval_steps_per_second': 5.715, 'epoch': 17.0}\n"
     ]
    },
    {
     "name": "stderr",
     "output_type": "stream",
     "text": [
      "                                                     \n",
      " 63%|██████▎   | 756/1200 [22:06:55<04:17,  1.73it/s]"
     ]
    },
    {
     "name": "stdout",
     "output_type": "stream",
     "text": [
      "{'loss': 0.0256, 'grad_norm': 0.16955557465553284, 'learning_rate': 4.125e-05, 'epoch': 17.5}\n"
     ]
    },
    {
     "name": "stderr",
     "output_type": "stream",
     "text": [
      "\n",
      "\u001b[A\n",
      "\u001b[Ac:\\Users\\thami\\.conda\\envs\\finetunning-bert\\lib\\site-packages\\sklearn\\metrics\\_classification.py:1531: UndefinedMetricWarning: Precision is ill-defined and being set to 0.0 in labels with no predicted samples. Use `zero_division` parameter to control this behavior.\n",
      "  _warn_prf(average, modifier, f\"{metric.capitalize()} is\", len(result))\n",
      "c:\\Users\\thami\\.conda\\envs\\finetunning-bert\\lib\\site-packages\\sklearn\\metrics\\_classification.py:1531: UndefinedMetricWarning: Recall is ill-defined and being set to 0.0 in labels with no true samples. Use `zero_division` parameter to control this behavior.\n",
      "  _warn_prf(average, modifier, f\"{metric.capitalize()} is\", len(result))\n",
      "                                                     \n",
      "\u001b[A                                               \n",
      "\n",
      " 63%|██████▎   | 756/1200 [22:07:01<04:17,  1.73it/s]\n",
      "\u001b[A\n",
      "\u001b[A"
     ]
    },
    {
     "name": "stdout",
     "output_type": "stream",
     "text": [
      "{'eval_loss': 0.349992036819458, 'eval_accuracy': 0.8541666666666666, 'eval_f1': 0.8526785714285715, 'eval_precision': 0.892361111111111, 'eval_recall': 0.8541666666666666, 'eval_runtime': 0.4729, 'eval_samples_per_second': 101.508, 'eval_steps_per_second': 6.344, 'epoch': 18.0}\n"
     ]
    },
    {
     "name": "stderr",
     "output_type": "stream",
     "text": [
      "                                                     \n",
      " 63%|██████▎   | 756/1200 [22:07:06<04:17,  1.73it/s]"
     ]
    },
    {
     "name": "stdout",
     "output_type": "stream",
     "text": [
      "{'loss': 0.0245, 'grad_norm': 0.16793882846832275, 'learning_rate': 4.0833333333333334e-05, 'epoch': 18.33}\n"
     ]
    },
    {
     "name": "stderr",
     "output_type": "stream",
     "text": [
      "\n",
      "\u001b[A\n",
      "\u001b[Ac:\\Users\\thami\\.conda\\envs\\finetunning-bert\\lib\\site-packages\\sklearn\\metrics\\_classification.py:1531: UndefinedMetricWarning: Precision is ill-defined and being set to 0.0 in labels with no predicted samples. Use `zero_division` parameter to control this behavior.\n",
      "  _warn_prf(average, modifier, f\"{metric.capitalize()} is\", len(result))\n",
      "c:\\Users\\thami\\.conda\\envs\\finetunning-bert\\lib\\site-packages\\sklearn\\metrics\\_classification.py:1531: UndefinedMetricWarning: Recall is ill-defined and being set to 0.0 in labels with no true samples. Use `zero_division` parameter to control this behavior.\n",
      "  _warn_prf(average, modifier, f\"{metric.capitalize()} is\", len(result))\n",
      "                                                     \n",
      "\u001b[A                                               \n",
      "\n",
      " 63%|██████▎   | 756/1200 [22:07:13<04:17,  1.73it/s]\n",
      "\u001b[A\n",
      "\u001b[A"
     ]
    },
    {
     "name": "stdout",
     "output_type": "stream",
     "text": [
      "{'eval_loss': 0.3786437213420868, 'eval_accuracy': 0.8541666666666666, 'eval_f1': 0.8526785714285715, 'eval_precision': 0.892361111111111, 'eval_recall': 0.8541666666666666, 'eval_runtime': 0.5147, 'eval_samples_per_second': 93.263, 'eval_steps_per_second': 5.829, 'epoch': 19.0}\n"
     ]
    },
    {
     "name": "stderr",
     "output_type": "stream",
     "text": [
      "                                                     \n",
      " 63%|██████▎   | 756/1200 [22:07:15<04:17,  1.73it/s]"
     ]
    },
    {
     "name": "stdout",
     "output_type": "stream",
     "text": [
      "{'loss': 0.0219, 'grad_norm': 0.1658896803855896, 'learning_rate': 4.041666666666667e-05, 'epoch': 19.17}\n"
     ]
    },
    {
     "name": "stderr",
     "output_type": "stream",
     "text": [
      "                                                     \n",
      " 63%|██████▎   | 756/1200 [22:07:24<04:17,  1.73it/s]"
     ]
    },
    {
     "name": "stdout",
     "output_type": "stream",
     "text": [
      "{'loss': 0.0206, 'grad_norm': 0.17821581661701202, 'learning_rate': 4e-05, 'epoch': 20.0}\n"
     ]
    },
    {
     "name": "stderr",
     "output_type": "stream",
     "text": [
      "\n",
      "\u001b[A\n",
      "\u001b[Ac:\\Users\\thami\\.conda\\envs\\finetunning-bert\\lib\\site-packages\\sklearn\\metrics\\_classification.py:1531: UndefinedMetricWarning: Precision is ill-defined and being set to 0.0 in labels with no predicted samples. Use `zero_division` parameter to control this behavior.\n",
      "  _warn_prf(average, modifier, f\"{metric.capitalize()} is\", len(result))\n",
      "c:\\Users\\thami\\.conda\\envs\\finetunning-bert\\lib\\site-packages\\sklearn\\metrics\\_classification.py:1531: UndefinedMetricWarning: Recall is ill-defined and being set to 0.0 in labels with no true samples. Use `zero_division` parameter to control this behavior.\n",
      "  _warn_prf(average, modifier, f\"{metric.capitalize()} is\", len(result))\n",
      "                                                     \n",
      "\u001b[A                                               \n",
      "\n",
      " 63%|██████▎   | 756/1200 [22:07:24<04:17,  1.73it/s]\n",
      "\u001b[A\n",
      "\u001b[A"
     ]
    },
    {
     "name": "stdout",
     "output_type": "stream",
     "text": [
      "{'eval_loss': 0.3640851676464081, 'eval_accuracy': 0.8541666666666666, 'eval_f1': 0.8526785714285715, 'eval_precision': 0.892361111111111, 'eval_recall': 0.8541666666666666, 'eval_runtime': 0.4833, 'eval_samples_per_second': 99.325, 'eval_steps_per_second': 6.208, 'epoch': 20.0}\n"
     ]
    },
    {
     "name": "stderr",
     "output_type": "stream",
     "text": [
      "                                                     \n",
      " 63%|██████▎   | 756/1200 [22:07:33<04:17,  1.73it/s]"
     ]
    },
    {
     "name": "stdout",
     "output_type": "stream",
     "text": [
      "{'loss': 0.0187, 'grad_norm': 0.17944331467151642, 'learning_rate': 3.958333333333333e-05, 'epoch': 20.83}\n"
     ]
    },
    {
     "name": "stderr",
     "output_type": "stream",
     "text": [
      "\n",
      "\u001b[A\n",
      "\u001b[Ac:\\Users\\thami\\.conda\\envs\\finetunning-bert\\lib\\site-packages\\sklearn\\metrics\\_classification.py:1531: UndefinedMetricWarning: Precision is ill-defined and being set to 0.0 in labels with no predicted samples. Use `zero_division` parameter to control this behavior.\n",
      "  _warn_prf(average, modifier, f\"{metric.capitalize()} is\", len(result))\n",
      "c:\\Users\\thami\\.conda\\envs\\finetunning-bert\\lib\\site-packages\\sklearn\\metrics\\_classification.py:1531: UndefinedMetricWarning: Recall is ill-defined and being set to 0.0 in labels with no true samples. Use `zero_division` parameter to control this behavior.\n",
      "  _warn_prf(average, modifier, f\"{metric.capitalize()} is\", len(result))\n",
      "                                                     \n",
      "\u001b[A                                               \n",
      "\n",
      " 63%|██████▎   | 756/1200 [22:07:35<04:17,  1.73it/s]\n",
      "\u001b[A\n",
      "\u001b[A"
     ]
    },
    {
     "name": "stdout",
     "output_type": "stream",
     "text": [
      "{'eval_loss': 0.3531562387943268, 'eval_accuracy': 0.8541666666666666, 'eval_f1': 0.8526785714285715, 'eval_precision': 0.892361111111111, 'eval_recall': 0.8541666666666666, 'eval_runtime': 0.5339, 'eval_samples_per_second': 89.909, 'eval_steps_per_second': 5.619, 'epoch': 21.0}\n"
     ]
    },
    {
     "name": "stderr",
     "output_type": "stream",
     "text": [
      "                                                     \n",
      " 63%|██████▎   | 756/1200 [22:07:43<04:17,  1.73it/s]"
     ]
    },
    {
     "name": "stdout",
     "output_type": "stream",
     "text": [
      "{'loss': 0.0177, 'grad_norm': 0.16927504539489746, 'learning_rate': 3.9166666666666665e-05, 'epoch': 21.67}\n"
     ]
    },
    {
     "name": "stderr",
     "output_type": "stream",
     "text": [
      "\n",
      "\u001b[A\n",
      "\u001b[Ac:\\Users\\thami\\.conda\\envs\\finetunning-bert\\lib\\site-packages\\sklearn\\metrics\\_classification.py:1531: UndefinedMetricWarning: Precision is ill-defined and being set to 0.0 in labels with no predicted samples. Use `zero_division` parameter to control this behavior.\n",
      "  _warn_prf(average, modifier, f\"{metric.capitalize()} is\", len(result))\n",
      "c:\\Users\\thami\\.conda\\envs\\finetunning-bert\\lib\\site-packages\\sklearn\\metrics\\_classification.py:1531: UndefinedMetricWarning: Recall is ill-defined and being set to 0.0 in labels with no true samples. Use `zero_division` parameter to control this behavior.\n",
      "  _warn_prf(average, modifier, f\"{metric.capitalize()} is\", len(result))\n",
      "                                                     \n",
      "\u001b[A                                               \n",
      "\n",
      " 63%|██████▎   | 756/1200 [22:07:47<04:17,  1.73it/s]\n",
      "\u001b[A\n",
      "\u001b[A"
     ]
    },
    {
     "name": "stdout",
     "output_type": "stream",
     "text": [
      "{'eval_loss': 0.36343416571617126, 'eval_accuracy': 0.8541666666666666, 'eval_f1': 0.8526785714285715, 'eval_precision': 0.892361111111111, 'eval_recall': 0.8541666666666666, 'eval_runtime': 0.4559, 'eval_samples_per_second': 105.279, 'eval_steps_per_second': 6.58, 'epoch': 22.0}\n"
     ]
    },
    {
     "name": "stderr",
     "output_type": "stream",
     "text": [
      "                                                     \n",
      " 63%|██████▎   | 756/1200 [22:07:52<04:17,  1.73it/s]"
     ]
    },
    {
     "name": "stdout",
     "output_type": "stream",
     "text": [
      "{'loss': 0.0153, 'grad_norm': 0.11088162660598755, 'learning_rate': 3.875e-05, 'epoch': 22.5}\n"
     ]
    },
    {
     "name": "stderr",
     "output_type": "stream",
     "text": [
      "\n",
      "\u001b[A\n",
      "\u001b[Ac:\\Users\\thami\\.conda\\envs\\finetunning-bert\\lib\\site-packages\\sklearn\\metrics\\_classification.py:1531: UndefinedMetricWarning: Precision is ill-defined and being set to 0.0 in labels with no predicted samples. Use `zero_division` parameter to control this behavior.\n",
      "  _warn_prf(average, modifier, f\"{metric.capitalize()} is\", len(result))\n",
      "c:\\Users\\thami\\.conda\\envs\\finetunning-bert\\lib\\site-packages\\sklearn\\metrics\\_classification.py:1531: UndefinedMetricWarning: Recall is ill-defined and being set to 0.0 in labels with no true samples. Use `zero_division` parameter to control this behavior.\n",
      "  _warn_prf(average, modifier, f\"{metric.capitalize()} is\", len(result))\n",
      "                                                     \n",
      "\u001b[A                                               \n",
      "\n",
      " 63%|██████▎   | 756/1200 [22:07:57<04:17,  1.73it/s]\n",
      "\u001b[A\n",
      "\u001b[A"
     ]
    },
    {
     "name": "stdout",
     "output_type": "stream",
     "text": [
      "{'eval_loss': 0.3408680260181427, 'eval_accuracy': 0.8541666666666666, 'eval_f1': 0.8526785714285715, 'eval_precision': 0.892361111111111, 'eval_recall': 0.8541666666666666, 'eval_runtime': 0.4987, 'eval_samples_per_second': 96.256, 'eval_steps_per_second': 6.016, 'epoch': 23.0}\n"
     ]
    },
    {
     "name": "stderr",
     "output_type": "stream",
     "text": [
      "                                                     \n",
      " 63%|██████▎   | 756/1200 [22:08:01<04:17,  1.73it/s]"
     ]
    },
    {
     "name": "stdout",
     "output_type": "stream",
     "text": [
      "{'loss': 0.0139, 'grad_norm': 0.0934031531214714, 'learning_rate': 3.8333333333333334e-05, 'epoch': 23.33}\n"
     ]
    },
    {
     "name": "stderr",
     "output_type": "stream",
     "text": [
      "\n",
      "\u001b[A\n",
      "\u001b[Ac:\\Users\\thami\\.conda\\envs\\finetunning-bert\\lib\\site-packages\\sklearn\\metrics\\_classification.py:1531: UndefinedMetricWarning: Precision is ill-defined and being set to 0.0 in labels with no predicted samples. Use `zero_division` parameter to control this behavior.\n",
      "  _warn_prf(average, modifier, f\"{metric.capitalize()} is\", len(result))\n",
      "c:\\Users\\thami\\.conda\\envs\\finetunning-bert\\lib\\site-packages\\sklearn\\metrics\\_classification.py:1531: UndefinedMetricWarning: Recall is ill-defined and being set to 0.0 in labels with no true samples. Use `zero_division` parameter to control this behavior.\n",
      "  _warn_prf(average, modifier, f\"{metric.capitalize()} is\", len(result))\n",
      "                                                     \n",
      "\u001b[A                                               \n",
      "\n",
      " 63%|██████▎   | 756/1200 [22:08:07<04:17,  1.73it/s]\n",
      "\u001b[A\n",
      "\u001b[A"
     ]
    },
    {
     "name": "stdout",
     "output_type": "stream",
     "text": [
      "{'eval_loss': 0.33653339743614197, 'eval_accuracy': 0.8541666666666666, 'eval_f1': 0.8526785714285715, 'eval_precision': 0.892361111111111, 'eval_recall': 0.8541666666666666, 'eval_runtime': 0.4427, 'eval_samples_per_second': 108.415, 'eval_steps_per_second': 6.776, 'epoch': 24.0}\n"
     ]
    },
    {
     "name": "stderr",
     "output_type": "stream",
     "text": [
      "                                                     \n",
      " 63%|██████▎   | 756/1200 [22:08:12<04:17,  1.73it/s]"
     ]
    },
    {
     "name": "stdout",
     "output_type": "stream",
     "text": [
      "{'loss': 0.0136, 'grad_norm': 0.09663256257772446, 'learning_rate': 3.791666666666667e-05, 'epoch': 24.17}\n"
     ]
    },
    {
     "name": "stderr",
     "output_type": "stream",
     "text": [
      "                                                     \n",
      " 63%|██████▎   | 756/1200 [22:08:19<04:17,  1.73it/s]"
     ]
    },
    {
     "name": "stdout",
     "output_type": "stream",
     "text": [
      "{'loss': 0.0131, 'grad_norm': 0.09223490208387375, 'learning_rate': 3.7500000000000003e-05, 'epoch': 25.0}\n"
     ]
    },
    {
     "name": "stderr",
     "output_type": "stream",
     "text": [
      "\n",
      "\u001b[A\n",
      "\u001b[Ac:\\Users\\thami\\.conda\\envs\\finetunning-bert\\lib\\site-packages\\sklearn\\metrics\\_classification.py:1531: UndefinedMetricWarning: Precision is ill-defined and being set to 0.0 in labels with no predicted samples. Use `zero_division` parameter to control this behavior.\n",
      "  _warn_prf(average, modifier, f\"{metric.capitalize()} is\", len(result))\n",
      "c:\\Users\\thami\\.conda\\envs\\finetunning-bert\\lib\\site-packages\\sklearn\\metrics\\_classification.py:1531: UndefinedMetricWarning: Recall is ill-defined and being set to 0.0 in labels with no true samples. Use `zero_division` parameter to control this behavior.\n",
      "  _warn_prf(average, modifier, f\"{metric.capitalize()} is\", len(result))\n",
      "                                                     \n",
      "\u001b[A                                               \n",
      "\n",
      " 63%|██████▎   | 756/1200 [22:08:20<04:17,  1.73it/s]\n",
      "\u001b[A\n",
      "\u001b[A"
     ]
    },
    {
     "name": "stdout",
     "output_type": "stream",
     "text": [
      "{'eval_loss': 0.3465438783168793, 'eval_accuracy': 0.8541666666666666, 'eval_f1': 0.8526785714285715, 'eval_precision': 0.892361111111111, 'eval_recall': 0.8541666666666666, 'eval_runtime': 0.4588, 'eval_samples_per_second': 104.619, 'eval_steps_per_second': 6.539, 'epoch': 25.0}\n"
     ]
    },
    {
     "name": "stderr",
     "output_type": "stream",
     "text": [
      "                                                     \n",
      " 63%|██████▎   | 756/1200 [22:08:28<04:17,  1.73it/s]"
     ]
    },
    {
     "name": "stdout",
     "output_type": "stream",
     "text": [
      "{'loss': 0.0128, 'grad_norm': 0.09042767435312271, 'learning_rate': 3.708333333333334e-05, 'epoch': 25.83}\n"
     ]
    },
    {
     "name": "stderr",
     "output_type": "stream",
     "text": [
      "\n",
      "\u001b[A\n",
      "\u001b[Ac:\\Users\\thami\\.conda\\envs\\finetunning-bert\\lib\\site-packages\\sklearn\\metrics\\_classification.py:1531: UndefinedMetricWarning: Precision is ill-defined and being set to 0.0 in labels with no predicted samples. Use `zero_division` parameter to control this behavior.\n",
      "  _warn_prf(average, modifier, f\"{metric.capitalize()} is\", len(result))\n",
      "c:\\Users\\thami\\.conda\\envs\\finetunning-bert\\lib\\site-packages\\sklearn\\metrics\\_classification.py:1531: UndefinedMetricWarning: Recall is ill-defined and being set to 0.0 in labels with no true samples. Use `zero_division` parameter to control this behavior.\n",
      "  _warn_prf(average, modifier, f\"{metric.capitalize()} is\", len(result))\n",
      "                                                     \n",
      "\u001b[A                                               \n",
      "\n",
      " 63%|██████▎   | 756/1200 [22:08:30<04:17,  1.73it/s]\n",
      "\u001b[A\n",
      "\u001b[A"
     ]
    },
    {
     "name": "stdout",
     "output_type": "stream",
     "text": [
      "{'eval_loss': 0.34767797589302063, 'eval_accuracy': 0.8541666666666666, 'eval_f1': 0.8526785714285715, 'eval_precision': 0.892361111111111, 'eval_recall': 0.8541666666666666, 'eval_runtime': 0.459, 'eval_samples_per_second': 104.575, 'eval_steps_per_second': 6.536, 'epoch': 26.0}\n"
     ]
    },
    {
     "name": "stderr",
     "output_type": "stream",
     "text": [
      "                                                     \n",
      " 63%|██████▎   | 756/1200 [22:08:37<04:17,  1.73it/s]"
     ]
    },
    {
     "name": "stdout",
     "output_type": "stream",
     "text": [
      "{'loss': 0.0117, 'grad_norm': 0.08143384009599686, 'learning_rate': 3.6666666666666666e-05, 'epoch': 26.67}\n"
     ]
    },
    {
     "name": "stderr",
     "output_type": "stream",
     "text": [
      "\n",
      "\u001b[A\n",
      "\u001b[Ac:\\Users\\thami\\.conda\\envs\\finetunning-bert\\lib\\site-packages\\sklearn\\metrics\\_classification.py:1531: UndefinedMetricWarning: Precision is ill-defined and being set to 0.0 in labels with no predicted samples. Use `zero_division` parameter to control this behavior.\n",
      "  _warn_prf(average, modifier, f\"{metric.capitalize()} is\", len(result))\n",
      "c:\\Users\\thami\\.conda\\envs\\finetunning-bert\\lib\\site-packages\\sklearn\\metrics\\_classification.py:1531: UndefinedMetricWarning: Recall is ill-defined and being set to 0.0 in labels with no true samples. Use `zero_division` parameter to control this behavior.\n",
      "  _warn_prf(average, modifier, f\"{metric.capitalize()} is\", len(result))\n",
      "                                                     \n",
      "\u001b[A                                               \n",
      "\n",
      " 63%|██████▎   | 756/1200 [22:08:40<04:17,  1.73it/s]\n",
      "\u001b[A\n",
      "\u001b[A"
     ]
    },
    {
     "name": "stdout",
     "output_type": "stream",
     "text": [
      "{'eval_loss': 0.34333956241607666, 'eval_accuracy': 0.8541666666666666, 'eval_f1': 0.8526785714285715, 'eval_precision': 0.892361111111111, 'eval_recall': 0.8541666666666666, 'eval_runtime': 0.4752, 'eval_samples_per_second': 101.015, 'eval_steps_per_second': 6.313, 'epoch': 27.0}\n"
     ]
    },
    {
     "name": "stderr",
     "output_type": "stream",
     "text": [
      "                                                     \n",
      " 63%|██████▎   | 756/1200 [22:08:48<04:17,  1.73it/s]"
     ]
    },
    {
     "name": "stdout",
     "output_type": "stream",
     "text": [
      "{'loss': 0.0111, 'grad_norm': 0.09278960525989532, 'learning_rate': 3.625e-05, 'epoch': 27.5}\n"
     ]
    },
    {
     "name": "stderr",
     "output_type": "stream",
     "text": [
      "\n",
      "\u001b[A\n",
      "\u001b[A\n",
      "\u001b[Ac:\\Users\\thami\\.conda\\envs\\finetunning-bert\\lib\\site-packages\\sklearn\\metrics\\_classification.py:1531: UndefinedMetricWarning: Precision is ill-defined and being set to 0.0 in labels with no predicted samples. Use `zero_division` parameter to control this behavior.\n",
      "  _warn_prf(average, modifier, f\"{metric.capitalize()} is\", len(result))\n",
      "c:\\Users\\thami\\.conda\\envs\\finetunning-bert\\lib\\site-packages\\sklearn\\metrics\\_classification.py:1531: UndefinedMetricWarning: Recall is ill-defined and being set to 0.0 in labels with no true samples. Use `zero_division` parameter to control this behavior.\n",
      "  _warn_prf(average, modifier, f\"{metric.capitalize()} is\", len(result))\n",
      "                                                     \n",
      "\u001b[A                                               \n",
      "\n",
      " 63%|██████▎   | 756/1200 [22:08:53<04:17,  1.73it/s]\n",
      "\u001b[A\n",
      "\u001b[A"
     ]
    },
    {
     "name": "stdout",
     "output_type": "stream",
     "text": [
      "{'eval_loss': 0.3471251428127289, 'eval_accuracy': 0.8541666666666666, 'eval_f1': 0.8526785714285715, 'eval_precision': 0.892361111111111, 'eval_recall': 0.8541666666666666, 'eval_runtime': 0.973, 'eval_samples_per_second': 49.33, 'eval_steps_per_second': 3.083, 'epoch': 28.0}\n"
     ]
    },
    {
     "name": "stderr",
     "output_type": "stream",
     "text": [
      "                                                     \n",
      " 63%|██████▎   | 756/1200 [22:08:57<04:17,  1.73it/s]"
     ]
    },
    {
     "name": "stdout",
     "output_type": "stream",
     "text": [
      "{'loss': 0.0102, 'grad_norm': 0.08895377814769745, 'learning_rate': 3.5833333333333335e-05, 'epoch': 28.33}\n"
     ]
    },
    {
     "name": "stderr",
     "output_type": "stream",
     "text": [
      "\n",
      "\u001b[A\n",
      "\u001b[Ac:\\Users\\thami\\.conda\\envs\\finetunning-bert\\lib\\site-packages\\sklearn\\metrics\\_classification.py:1531: UndefinedMetricWarning: Precision is ill-defined and being set to 0.0 in labels with no predicted samples. Use `zero_division` parameter to control this behavior.\n",
      "  _warn_prf(average, modifier, f\"{metric.capitalize()} is\", len(result))\n",
      "c:\\Users\\thami\\.conda\\envs\\finetunning-bert\\lib\\site-packages\\sklearn\\metrics\\_classification.py:1531: UndefinedMetricWarning: Recall is ill-defined and being set to 0.0 in labels with no true samples. Use `zero_division` parameter to control this behavior.\n",
      "  _warn_prf(average, modifier, f\"{metric.capitalize()} is\", len(result))\n",
      "                                                     \n",
      "\u001b[A                                               \n",
      "\n",
      " 63%|██████▎   | 756/1200 [22:09:04<04:17,  1.73it/s]\n",
      "\u001b[A\n",
      "\u001b[A"
     ]
    },
    {
     "name": "stdout",
     "output_type": "stream",
     "text": [
      "{'eval_loss': 0.3420501947402954, 'eval_accuracy': 0.8541666666666666, 'eval_f1': 0.8526785714285715, 'eval_precision': 0.892361111111111, 'eval_recall': 0.8541666666666666, 'eval_runtime': 0.477, 'eval_samples_per_second': 100.635, 'eval_steps_per_second': 6.29, 'epoch': 29.0}\n"
     ]
    },
    {
     "name": "stderr",
     "output_type": "stream",
     "text": [
      "                                                     \n",
      " 63%|██████▎   | 756/1200 [22:09:08<04:17,  1.73it/s]"
     ]
    },
    {
     "name": "stdout",
     "output_type": "stream",
     "text": [
      "{'loss': 0.0095, 'grad_norm': 0.07951383292675018, 'learning_rate': 3.541666666666667e-05, 'epoch': 29.17}\n"
     ]
    },
    {
     "name": "stderr",
     "output_type": "stream",
     "text": [
      "                                                     \n",
      " 63%|██████▎   | 756/1200 [22:09:15<04:17,  1.73it/s]"
     ]
    },
    {
     "name": "stdout",
     "output_type": "stream",
     "text": [
      "{'loss': 0.0092, 'grad_norm': 0.10848070681095123, 'learning_rate': 3.5e-05, 'epoch': 30.0}\n"
     ]
    },
    {
     "name": "stderr",
     "output_type": "stream",
     "text": [
      "\n",
      "\u001b[A\n",
      "\u001b[Ac:\\Users\\thami\\.conda\\envs\\finetunning-bert\\lib\\site-packages\\sklearn\\metrics\\_classification.py:1531: UndefinedMetricWarning: Precision is ill-defined and being set to 0.0 in labels with no predicted samples. Use `zero_division` parameter to control this behavior.\n",
      "  _warn_prf(average, modifier, f\"{metric.capitalize()} is\", len(result))\n",
      "c:\\Users\\thami\\.conda\\envs\\finetunning-bert\\lib\\site-packages\\sklearn\\metrics\\_classification.py:1531: UndefinedMetricWarning: Recall is ill-defined and being set to 0.0 in labels with no true samples. Use `zero_division` parameter to control this behavior.\n",
      "  _warn_prf(average, modifier, f\"{metric.capitalize()} is\", len(result))\n",
      "                                                     \n",
      "\u001b[A                                               \n",
      "\n",
      " 63%|██████▎   | 756/1200 [22:09:16<04:17,  1.73it/s]\n",
      "\u001b[A\n",
      "\u001b[A"
     ]
    },
    {
     "name": "stdout",
     "output_type": "stream",
     "text": [
      "{'eval_loss': 0.33651435375213623, 'eval_accuracy': 0.8541666666666666, 'eval_f1': 0.8526785714285715, 'eval_precision': 0.892361111111111, 'eval_recall': 0.8541666666666666, 'eval_runtime': 0.4701, 'eval_samples_per_second': 102.097, 'eval_steps_per_second': 6.381, 'epoch': 30.0}\n"
     ]
    },
    {
     "name": "stderr",
     "output_type": "stream",
     "text": [
      "                                                     \n",
      " 63%|██████▎   | 756/1200 [22:09:26<04:17,  1.73it/s]"
     ]
    },
    {
     "name": "stdout",
     "output_type": "stream",
     "text": [
      "{'loss': 0.0089, 'grad_norm': 0.05522870272397995, 'learning_rate': 3.458333333333333e-05, 'epoch': 30.83}\n"
     ]
    },
    {
     "name": "stderr",
     "output_type": "stream",
     "text": [
      "\n",
      "\u001b[A\n",
      "\u001b[Ac:\\Users\\thami\\.conda\\envs\\finetunning-bert\\lib\\site-packages\\sklearn\\metrics\\_classification.py:1531: UndefinedMetricWarning: Precision is ill-defined and being set to 0.0 in labels with no predicted samples. Use `zero_division` parameter to control this behavior.\n",
      "  _warn_prf(average, modifier, f\"{metric.capitalize()} is\", len(result))\n",
      "c:\\Users\\thami\\.conda\\envs\\finetunning-bert\\lib\\site-packages\\sklearn\\metrics\\_classification.py:1531: UndefinedMetricWarning: Recall is ill-defined and being set to 0.0 in labels with no true samples. Use `zero_division` parameter to control this behavior.\n",
      "  _warn_prf(average, modifier, f\"{metric.capitalize()} is\", len(result))\n",
      "                                                     \n",
      "\u001b[A                                               \n",
      "\n",
      " 63%|██████▎   | 756/1200 [22:09:28<04:17,  1.73it/s]\n",
      "\u001b[A\n",
      "\u001b[A"
     ]
    },
    {
     "name": "stdout",
     "output_type": "stream",
     "text": [
      "{'eval_loss': 0.334583044052124, 'eval_accuracy': 0.8541666666666666, 'eval_f1': 0.8526785714285715, 'eval_precision': 0.892361111111111, 'eval_recall': 0.8541666666666666, 'eval_runtime': 0.5155, 'eval_samples_per_second': 93.106, 'eval_steps_per_second': 5.819, 'epoch': 31.0}\n"
     ]
    },
    {
     "name": "stderr",
     "output_type": "stream",
     "text": [
      "                                                     \n",
      " 63%|██████▎   | 756/1200 [22:09:38<04:17,  1.73it/s]"
     ]
    },
    {
     "name": "stdout",
     "output_type": "stream",
     "text": [
      "{'loss': 0.0086, 'grad_norm': 0.07023099064826965, 'learning_rate': 3.4166666666666666e-05, 'epoch': 31.67}\n"
     ]
    },
    {
     "name": "stderr",
     "output_type": "stream",
     "text": [
      "\n",
      "\u001b[A\n",
      "\u001b[A\n",
      "\u001b[Ac:\\Users\\thami\\.conda\\envs\\finetunning-bert\\lib\\site-packages\\sklearn\\metrics\\_classification.py:1531: UndefinedMetricWarning: Precision is ill-defined and being set to 0.0 in labels with no predicted samples. Use `zero_division` parameter to control this behavior.\n",
      "  _warn_prf(average, modifier, f\"{metric.capitalize()} is\", len(result))\n",
      "c:\\Users\\thami\\.conda\\envs\\finetunning-bert\\lib\\site-packages\\sklearn\\metrics\\_classification.py:1531: UndefinedMetricWarning: Recall is ill-defined and being set to 0.0 in labels with no true samples. Use `zero_division` parameter to control this behavior.\n",
      "  _warn_prf(average, modifier, f\"{metric.capitalize()} is\", len(result))\n",
      "                                                     \n",
      "\u001b[A                                               \n",
      "\n",
      " 63%|██████▎   | 756/1200 [22:09:44<04:17,  1.73it/s]\n",
      "\u001b[A\n",
      "\u001b[A"
     ]
    },
    {
     "name": "stdout",
     "output_type": "stream",
     "text": [
      "{'eval_loss': 0.3317720890045166, 'eval_accuracy': 0.8541666666666666, 'eval_f1': 0.8526785714285715, 'eval_precision': 0.892361111111111, 'eval_recall': 0.8541666666666666, 'eval_runtime': 1.296, 'eval_samples_per_second': 37.037, 'eval_steps_per_second': 2.315, 'epoch': 32.0}\n"
     ]
    },
    {
     "name": "stderr",
     "output_type": "stream",
     "text": [
      "                                                     \n",
      " 63%|██████▎   | 756/1200 [22:09:59<04:17,  1.73it/s]"
     ]
    },
    {
     "name": "stdout",
     "output_type": "stream",
     "text": [
      "{'loss': 0.0086, 'grad_norm': 0.06877390295267105, 'learning_rate': 3.375000000000001e-05, 'epoch': 32.5}\n"
     ]
    },
    {
     "name": "stderr",
     "output_type": "stream",
     "text": [
      "\n",
      "\u001b[A\n",
      "\u001b[Ac:\\Users\\thami\\.conda\\envs\\finetunning-bert\\lib\\site-packages\\sklearn\\metrics\\_classification.py:1531: UndefinedMetricWarning: Precision is ill-defined and being set to 0.0 in labels with no predicted samples. Use `zero_division` parameter to control this behavior.\n",
      "  _warn_prf(average, modifier, f\"{metric.capitalize()} is\", len(result))\n",
      "c:\\Users\\thami\\.conda\\envs\\finetunning-bert\\lib\\site-packages\\sklearn\\metrics\\_classification.py:1531: UndefinedMetricWarning: Recall is ill-defined and being set to 0.0 in labels with no true samples. Use `zero_division` parameter to control this behavior.\n",
      "  _warn_prf(average, modifier, f\"{metric.capitalize()} is\", len(result))\n",
      "                                                     \n",
      "\u001b[A                                               \n",
      "\n",
      " 63%|██████▎   | 756/1200 [22:10:05<04:17,  1.73it/s]\n",
      "\u001b[A\n",
      "\u001b[A"
     ]
    },
    {
     "name": "stdout",
     "output_type": "stream",
     "text": [
      "{'eval_loss': 0.3358403742313385, 'eval_accuracy': 0.8541666666666666, 'eval_f1': 0.8526785714285715, 'eval_precision': 0.892361111111111, 'eval_recall': 0.8541666666666666, 'eval_runtime': 0.479, 'eval_samples_per_second': 100.217, 'eval_steps_per_second': 6.264, 'epoch': 33.0}\n"
     ]
    },
    {
     "name": "stderr",
     "output_type": "stream",
     "text": [
      "                                                     \n",
      " 63%|██████▎   | 756/1200 [22:10:11<04:17,  1.73it/s]"
     ]
    },
    {
     "name": "stdout",
     "output_type": "stream",
     "text": [
      "{'loss': 0.0082, 'grad_norm': 0.05242214724421501, 'learning_rate': 3.3333333333333335e-05, 'epoch': 33.33}\n"
     ]
    },
    {
     "name": "stderr",
     "output_type": "stream",
     "text": [
      "\n",
      "\u001b[A\n",
      "\u001b[Ac:\\Users\\thami\\.conda\\envs\\finetunning-bert\\lib\\site-packages\\sklearn\\metrics\\_classification.py:1531: UndefinedMetricWarning: Precision is ill-defined and being set to 0.0 in labels with no predicted samples. Use `zero_division` parameter to control this behavior.\n",
      "  _warn_prf(average, modifier, f\"{metric.capitalize()} is\", len(result))\n",
      "c:\\Users\\thami\\.conda\\envs\\finetunning-bert\\lib\\site-packages\\sklearn\\metrics\\_classification.py:1531: UndefinedMetricWarning: Recall is ill-defined and being set to 0.0 in labels with no true samples. Use `zero_division` parameter to control this behavior.\n",
      "  _warn_prf(average, modifier, f\"{metric.capitalize()} is\", len(result))\n",
      "                                                     \n",
      "\u001b[A                                               \n",
      "\n",
      " 63%|██████▎   | 756/1200 [22:10:18<04:17,  1.73it/s]\n",
      "\u001b[A\n",
      "\u001b[A"
     ]
    },
    {
     "name": "stdout",
     "output_type": "stream",
     "text": [
      "{'eval_loss': 0.33857443928718567, 'eval_accuracy': 0.8541666666666666, 'eval_f1': 0.8526785714285715, 'eval_precision': 0.892361111111111, 'eval_recall': 0.8541666666666666, 'eval_runtime': 0.5145, 'eval_samples_per_second': 93.285, 'eval_steps_per_second': 5.83, 'epoch': 34.0}\n"
     ]
    },
    {
     "name": "stderr",
     "output_type": "stream",
     "text": [
      "                                                     \n",
      " 63%|██████▎   | 756/1200 [22:10:22<04:17,  1.73it/s]"
     ]
    },
    {
     "name": "stdout",
     "output_type": "stream",
     "text": [
      "{'loss': 0.008, 'grad_norm': 0.06726711243391037, 'learning_rate': 3.291666666666667e-05, 'epoch': 34.17}\n"
     ]
    },
    {
     "name": "stderr",
     "output_type": "stream",
     "text": [
      "                                                     \n",
      " 63%|██████▎   | 756/1200 [22:10:30<04:17,  1.73it/s]"
     ]
    },
    {
     "name": "stdout",
     "output_type": "stream",
     "text": [
      "{'loss': 0.0074, 'grad_norm': 0.053734198212623596, 'learning_rate': 3.2500000000000004e-05, 'epoch': 35.0}\n"
     ]
    },
    {
     "name": "stderr",
     "output_type": "stream",
     "text": [
      "\n",
      "\u001b[A\n",
      "\u001b[Ac:\\Users\\thami\\.conda\\envs\\finetunning-bert\\lib\\site-packages\\sklearn\\metrics\\_classification.py:1531: UndefinedMetricWarning: Precision is ill-defined and being set to 0.0 in labels with no predicted samples. Use `zero_division` parameter to control this behavior.\n",
      "  _warn_prf(average, modifier, f\"{metric.capitalize()} is\", len(result))\n",
      "c:\\Users\\thami\\.conda\\envs\\finetunning-bert\\lib\\site-packages\\sklearn\\metrics\\_classification.py:1531: UndefinedMetricWarning: Recall is ill-defined and being set to 0.0 in labels with no true samples. Use `zero_division` parameter to control this behavior.\n",
      "  _warn_prf(average, modifier, f\"{metric.capitalize()} is\", len(result))\n",
      "                                                     \n",
      "\u001b[A                                               \n",
      "\n",
      " 63%|██████▎   | 756/1200 [22:10:30<04:17,  1.73it/s]\n",
      "\u001b[A\n",
      "\u001b[A"
     ]
    },
    {
     "name": "stdout",
     "output_type": "stream",
     "text": [
      "{'eval_loss': 0.33728739619255066, 'eval_accuracy': 0.8541666666666666, 'eval_f1': 0.8526785714285715, 'eval_precision': 0.892361111111111, 'eval_recall': 0.8541666666666666, 'eval_runtime': 0.4719, 'eval_samples_per_second': 101.707, 'eval_steps_per_second': 6.357, 'epoch': 35.0}\n"
     ]
    },
    {
     "name": "stderr",
     "output_type": "stream",
     "text": [
      "                                                     \n",
      " 63%|██████▎   | 756/1200 [22:10:40<04:17,  1.73it/s]"
     ]
    },
    {
     "name": "stdout",
     "output_type": "stream",
     "text": [
      "{'loss': 0.0072, 'grad_norm': 0.059164129197597504, 'learning_rate': 3.208333333333334e-05, 'epoch': 35.83}\n"
     ]
    },
    {
     "name": "stderr",
     "output_type": "stream",
     "text": [
      "\n",
      "\u001b[A\n",
      "\u001b[Ac:\\Users\\thami\\.conda\\envs\\finetunning-bert\\lib\\site-packages\\sklearn\\metrics\\_classification.py:1531: UndefinedMetricWarning: Precision is ill-defined and being set to 0.0 in labels with no predicted samples. Use `zero_division` parameter to control this behavior.\n",
      "  _warn_prf(average, modifier, f\"{metric.capitalize()} is\", len(result))\n",
      "c:\\Users\\thami\\.conda\\envs\\finetunning-bert\\lib\\site-packages\\sklearn\\metrics\\_classification.py:1531: UndefinedMetricWarning: Recall is ill-defined and being set to 0.0 in labels with no true samples. Use `zero_division` parameter to control this behavior.\n",
      "  _warn_prf(average, modifier, f\"{metric.capitalize()} is\", len(result))\n",
      "                                                     \n",
      "\u001b[A                                               \n",
      "\n",
      " 63%|██████▎   | 756/1200 [22:10:42<04:17,  1.73it/s]\n",
      "\u001b[A\n",
      "\u001b[A"
     ]
    },
    {
     "name": "stdout",
     "output_type": "stream",
     "text": [
      "{'eval_loss': 0.3375494182109833, 'eval_accuracy': 0.8541666666666666, 'eval_f1': 0.8526785714285715, 'eval_precision': 0.892361111111111, 'eval_recall': 0.8541666666666666, 'eval_runtime': 0.4842, 'eval_samples_per_second': 99.133, 'eval_steps_per_second': 6.196, 'epoch': 36.0}\n"
     ]
    },
    {
     "name": "stderr",
     "output_type": "stream",
     "text": [
      "                                                     \n",
      " 63%|██████▎   | 756/1200 [22:10:52<04:17,  1.73it/s]"
     ]
    },
    {
     "name": "stdout",
     "output_type": "stream",
     "text": [
      "{'loss': 0.0067, 'grad_norm': 0.0670219212770462, 'learning_rate': 3.1666666666666666e-05, 'epoch': 36.67}\n"
     ]
    },
    {
     "name": "stderr",
     "output_type": "stream",
     "text": [
      "\n",
      "\u001b[A\n",
      "\u001b[Ac:\\Users\\thami\\.conda\\envs\\finetunning-bert\\lib\\site-packages\\sklearn\\metrics\\_classification.py:1531: UndefinedMetricWarning: Precision is ill-defined and being set to 0.0 in labels with no predicted samples. Use `zero_division` parameter to control this behavior.\n",
      "  _warn_prf(average, modifier, f\"{metric.capitalize()} is\", len(result))\n",
      "c:\\Users\\thami\\.conda\\envs\\finetunning-bert\\lib\\site-packages\\sklearn\\metrics\\_classification.py:1531: UndefinedMetricWarning: Recall is ill-defined and being set to 0.0 in labels with no true samples. Use `zero_division` parameter to control this behavior.\n",
      "  _warn_prf(average, modifier, f\"{metric.capitalize()} is\", len(result))\n",
      "                                                     \n",
      "\u001b[A                                               \n",
      "\n",
      " 63%|██████▎   | 756/1200 [22:10:55<04:17,  1.73it/s]\n",
      "\u001b[A\n",
      "\u001b[A"
     ]
    },
    {
     "name": "stdout",
     "output_type": "stream",
     "text": [
      "{'eval_loss': 0.34392985701560974, 'eval_accuracy': 0.8541666666666666, 'eval_f1': 0.8526785714285715, 'eval_precision': 0.892361111111111, 'eval_recall': 0.8541666666666666, 'eval_runtime': 0.4777, 'eval_samples_per_second': 100.489, 'eval_steps_per_second': 6.281, 'epoch': 37.0}\n"
     ]
    },
    {
     "name": "stderr",
     "output_type": "stream",
     "text": [
      "                                                     \n",
      " 63%|██████▎   | 756/1200 [22:11:03<04:17,  1.73it/s]"
     ]
    },
    {
     "name": "stdout",
     "output_type": "stream",
     "text": [
      "{'loss': 0.0065, 'grad_norm': 0.05716675892472267, 'learning_rate': 3.125e-05, 'epoch': 37.5}\n"
     ]
    },
    {
     "name": "stderr",
     "output_type": "stream",
     "text": [
      "\n",
      "\u001b[A\n",
      "\u001b[Ac:\\Users\\thami\\.conda\\envs\\finetunning-bert\\lib\\site-packages\\sklearn\\metrics\\_classification.py:1531: UndefinedMetricWarning: Precision is ill-defined and being set to 0.0 in labels with no predicted samples. Use `zero_division` parameter to control this behavior.\n",
      "  _warn_prf(average, modifier, f\"{metric.capitalize()} is\", len(result))\n",
      "c:\\Users\\thami\\.conda\\envs\\finetunning-bert\\lib\\site-packages\\sklearn\\metrics\\_classification.py:1531: UndefinedMetricWarning: Recall is ill-defined and being set to 0.0 in labels with no true samples. Use `zero_division` parameter to control this behavior.\n",
      "  _warn_prf(average, modifier, f\"{metric.capitalize()} is\", len(result))\n",
      "                                                     \n",
      "\u001b[A                                               \n",
      "\n",
      " 63%|██████▎   | 756/1200 [22:11:08<04:17,  1.73it/s]\n",
      "\u001b[A\n",
      "\u001b[A"
     ]
    },
    {
     "name": "stdout",
     "output_type": "stream",
     "text": [
      "{'eval_loss': 0.3501206934452057, 'eval_accuracy': 0.8541666666666666, 'eval_f1': 0.8526785714285715, 'eval_precision': 0.892361111111111, 'eval_recall': 0.8541666666666666, 'eval_runtime': 0.4728, 'eval_samples_per_second': 101.526, 'eval_steps_per_second': 6.345, 'epoch': 38.0}\n"
     ]
    },
    {
     "name": "stderr",
     "output_type": "stream",
     "text": [
      "                                                     \n",
      " 63%|██████▎   | 756/1200 [22:11:14<04:17,  1.73it/s]"
     ]
    },
    {
     "name": "stdout",
     "output_type": "stream",
     "text": [
      "{'loss': 0.0071, 'grad_norm': 0.06030276045203209, 'learning_rate': 3.0833333333333335e-05, 'epoch': 38.33}\n"
     ]
    },
    {
     "name": "stderr",
     "output_type": "stream",
     "text": [
      "\n",
      "\u001b[A\n",
      "\u001b[Ac:\\Users\\thami\\.conda\\envs\\finetunning-bert\\lib\\site-packages\\sklearn\\metrics\\_classification.py:1531: UndefinedMetricWarning: Precision is ill-defined and being set to 0.0 in labels with no predicted samples. Use `zero_division` parameter to control this behavior.\n",
      "  _warn_prf(average, modifier, f\"{metric.capitalize()} is\", len(result))\n",
      "c:\\Users\\thami\\.conda\\envs\\finetunning-bert\\lib\\site-packages\\sklearn\\metrics\\_classification.py:1531: UndefinedMetricWarning: Recall is ill-defined and being set to 0.0 in labels with no true samples. Use `zero_division` parameter to control this behavior.\n",
      "  _warn_prf(average, modifier, f\"{metric.capitalize()} is\", len(result))\n",
      "                                                     \n",
      "\u001b[A                                               \n",
      "\n",
      " 63%|██████▎   | 756/1200 [22:11:20<04:17,  1.73it/s]\n",
      "\u001b[A\n",
      "\u001b[A"
     ]
    },
    {
     "name": "stdout",
     "output_type": "stream",
     "text": [
      "{'eval_loss': 0.3479672968387604, 'eval_accuracy': 0.8541666666666666, 'eval_f1': 0.8526785714285715, 'eval_precision': 0.892361111111111, 'eval_recall': 0.8541666666666666, 'eval_runtime': 0.4911, 'eval_samples_per_second': 97.737, 'eval_steps_per_second': 6.109, 'epoch': 39.0}\n"
     ]
    },
    {
     "name": "stderr",
     "output_type": "stream",
     "text": [
      "                                                     \n",
      " 63%|██████▎   | 756/1200 [22:11:25<04:17,  1.73it/s]"
     ]
    },
    {
     "name": "stdout",
     "output_type": "stream",
     "text": [
      "{'loss': 0.0064, 'grad_norm': 0.04454968124628067, 'learning_rate': 3.0416666666666666e-05, 'epoch': 39.17}\n"
     ]
    },
    {
     "name": "stderr",
     "output_type": "stream",
     "text": [
      "                                                     \n",
      " 63%|██████▎   | 756/1200 [22:11:33<04:17,  1.73it/s]"
     ]
    },
    {
     "name": "stdout",
     "output_type": "stream",
     "text": [
      "{'loss': 0.0061, 'grad_norm': 0.049906179308891296, 'learning_rate': 3e-05, 'epoch': 40.0}\n"
     ]
    },
    {
     "name": "stderr",
     "output_type": "stream",
     "text": [
      "\n",
      "\u001b[A\n",
      "\u001b[Ac:\\Users\\thami\\.conda\\envs\\finetunning-bert\\lib\\site-packages\\sklearn\\metrics\\_classification.py:1531: UndefinedMetricWarning: Precision is ill-defined and being set to 0.0 in labels with no predicted samples. Use `zero_division` parameter to control this behavior.\n",
      "  _warn_prf(average, modifier, f\"{metric.capitalize()} is\", len(result))\n",
      "c:\\Users\\thami\\.conda\\envs\\finetunning-bert\\lib\\site-packages\\sklearn\\metrics\\_classification.py:1531: UndefinedMetricWarning: Recall is ill-defined and being set to 0.0 in labels with no true samples. Use `zero_division` parameter to control this behavior.\n",
      "  _warn_prf(average, modifier, f\"{metric.capitalize()} is\", len(result))\n",
      "                                                     \n",
      "\u001b[A                                               \n",
      "\n",
      " 63%|██████▎   | 756/1200 [22:11:34<04:17,  1.73it/s]\n",
      "\u001b[A\n",
      "\u001b[A"
     ]
    },
    {
     "name": "stdout",
     "output_type": "stream",
     "text": [
      "{'eval_loss': 0.3460358679294586, 'eval_accuracy': 0.8541666666666666, 'eval_f1': 0.8526785714285715, 'eval_precision': 0.892361111111111, 'eval_recall': 0.8541666666666666, 'eval_runtime': 0.4724, 'eval_samples_per_second': 101.607, 'eval_steps_per_second': 6.35, 'epoch': 40.0}\n"
     ]
    },
    {
     "name": "stderr",
     "output_type": "stream",
     "text": [
      "                                                     \n",
      " 63%|██████▎   | 756/1200 [22:11:44<04:17,  1.73it/s]"
     ]
    },
    {
     "name": "stdout",
     "output_type": "stream",
     "text": [
      "{'loss': 0.0059, 'grad_norm': 0.05334482342004776, 'learning_rate': 2.9583333333333335e-05, 'epoch': 40.83}\n"
     ]
    },
    {
     "name": "stderr",
     "output_type": "stream",
     "text": [
      "\n",
      "\u001b[A\n",
      "\u001b[Ac:\\Users\\thami\\.conda\\envs\\finetunning-bert\\lib\\site-packages\\sklearn\\metrics\\_classification.py:1531: UndefinedMetricWarning: Precision is ill-defined and being set to 0.0 in labels with no predicted samples. Use `zero_division` parameter to control this behavior.\n",
      "  _warn_prf(average, modifier, f\"{metric.capitalize()} is\", len(result))\n",
      "c:\\Users\\thami\\.conda\\envs\\finetunning-bert\\lib\\site-packages\\sklearn\\metrics\\_classification.py:1531: UndefinedMetricWarning: Recall is ill-defined and being set to 0.0 in labels with no true samples. Use `zero_division` parameter to control this behavior.\n",
      "  _warn_prf(average, modifier, f\"{metric.capitalize()} is\", len(result))\n",
      "                                                     \n",
      "\u001b[A                                               \n",
      "\n",
      " 63%|██████▎   | 756/1200 [22:11:46<04:17,  1.73it/s]\n",
      "\u001b[A\n",
      "\u001b[A"
     ]
    },
    {
     "name": "stdout",
     "output_type": "stream",
     "text": [
      "{'eval_loss': 0.3476436138153076, 'eval_accuracy': 0.8541666666666666, 'eval_f1': 0.8526785714285715, 'eval_precision': 0.892361111111111, 'eval_recall': 0.8541666666666666, 'eval_runtime': 0.4756, 'eval_samples_per_second': 100.935, 'eval_steps_per_second': 6.308, 'epoch': 41.0}\n"
     ]
    },
    {
     "name": "stderr",
     "output_type": "stream",
     "text": [
      "                                                     \n",
      " 63%|██████▎   | 756/1200 [22:11:59<04:17,  1.73it/s]"
     ]
    },
    {
     "name": "stdout",
     "output_type": "stream",
     "text": [
      "{'loss': 0.0057, 'grad_norm': 0.03897210583090782, 'learning_rate': 2.916666666666667e-05, 'epoch': 41.67}\n"
     ]
    },
    {
     "name": "stderr",
     "output_type": "stream",
     "text": [
      "\n",
      "\u001b[A\n",
      "\u001b[A\n",
      "\u001b[Ac:\\Users\\thami\\.conda\\envs\\finetunning-bert\\lib\\site-packages\\sklearn\\metrics\\_classification.py:1531: UndefinedMetricWarning: Precision is ill-defined and being set to 0.0 in labels with no predicted samples. Use `zero_division` parameter to control this behavior.\n",
      "  _warn_prf(average, modifier, f\"{metric.capitalize()} is\", len(result))\n",
      "c:\\Users\\thami\\.conda\\envs\\finetunning-bert\\lib\\site-packages\\sklearn\\metrics\\_classification.py:1531: UndefinedMetricWarning: Recall is ill-defined and being set to 0.0 in labels with no true samples. Use `zero_division` parameter to control this behavior.\n",
      "  _warn_prf(average, modifier, f\"{metric.capitalize()} is\", len(result))\n",
      "                                                     \n",
      "\u001b[A                                               \n",
      "\n",
      " 63%|██████▎   | 756/1200 [22:12:02<04:17,  1.73it/s]\n",
      "\u001b[A\n",
      "\u001b[A"
     ]
    },
    {
     "name": "stdout",
     "output_type": "stream",
     "text": [
      "{'eval_loss': 0.3512222468852997, 'eval_accuracy': 0.8541666666666666, 'eval_f1': 0.8526785714285715, 'eval_precision': 0.892361111111111, 'eval_recall': 0.8541666666666666, 'eval_runtime': 0.555, 'eval_samples_per_second': 86.492, 'eval_steps_per_second': 5.406, 'epoch': 42.0}\n"
     ]
    },
    {
     "name": "stderr",
     "output_type": "stream",
     "text": [
      "                                                     \n",
      " 63%|██████▎   | 756/1200 [22:12:10<04:17,  1.73it/s]"
     ]
    },
    {
     "name": "stdout",
     "output_type": "stream",
     "text": [
      "{'loss': 0.0054, 'grad_norm': 0.041280731558799744, 'learning_rate': 2.8749999999999997e-05, 'epoch': 42.5}\n"
     ]
    },
    {
     "name": "stderr",
     "output_type": "stream",
     "text": [
      "\n",
      "\u001b[A\n",
      "\u001b[Ac:\\Users\\thami\\.conda\\envs\\finetunning-bert\\lib\\site-packages\\sklearn\\metrics\\_classification.py:1531: UndefinedMetricWarning: Precision is ill-defined and being set to 0.0 in labels with no predicted samples. Use `zero_division` parameter to control this behavior.\n",
      "  _warn_prf(average, modifier, f\"{metric.capitalize()} is\", len(result))\n",
      "c:\\Users\\thami\\.conda\\envs\\finetunning-bert\\lib\\site-packages\\sklearn\\metrics\\_classification.py:1531: UndefinedMetricWarning: Recall is ill-defined and being set to 0.0 in labels with no true samples. Use `zero_division` parameter to control this behavior.\n",
      "  _warn_prf(average, modifier, f\"{metric.capitalize()} is\", len(result))\n",
      "                                                     \n",
      "\u001b[A                                               \n",
      "\n",
      " 63%|██████▎   | 756/1200 [22:12:14<04:17,  1.73it/s]\n",
      "\u001b[A\n",
      "\u001b[A"
     ]
    },
    {
     "name": "stdout",
     "output_type": "stream",
     "text": [
      "{'eval_loss': 0.35468974709510803, 'eval_accuracy': 0.8541666666666666, 'eval_f1': 0.8526785714285715, 'eval_precision': 0.892361111111111, 'eval_recall': 0.8541666666666666, 'eval_runtime': 0.4713, 'eval_samples_per_second': 101.842, 'eval_steps_per_second': 6.365, 'epoch': 43.0}\n"
     ]
    },
    {
     "name": "stderr",
     "output_type": "stream",
     "text": [
      "                                                     \n",
      " 63%|██████▎   | 756/1200 [22:12:20<04:17,  1.73it/s]"
     ]
    },
    {
     "name": "stdout",
     "output_type": "stream",
     "text": [
      "{'loss': 0.0056, 'grad_norm': 0.05509718507528305, 'learning_rate': 2.8333333333333335e-05, 'epoch': 43.33}\n"
     ]
    },
    {
     "name": "stderr",
     "output_type": "stream",
     "text": [
      "\n",
      "\u001b[A\n",
      "\u001b[Ac:\\Users\\thami\\.conda\\envs\\finetunning-bert\\lib\\site-packages\\sklearn\\metrics\\_classification.py:1531: UndefinedMetricWarning: Precision is ill-defined and being set to 0.0 in labels with no predicted samples. Use `zero_division` parameter to control this behavior.\n",
      "  _warn_prf(average, modifier, f\"{metric.capitalize()} is\", len(result))\n",
      "c:\\Users\\thami\\.conda\\envs\\finetunning-bert\\lib\\site-packages\\sklearn\\metrics\\_classification.py:1531: UndefinedMetricWarning: Recall is ill-defined and being set to 0.0 in labels with no true samples. Use `zero_division` parameter to control this behavior.\n",
      "  _warn_prf(average, modifier, f\"{metric.capitalize()} is\", len(result))\n",
      "                                                     \n",
      "\u001b[A                                               \n",
      "\n",
      " 63%|██████▎   | 756/1200 [22:12:26<04:17,  1.73it/s]\n",
      "\u001b[A\n",
      "\u001b[A"
     ]
    },
    {
     "name": "stdout",
     "output_type": "stream",
     "text": [
      "{'eval_loss': 0.3520186245441437, 'eval_accuracy': 0.8541666666666666, 'eval_f1': 0.8526785714285715, 'eval_precision': 0.892361111111111, 'eval_recall': 0.8541666666666666, 'eval_runtime': 0.4612, 'eval_samples_per_second': 104.071, 'eval_steps_per_second': 6.504, 'epoch': 44.0}\n"
     ]
    },
    {
     "name": "stderr",
     "output_type": "stream",
     "text": [
      "                                                     \n",
      " 63%|██████▎   | 756/1200 [22:12:31<04:17,  1.73it/s]"
     ]
    },
    {
     "name": "stdout",
     "output_type": "stream",
     "text": [
      "{'loss': 0.0049, 'grad_norm': 0.04530206695199013, 'learning_rate': 2.791666666666667e-05, 'epoch': 44.17}\n"
     ]
    },
    {
     "name": "stderr",
     "output_type": "stream",
     "text": [
      "                                                     \n",
      " 63%|██████▎   | 756/1200 [22:12:38<04:17,  1.73it/s]"
     ]
    },
    {
     "name": "stdout",
     "output_type": "stream",
     "text": [
      "{'loss': 0.0051, 'grad_norm': 0.03770867735147476, 'learning_rate': 2.7500000000000004e-05, 'epoch': 45.0}\n"
     ]
    },
    {
     "name": "stderr",
     "output_type": "stream",
     "text": [
      "\n",
      "\u001b[A\n",
      "\u001b[Ac:\\Users\\thami\\.conda\\envs\\finetunning-bert\\lib\\site-packages\\sklearn\\metrics\\_classification.py:1531: UndefinedMetricWarning: Precision is ill-defined and being set to 0.0 in labels with no predicted samples. Use `zero_division` parameter to control this behavior.\n",
      "  _warn_prf(average, modifier, f\"{metric.capitalize()} is\", len(result))\n",
      "c:\\Users\\thami\\.conda\\envs\\finetunning-bert\\lib\\site-packages\\sklearn\\metrics\\_classification.py:1531: UndefinedMetricWarning: Recall is ill-defined and being set to 0.0 in labels with no true samples. Use `zero_division` parameter to control this behavior.\n",
      "  _warn_prf(average, modifier, f\"{metric.capitalize()} is\", len(result))\n",
      "                                                     \n",
      "\u001b[A                                               \n",
      "\n",
      " 63%|██████▎   | 756/1200 [22:12:39<04:17,  1.73it/s]\n",
      "\u001b[A\n",
      "\u001b[A"
     ]
    },
    {
     "name": "stdout",
     "output_type": "stream",
     "text": [
      "{'eval_loss': 0.34783196449279785, 'eval_accuracy': 0.8541666666666666, 'eval_f1': 0.8526785714285715, 'eval_precision': 0.892361111111111, 'eval_recall': 0.8541666666666666, 'eval_runtime': 0.4714, 'eval_samples_per_second': 101.815, 'eval_steps_per_second': 6.363, 'epoch': 45.0}\n"
     ]
    },
    {
     "name": "stderr",
     "output_type": "stream",
     "text": [
      "                                                     \n",
      " 63%|██████▎   | 756/1200 [22:12:51<04:17,  1.73it/s]"
     ]
    },
    {
     "name": "stdout",
     "output_type": "stream",
     "text": [
      "{'loss': 0.0049, 'grad_norm': 0.03999185189604759, 'learning_rate': 2.7083333333333332e-05, 'epoch': 45.83}\n"
     ]
    },
    {
     "name": "stderr",
     "output_type": "stream",
     "text": [
      "\n",
      "\u001b[A\n",
      "\u001b[Ac:\\Users\\thami\\.conda\\envs\\finetunning-bert\\lib\\site-packages\\sklearn\\metrics\\_classification.py:1531: UndefinedMetricWarning: Precision is ill-defined and being set to 0.0 in labels with no predicted samples. Use `zero_division` parameter to control this behavior.\n",
      "  _warn_prf(average, modifier, f\"{metric.capitalize()} is\", len(result))\n",
      "c:\\Users\\thami\\.conda\\envs\\finetunning-bert\\lib\\site-packages\\sklearn\\metrics\\_classification.py:1531: UndefinedMetricWarning: Recall is ill-defined and being set to 0.0 in labels with no true samples. Use `zero_division` parameter to control this behavior.\n",
      "  _warn_prf(average, modifier, f\"{metric.capitalize()} is\", len(result))\n",
      "                                                     \n",
      "\u001b[A                                               \n",
      "\n",
      " 63%|██████▎   | 756/1200 [22:12:53<04:17,  1.73it/s]\n",
      "\u001b[A\n",
      "\u001b[A"
     ]
    },
    {
     "name": "stdout",
     "output_type": "stream",
     "text": [
      "{'eval_loss': 0.3488764762878418, 'eval_accuracy': 0.8333333333333334, 'eval_f1': 0.8387896825396824, 'eval_precision': 0.8819444444444443, 'eval_recall': 0.8333333333333334, 'eval_runtime': 0.461, 'eval_samples_per_second': 104.128, 'eval_steps_per_second': 6.508, 'epoch': 46.0}\n"
     ]
    },
    {
     "name": "stderr",
     "output_type": "stream",
     "text": [
      "                                                     \n",
      " 63%|██████▎   | 756/1200 [22:13:02<04:17,  1.73it/s]"
     ]
    },
    {
     "name": "stdout",
     "output_type": "stream",
     "text": [
      "{'loss': 0.0047, 'grad_norm': 0.043021466583013535, 'learning_rate': 2.6666666666666667e-05, 'epoch': 46.67}\n"
     ]
    },
    {
     "name": "stderr",
     "output_type": "stream",
     "text": [
      "\n",
      "\u001b[A\n",
      "\u001b[Ac:\\Users\\thami\\.conda\\envs\\finetunning-bert\\lib\\site-packages\\sklearn\\metrics\\_classification.py:1531: UndefinedMetricWarning: Precision is ill-defined and being set to 0.0 in labels with no predicted samples. Use `zero_division` parameter to control this behavior.\n",
      "  _warn_prf(average, modifier, f\"{metric.capitalize()} is\", len(result))\n",
      "c:\\Users\\thami\\.conda\\envs\\finetunning-bert\\lib\\site-packages\\sklearn\\metrics\\_classification.py:1531: UndefinedMetricWarning: Recall is ill-defined and being set to 0.0 in labels with no true samples. Use `zero_division` parameter to control this behavior.\n",
      "  _warn_prf(average, modifier, f\"{metric.capitalize()} is\", len(result))\n",
      "                                                     \n",
      "\u001b[A                                               \n",
      "\n",
      " 63%|██████▎   | 756/1200 [22:13:06<04:17,  1.73it/s]\n",
      "\u001b[A\n",
      "\u001b[A"
     ]
    },
    {
     "name": "stdout",
     "output_type": "stream",
     "text": [
      "{'eval_loss': 0.34850165247917175, 'eval_accuracy': 0.8333333333333334, 'eval_f1': 0.8387896825396824, 'eval_precision': 0.8819444444444443, 'eval_recall': 0.8333333333333334, 'eval_runtime': 0.4964, 'eval_samples_per_second': 96.692, 'eval_steps_per_second': 6.043, 'epoch': 47.0}\n"
     ]
    },
    {
     "name": "stderr",
     "output_type": "stream",
     "text": [
      "                                                     \n",
      " 63%|██████▎   | 756/1200 [22:13:13<04:17,  1.73it/s]"
     ]
    },
    {
     "name": "stdout",
     "output_type": "stream",
     "text": [
      "{'loss': 0.0048, 'grad_norm': 0.046717457473278046, 'learning_rate': 2.625e-05, 'epoch': 47.5}\n"
     ]
    },
    {
     "name": "stderr",
     "output_type": "stream",
     "text": [
      "\n",
      "\u001b[A\n",
      "\u001b[Ac:\\Users\\thami\\.conda\\envs\\finetunning-bert\\lib\\site-packages\\sklearn\\metrics\\_classification.py:1531: UndefinedMetricWarning: Precision is ill-defined and being set to 0.0 in labels with no predicted samples. Use `zero_division` parameter to control this behavior.\n",
      "  _warn_prf(average, modifier, f\"{metric.capitalize()} is\", len(result))\n",
      "c:\\Users\\thami\\.conda\\envs\\finetunning-bert\\lib\\site-packages\\sklearn\\metrics\\_classification.py:1531: UndefinedMetricWarning: Recall is ill-defined and being set to 0.0 in labels with no true samples. Use `zero_division` parameter to control this behavior.\n",
      "  _warn_prf(average, modifier, f\"{metric.capitalize()} is\", len(result))\n",
      "                                                     \n",
      "\u001b[A                                               \n",
      "\n",
      " 63%|██████▎   | 756/1200 [22:13:18<04:17,  1.73it/s]\n",
      "\u001b[A\n",
      "\u001b[A"
     ]
    },
    {
     "name": "stdout",
     "output_type": "stream",
     "text": [
      "{'eval_loss': 0.3501676023006439, 'eval_accuracy': 0.8333333333333334, 'eval_f1': 0.8387896825396824, 'eval_precision': 0.8819444444444443, 'eval_recall': 0.8333333333333334, 'eval_runtime': 0.4717, 'eval_samples_per_second': 101.752, 'eval_steps_per_second': 6.36, 'epoch': 48.0}\n"
     ]
    },
    {
     "name": "stderr",
     "output_type": "stream",
     "text": [
      "                                                     \n",
      " 63%|██████▎   | 756/1200 [22:13:24<04:17,  1.73it/s]"
     ]
    },
    {
     "name": "stdout",
     "output_type": "stream",
     "text": [
      "{'loss': 0.0046, 'grad_norm': 0.04927090182900429, 'learning_rate': 2.5833333333333336e-05, 'epoch': 48.33}\n"
     ]
    },
    {
     "name": "stderr",
     "output_type": "stream",
     "text": [
      "\n",
      "\u001b[A\n",
      "\u001b[Ac:\\Users\\thami\\.conda\\envs\\finetunning-bert\\lib\\site-packages\\sklearn\\metrics\\_classification.py:1531: UndefinedMetricWarning: Precision is ill-defined and being set to 0.0 in labels with no predicted samples. Use `zero_division` parameter to control this behavior.\n",
      "  _warn_prf(average, modifier, f\"{metric.capitalize()} is\", len(result))\n",
      "c:\\Users\\thami\\.conda\\envs\\finetunning-bert\\lib\\site-packages\\sklearn\\metrics\\_classification.py:1531: UndefinedMetricWarning: Recall is ill-defined and being set to 0.0 in labels with no true samples. Use `zero_division` parameter to control this behavior.\n",
      "  _warn_prf(average, modifier, f\"{metric.capitalize()} is\", len(result))\n",
      "                                                     \n",
      "\u001b[A                                               \n",
      "\n",
      " 63%|██████▎   | 756/1200 [22:13:30<04:17,  1.73it/s]\n",
      "\u001b[A\n",
      "\u001b[A"
     ]
    },
    {
     "name": "stdout",
     "output_type": "stream",
     "text": [
      "{'eval_loss': 0.35650086402893066, 'eval_accuracy': 0.8333333333333334, 'eval_f1': 0.8387896825396824, 'eval_precision': 0.8819444444444443, 'eval_recall': 0.8333333333333334, 'eval_runtime': 0.4399, 'eval_samples_per_second': 109.128, 'eval_steps_per_second': 6.82, 'epoch': 49.0}\n"
     ]
    },
    {
     "name": "stderr",
     "output_type": "stream",
     "text": [
      "                                                     \n",
      " 63%|██████▎   | 756/1200 [22:13:34<04:17,  1.73it/s]"
     ]
    },
    {
     "name": "stdout",
     "output_type": "stream",
     "text": [
      "{'loss': 0.0045, 'grad_norm': 0.03541935980319977, 'learning_rate': 2.5416666666666667e-05, 'epoch': 49.17}\n"
     ]
    },
    {
     "name": "stderr",
     "output_type": "stream",
     "text": [
      "                                                     \n",
      " 63%|██████▎   | 756/1200 [22:13:42<04:17,  1.73it/s]"
     ]
    },
    {
     "name": "stdout",
     "output_type": "stream",
     "text": [
      "{'loss': 0.0043, 'grad_norm': 0.04338662698864937, 'learning_rate': 2.5e-05, 'epoch': 50.0}\n"
     ]
    },
    {
     "name": "stderr",
     "output_type": "stream",
     "text": [
      "\n",
      "\u001b[A\n",
      "\u001b[Ac:\\Users\\thami\\.conda\\envs\\finetunning-bert\\lib\\site-packages\\sklearn\\metrics\\_classification.py:1531: UndefinedMetricWarning: Precision is ill-defined and being set to 0.0 in labels with no predicted samples. Use `zero_division` parameter to control this behavior.\n",
      "  _warn_prf(average, modifier, f\"{metric.capitalize()} is\", len(result))\n",
      "c:\\Users\\thami\\.conda\\envs\\finetunning-bert\\lib\\site-packages\\sklearn\\metrics\\_classification.py:1531: UndefinedMetricWarning: Recall is ill-defined and being set to 0.0 in labels with no true samples. Use `zero_division` parameter to control this behavior.\n",
      "  _warn_prf(average, modifier, f\"{metric.capitalize()} is\", len(result))\n",
      "                                                     \n",
      "\u001b[A                                               \n",
      "\n",
      " 63%|██████▎   | 756/1200 [22:13:42<04:17,  1.73it/s]\n",
      "\u001b[A\n",
      "\u001b[A"
     ]
    },
    {
     "name": "stdout",
     "output_type": "stream",
     "text": [
      "{'eval_loss': 0.357717365026474, 'eval_accuracy': 0.8333333333333334, 'eval_f1': 0.8387896825396824, 'eval_precision': 0.8819444444444443, 'eval_recall': 0.8333333333333334, 'eval_runtime': 0.4842, 'eval_samples_per_second': 99.139, 'eval_steps_per_second': 6.196, 'epoch': 50.0}\n"
     ]
    },
    {
     "name": "stderr",
     "output_type": "stream",
     "text": [
      "                                                     \n",
      " 63%|██████▎   | 756/1200 [22:13:52<04:17,  1.73it/s]"
     ]
    },
    {
     "name": "stdout",
     "output_type": "stream",
     "text": [
      "{'loss': 0.0042, 'grad_norm': 0.027540141716599464, 'learning_rate': 2.4583333333333332e-05, 'epoch': 50.83}\n"
     ]
    },
    {
     "name": "stderr",
     "output_type": "stream",
     "text": [
      "\n",
      "\u001b[A\n",
      "\u001b[Ac:\\Users\\thami\\.conda\\envs\\finetunning-bert\\lib\\site-packages\\sklearn\\metrics\\_classification.py:1531: UndefinedMetricWarning: Precision is ill-defined and being set to 0.0 in labels with no predicted samples. Use `zero_division` parameter to control this behavior.\n",
      "  _warn_prf(average, modifier, f\"{metric.capitalize()} is\", len(result))\n",
      "c:\\Users\\thami\\.conda\\envs\\finetunning-bert\\lib\\site-packages\\sklearn\\metrics\\_classification.py:1531: UndefinedMetricWarning: Recall is ill-defined and being set to 0.0 in labels with no true samples. Use `zero_division` parameter to control this behavior.\n",
      "  _warn_prf(average, modifier, f\"{metric.capitalize()} is\", len(result))\n",
      "                                                     \n",
      "\u001b[A                                               \n",
      "\n",
      " 63%|██████▎   | 756/1200 [22:13:54<04:17,  1.73it/s]\n",
      "\u001b[A\n",
      "\u001b[A"
     ]
    },
    {
     "name": "stdout",
     "output_type": "stream",
     "text": [
      "{'eval_loss': 0.36346521973609924, 'eval_accuracy': 0.8333333333333334, 'eval_f1': 0.8387896825396824, 'eval_precision': 0.8819444444444443, 'eval_recall': 0.8333333333333334, 'eval_runtime': 0.4822, 'eval_samples_per_second': 99.541, 'eval_steps_per_second': 6.221, 'epoch': 51.0}\n"
     ]
    },
    {
     "name": "stderr",
     "output_type": "stream",
     "text": [
      "                                                     \n",
      " 63%|██████▎   | 756/1200 [22:14:03<04:17,  1.73it/s]"
     ]
    },
    {
     "name": "stdout",
     "output_type": "stream",
     "text": [
      "{'loss': 0.0042, 'grad_norm': 0.037019282579422, 'learning_rate': 2.4166666666666667e-05, 'epoch': 51.67}\n"
     ]
    },
    {
     "name": "stderr",
     "output_type": "stream",
     "text": [
      "\n",
      "\u001b[A\n",
      "\u001b[Ac:\\Users\\thami\\.conda\\envs\\finetunning-bert\\lib\\site-packages\\sklearn\\metrics\\_classification.py:1531: UndefinedMetricWarning: Precision is ill-defined and being set to 0.0 in labels with no predicted samples. Use `zero_division` parameter to control this behavior.\n",
      "  _warn_prf(average, modifier, f\"{metric.capitalize()} is\", len(result))\n",
      "c:\\Users\\thami\\.conda\\envs\\finetunning-bert\\lib\\site-packages\\sklearn\\metrics\\_classification.py:1531: UndefinedMetricWarning: Recall is ill-defined and being set to 0.0 in labels with no true samples. Use `zero_division` parameter to control this behavior.\n",
      "  _warn_prf(average, modifier, f\"{metric.capitalize()} is\", len(result))\n",
      "                                                     \n",
      "\u001b[A                                               \n",
      "\n",
      " 63%|██████▎   | 756/1200 [22:14:07<04:17,  1.73it/s]\n",
      "\u001b[A\n",
      "\u001b[A"
     ]
    },
    {
     "name": "stdout",
     "output_type": "stream",
     "text": [
      "{'eval_loss': 0.3642731010913849, 'eval_accuracy': 0.8333333333333334, 'eval_f1': 0.8387896825396824, 'eval_precision': 0.8819444444444443, 'eval_recall': 0.8333333333333334, 'eval_runtime': 0.4535, 'eval_samples_per_second': 105.839, 'eval_steps_per_second': 6.615, 'epoch': 52.0}\n"
     ]
    },
    {
     "name": "stderr",
     "output_type": "stream",
     "text": [
      "                                                     \n",
      " 63%|██████▎   | 756/1200 [22:14:14<04:17,  1.73it/s]"
     ]
    },
    {
     "name": "stdout",
     "output_type": "stream",
     "text": [
      "{'loss': 0.0041, 'grad_norm': 0.03408334404230118, 'learning_rate': 2.375e-05, 'epoch': 52.5}\n"
     ]
    },
    {
     "name": "stderr",
     "output_type": "stream",
     "text": [
      "\n",
      "\u001b[A\n",
      "\u001b[Ac:\\Users\\thami\\.conda\\envs\\finetunning-bert\\lib\\site-packages\\sklearn\\metrics\\_classification.py:1531: UndefinedMetricWarning: Precision is ill-defined and being set to 0.0 in labels with no predicted samples. Use `zero_division` parameter to control this behavior.\n",
      "  _warn_prf(average, modifier, f\"{metric.capitalize()} is\", len(result))\n",
      "c:\\Users\\thami\\.conda\\envs\\finetunning-bert\\lib\\site-packages\\sklearn\\metrics\\_classification.py:1531: UndefinedMetricWarning: Recall is ill-defined and being set to 0.0 in labels with no true samples. Use `zero_division` parameter to control this behavior.\n",
      "  _warn_prf(average, modifier, f\"{metric.capitalize()} is\", len(result))\n",
      "                                                     \n",
      "\u001b[A                                               \n",
      "\n",
      " 63%|██████▎   | 756/1200 [22:14:19<04:17,  1.73it/s]\n",
      "\u001b[A\n",
      "\u001b[A"
     ]
    },
    {
     "name": "stdout",
     "output_type": "stream",
     "text": [
      "{'eval_loss': 0.360694020986557, 'eval_accuracy': 0.8541666666666666, 'eval_f1': 0.8526785714285715, 'eval_precision': 0.892361111111111, 'eval_recall': 0.8541666666666666, 'eval_runtime': 0.4417, 'eval_samples_per_second': 108.669, 'eval_steps_per_second': 6.792, 'epoch': 53.0}\n"
     ]
    },
    {
     "name": "stderr",
     "output_type": "stream",
     "text": [
      "                                                     \n",
      " 63%|██████▎   | 756/1200 [22:14:25<04:17,  1.73it/s]"
     ]
    },
    {
     "name": "stdout",
     "output_type": "stream",
     "text": [
      "{'loss': 0.0041, 'grad_norm': 0.03501003980636597, 'learning_rate': 2.3333333333333336e-05, 'epoch': 53.33}\n"
     ]
    },
    {
     "name": "stderr",
     "output_type": "stream",
     "text": [
      "\n",
      "\u001b[A\n",
      "\u001b[Ac:\\Users\\thami\\.conda\\envs\\finetunning-bert\\lib\\site-packages\\sklearn\\metrics\\_classification.py:1531: UndefinedMetricWarning: Precision is ill-defined and being set to 0.0 in labels with no predicted samples. Use `zero_division` parameter to control this behavior.\n",
      "  _warn_prf(average, modifier, f\"{metric.capitalize()} is\", len(result))\n",
      "c:\\Users\\thami\\.conda\\envs\\finetunning-bert\\lib\\site-packages\\sklearn\\metrics\\_classification.py:1531: UndefinedMetricWarning: Recall is ill-defined and being set to 0.0 in labels with no true samples. Use `zero_division` parameter to control this behavior.\n",
      "  _warn_prf(average, modifier, f\"{metric.capitalize()} is\", len(result))\n",
      "                                                     \n",
      "\u001b[A                                               \n",
      "\n",
      " 63%|██████▎   | 756/1200 [22:14:31<04:17,  1.73it/s]\n",
      "\u001b[A\n",
      "\u001b[A"
     ]
    },
    {
     "name": "stdout",
     "output_type": "stream",
     "text": [
      "{'eval_loss': 0.35565197467803955, 'eval_accuracy': 0.8541666666666666, 'eval_f1': 0.8526785714285715, 'eval_precision': 0.892361111111111, 'eval_recall': 0.8541666666666666, 'eval_runtime': 0.482, 'eval_samples_per_second': 99.586, 'eval_steps_per_second': 6.224, 'epoch': 54.0}\n"
     ]
    },
    {
     "name": "stderr",
     "output_type": "stream",
     "text": [
      "                                                     \n",
      " 63%|██████▎   | 756/1200 [22:14:35<04:17,  1.73it/s]"
     ]
    },
    {
     "name": "stdout",
     "output_type": "stream",
     "text": [
      "{'loss': 0.0036, 'grad_norm': 0.02802981249988079, 'learning_rate': 2.2916666666666667e-05, 'epoch': 54.17}\n"
     ]
    },
    {
     "name": "stderr",
     "output_type": "stream",
     "text": [
      "                                                     \n",
      " 63%|██████▎   | 756/1200 [22:14:42<04:17,  1.73it/s]"
     ]
    },
    {
     "name": "stdout",
     "output_type": "stream",
     "text": [
      "{'loss': 0.0038, 'grad_norm': 0.03359605371952057, 'learning_rate': 2.25e-05, 'epoch': 55.0}\n"
     ]
    },
    {
     "name": "stderr",
     "output_type": "stream",
     "text": [
      "\n",
      "\u001b[A\n",
      "\u001b[Ac:\\Users\\thami\\.conda\\envs\\finetunning-bert\\lib\\site-packages\\sklearn\\metrics\\_classification.py:1531: UndefinedMetricWarning: Precision is ill-defined and being set to 0.0 in labels with no predicted samples. Use `zero_division` parameter to control this behavior.\n",
      "  _warn_prf(average, modifier, f\"{metric.capitalize()} is\", len(result))\n",
      "c:\\Users\\thami\\.conda\\envs\\finetunning-bert\\lib\\site-packages\\sklearn\\metrics\\_classification.py:1531: UndefinedMetricWarning: Recall is ill-defined and being set to 0.0 in labels with no true samples. Use `zero_division` parameter to control this behavior.\n",
      "  _warn_prf(average, modifier, f\"{metric.capitalize()} is\", len(result))\n",
      "                                                     \n",
      "\u001b[A                                               \n",
      "\n",
      " 63%|██████▎   | 756/1200 [22:14:43<04:17,  1.73it/s]\n",
      "\u001b[A\n",
      "\u001b[A"
     ]
    },
    {
     "name": "stdout",
     "output_type": "stream",
     "text": [
      "{'eval_loss': 0.35404470562934875, 'eval_accuracy': 0.8541666666666666, 'eval_f1': 0.8526785714285715, 'eval_precision': 0.892361111111111, 'eval_recall': 0.8541666666666666, 'eval_runtime': 0.5057, 'eval_samples_per_second': 94.917, 'eval_steps_per_second': 5.932, 'epoch': 55.0}\n"
     ]
    },
    {
     "name": "stderr",
     "output_type": "stream",
     "text": [
      "                                                     \n",
      " 63%|██████▎   | 756/1200 [22:14:53<04:17,  1.73it/s]"
     ]
    },
    {
     "name": "stdout",
     "output_type": "stream",
     "text": [
      "{'loss': 0.0038, 'grad_norm': 0.024113567546010017, 'learning_rate': 2.2083333333333333e-05, 'epoch': 55.83}\n"
     ]
    },
    {
     "name": "stderr",
     "output_type": "stream",
     "text": [
      "\n",
      "\u001b[A\n",
      "\u001b[A\n",
      "\u001b[Ac:\\Users\\thami\\.conda\\envs\\finetunning-bert\\lib\\site-packages\\sklearn\\metrics\\_classification.py:1531: UndefinedMetricWarning: Precision is ill-defined and being set to 0.0 in labels with no predicted samples. Use `zero_division` parameter to control this behavior.\n",
      "  _warn_prf(average, modifier, f\"{metric.capitalize()} is\", len(result))\n",
      "c:\\Users\\thami\\.conda\\envs\\finetunning-bert\\lib\\site-packages\\sklearn\\metrics\\_classification.py:1531: UndefinedMetricWarning: Recall is ill-defined and being set to 0.0 in labels with no true samples. Use `zero_division` parameter to control this behavior.\n",
      "  _warn_prf(average, modifier, f\"{metric.capitalize()} is\", len(result))\n",
      "                                                     \n",
      "\u001b[A                                               \n",
      "\n",
      " 63%|██████▎   | 756/1200 [22:14:55<04:17,  1.73it/s]\n",
      "\u001b[A\n",
      "\u001b[A"
     ]
    },
    {
     "name": "stdout",
     "output_type": "stream",
     "text": [
      "{'eval_loss': 0.3560272753238678, 'eval_accuracy': 0.8541666666666666, 'eval_f1': 0.8526785714285715, 'eval_precision': 0.892361111111111, 'eval_recall': 0.8541666666666666, 'eval_runtime': 0.5336, 'eval_samples_per_second': 89.948, 'eval_steps_per_second': 5.622, 'epoch': 56.0}\n"
     ]
    },
    {
     "name": "stderr",
     "output_type": "stream",
     "text": [
      "                                                     \n",
      " 63%|██████▎   | 756/1200 [22:15:04<04:17,  1.73it/s]"
     ]
    },
    {
     "name": "stdout",
     "output_type": "stream",
     "text": [
      "{'loss': 0.0036, 'grad_norm': 0.034838464111089706, 'learning_rate': 2.1666666666666667e-05, 'epoch': 56.67}\n"
     ]
    },
    {
     "name": "stderr",
     "output_type": "stream",
     "text": [
      "\n",
      "\u001b[A\n",
      "\u001b[Ac:\\Users\\thami\\.conda\\envs\\finetunning-bert\\lib\\site-packages\\sklearn\\metrics\\_classification.py:1531: UndefinedMetricWarning: Precision is ill-defined and being set to 0.0 in labels with no predicted samples. Use `zero_division` parameter to control this behavior.\n",
      "  _warn_prf(average, modifier, f\"{metric.capitalize()} is\", len(result))\n",
      "c:\\Users\\thami\\.conda\\envs\\finetunning-bert\\lib\\site-packages\\sklearn\\metrics\\_classification.py:1531: UndefinedMetricWarning: Recall is ill-defined and being set to 0.0 in labels with no true samples. Use `zero_division` parameter to control this behavior.\n",
      "  _warn_prf(average, modifier, f\"{metric.capitalize()} is\", len(result))\n",
      "                                                     \n",
      "\u001b[A                                               \n",
      "\n",
      " 63%|██████▎   | 756/1200 [22:15:07<04:17,  1.73it/s]\n",
      "\u001b[A\n",
      "\u001b[A"
     ]
    },
    {
     "name": "stdout",
     "output_type": "stream",
     "text": [
      "{'eval_loss': 0.35791921615600586, 'eval_accuracy': 0.8541666666666666, 'eval_f1': 0.8526785714285715, 'eval_precision': 0.892361111111111, 'eval_recall': 0.8541666666666666, 'eval_runtime': 0.4628, 'eval_samples_per_second': 103.718, 'eval_steps_per_second': 6.482, 'epoch': 57.0}\n"
     ]
    },
    {
     "name": "stderr",
     "output_type": "stream",
     "text": [
      "                                                     \n",
      " 63%|██████▎   | 756/1200 [22:15:14<04:17,  1.73it/s]"
     ]
    },
    {
     "name": "stdout",
     "output_type": "stream",
     "text": [
      "{'loss': 0.0037, 'grad_norm': 0.02977096475660801, 'learning_rate': 2.125e-05, 'epoch': 57.5}\n"
     ]
    },
    {
     "name": "stderr",
     "output_type": "stream",
     "text": [
      "\n",
      "\u001b[A\n",
      "\u001b[A\n",
      "\u001b[Ac:\\Users\\thami\\.conda\\envs\\finetunning-bert\\lib\\site-packages\\sklearn\\metrics\\_classification.py:1531: UndefinedMetricWarning: Precision is ill-defined and being set to 0.0 in labels with no predicted samples. Use `zero_division` parameter to control this behavior.\n",
      "  _warn_prf(average, modifier, f\"{metric.capitalize()} is\", len(result))\n",
      "c:\\Users\\thami\\.conda\\envs\\finetunning-bert\\lib\\site-packages\\sklearn\\metrics\\_classification.py:1531: UndefinedMetricWarning: Recall is ill-defined and being set to 0.0 in labels with no true samples. Use `zero_division` parameter to control this behavior.\n",
      "  _warn_prf(average, modifier, f\"{metric.capitalize()} is\", len(result))\n",
      "                                                     \n",
      "\u001b[A                                               \n",
      "\n",
      " 63%|██████▎   | 756/1200 [22:15:19<04:17,  1.73it/s]\n",
      "\u001b[A\n",
      "\u001b[A"
     ]
    },
    {
     "name": "stdout",
     "output_type": "stream",
     "text": [
      "{'eval_loss': 0.3664356768131256, 'eval_accuracy': 0.8333333333333334, 'eval_f1': 0.8387896825396824, 'eval_precision': 0.8819444444444443, 'eval_recall': 0.8333333333333334, 'eval_runtime': 0.5978, 'eval_samples_per_second': 80.3, 'eval_steps_per_second': 5.019, 'epoch': 58.0}\n"
     ]
    },
    {
     "name": "stderr",
     "output_type": "stream",
     "text": [
      "                                                     \n",
      " 63%|██████▎   | 756/1200 [22:15:25<04:17,  1.73it/s]"
     ]
    },
    {
     "name": "stdout",
     "output_type": "stream",
     "text": [
      "{'loss': 0.0036, 'grad_norm': 0.03354090452194214, 'learning_rate': 2.0833333333333336e-05, 'epoch': 58.33}\n"
     ]
    },
    {
     "name": "stderr",
     "output_type": "stream",
     "text": [
      "\n",
      "\u001b[A\n",
      "\u001b[Ac:\\Users\\thami\\.conda\\envs\\finetunning-bert\\lib\\site-packages\\sklearn\\metrics\\_classification.py:1531: UndefinedMetricWarning: Precision is ill-defined and being set to 0.0 in labels with no predicted samples. Use `zero_division` parameter to control this behavior.\n",
      "  _warn_prf(average, modifier, f\"{metric.capitalize()} is\", len(result))\n",
      "c:\\Users\\thami\\.conda\\envs\\finetunning-bert\\lib\\site-packages\\sklearn\\metrics\\_classification.py:1531: UndefinedMetricWarning: Recall is ill-defined and being set to 0.0 in labels with no true samples. Use `zero_division` parameter to control this behavior.\n",
      "  _warn_prf(average, modifier, f\"{metric.capitalize()} is\", len(result))\n",
      "                                                     \n",
      "\u001b[A                                               \n",
      "\n",
      " 63%|██████▎   | 756/1200 [22:15:32<04:17,  1.73it/s]\n",
      "\u001b[A\n",
      "\u001b[A"
     ]
    },
    {
     "name": "stdout",
     "output_type": "stream",
     "text": [
      "{'eval_loss': 0.36539986729621887, 'eval_accuracy': 0.8333333333333334, 'eval_f1': 0.8387896825396824, 'eval_precision': 0.8819444444444443, 'eval_recall': 0.8333333333333334, 'eval_runtime': 0.4855, 'eval_samples_per_second': 98.863, 'eval_steps_per_second': 6.179, 'epoch': 59.0}\n"
     ]
    },
    {
     "name": "stderr",
     "output_type": "stream",
     "text": [
      "                                                     \n",
      " 63%|██████▎   | 756/1200 [22:15:36<04:17,  1.73it/s]"
     ]
    },
    {
     "name": "stdout",
     "output_type": "stream",
     "text": [
      "{'loss': 0.0036, 'grad_norm': 0.02756367437541485, 'learning_rate': 2.0416666666666667e-05, 'epoch': 59.17}\n"
     ]
    },
    {
     "name": "stderr",
     "output_type": "stream",
     "text": [
      "                                                     \n",
      " 63%|██████▎   | 756/1200 [22:15:43<04:17,  1.73it/s]"
     ]
    },
    {
     "name": "stdout",
     "output_type": "stream",
     "text": [
      "{'loss': 0.0035, 'grad_norm': 0.028148343786597252, 'learning_rate': 2e-05, 'epoch': 60.0}\n"
     ]
    },
    {
     "name": "stderr",
     "output_type": "stream",
     "text": [
      "\n",
      "\u001b[A\n",
      "\u001b[Ac:\\Users\\thami\\.conda\\envs\\finetunning-bert\\lib\\site-packages\\sklearn\\metrics\\_classification.py:1531: UndefinedMetricWarning: Precision is ill-defined and being set to 0.0 in labels with no predicted samples. Use `zero_division` parameter to control this behavior.\n",
      "  _warn_prf(average, modifier, f\"{metric.capitalize()} is\", len(result))\n",
      "c:\\Users\\thami\\.conda\\envs\\finetunning-bert\\lib\\site-packages\\sklearn\\metrics\\_classification.py:1531: UndefinedMetricWarning: Recall is ill-defined and being set to 0.0 in labels with no true samples. Use `zero_division` parameter to control this behavior.\n",
      "  _warn_prf(average, modifier, f\"{metric.capitalize()} is\", len(result))\n",
      "                                                     \n",
      "\u001b[A                                               \n",
      "\n",
      " 63%|██████▎   | 756/1200 [22:15:44<04:17,  1.73it/s]\n",
      "\u001b[A\n",
      "\u001b[A"
     ]
    },
    {
     "name": "stdout",
     "output_type": "stream",
     "text": [
      "{'eval_loss': 0.36257147789001465, 'eval_accuracy': 0.8333333333333334, 'eval_f1': 0.8387896825396824, 'eval_precision': 0.8819444444444443, 'eval_recall': 0.8333333333333334, 'eval_runtime': 0.4644, 'eval_samples_per_second': 103.363, 'eval_steps_per_second': 6.46, 'epoch': 60.0}\n"
     ]
    },
    {
     "name": "stderr",
     "output_type": "stream",
     "text": [
      "                                                     \n",
      " 63%|██████▎   | 756/1200 [22:15:54<04:17,  1.73it/s]"
     ]
    },
    {
     "name": "stdout",
     "output_type": "stream",
     "text": [
      "{'loss': 0.0035, 'grad_norm': 0.03463377431035042, 'learning_rate': 1.9583333333333333e-05, 'epoch': 60.83}\n"
     ]
    },
    {
     "name": "stderr",
     "output_type": "stream",
     "text": [
      "\n",
      "\u001b[A\n",
      "\u001b[Ac:\\Users\\thami\\.conda\\envs\\finetunning-bert\\lib\\site-packages\\sklearn\\metrics\\_classification.py:1531: UndefinedMetricWarning: Precision is ill-defined and being set to 0.0 in labels with no predicted samples. Use `zero_division` parameter to control this behavior.\n",
      "  _warn_prf(average, modifier, f\"{metric.capitalize()} is\", len(result))\n",
      "c:\\Users\\thami\\.conda\\envs\\finetunning-bert\\lib\\site-packages\\sklearn\\metrics\\_classification.py:1531: UndefinedMetricWarning: Recall is ill-defined and being set to 0.0 in labels with no true samples. Use `zero_division` parameter to control this behavior.\n",
      "  _warn_prf(average, modifier, f\"{metric.capitalize()} is\", len(result))\n",
      "                                                     \n",
      "\u001b[A                                               \n",
      "\n",
      " 63%|██████▎   | 756/1200 [22:15:56<04:17,  1.73it/s]\n",
      "\u001b[A\n",
      "\u001b[A"
     ]
    },
    {
     "name": "stdout",
     "output_type": "stream",
     "text": [
      "{'eval_loss': 0.36046895384788513, 'eval_accuracy': 0.8333333333333334, 'eval_f1': 0.8387896825396824, 'eval_precision': 0.8819444444444443, 'eval_recall': 0.8333333333333334, 'eval_runtime': 0.4743, 'eval_samples_per_second': 101.211, 'eval_steps_per_second': 6.326, 'epoch': 61.0}\n"
     ]
    },
    {
     "name": "stderr",
     "output_type": "stream",
     "text": [
      "                                                     \n",
      " 63%|██████▎   | 756/1200 [22:16:06<04:17,  1.73it/s]"
     ]
    },
    {
     "name": "stdout",
     "output_type": "stream",
     "text": [
      "{'loss': 0.0035, 'grad_norm': 0.02751254290342331, 'learning_rate': 1.9166666666666667e-05, 'epoch': 61.67}\n"
     ]
    },
    {
     "name": "stderr",
     "output_type": "stream",
     "text": [
      "\n",
      "\u001b[A\n",
      "\u001b[Ac:\\Users\\thami\\.conda\\envs\\finetunning-bert\\lib\\site-packages\\sklearn\\metrics\\_classification.py:1531: UndefinedMetricWarning: Precision is ill-defined and being set to 0.0 in labels with no predicted samples. Use `zero_division` parameter to control this behavior.\n",
      "  _warn_prf(average, modifier, f\"{metric.capitalize()} is\", len(result))\n",
      "c:\\Users\\thami\\.conda\\envs\\finetunning-bert\\lib\\site-packages\\sklearn\\metrics\\_classification.py:1531: UndefinedMetricWarning: Recall is ill-defined and being set to 0.0 in labels with no true samples. Use `zero_division` parameter to control this behavior.\n",
      "  _warn_prf(average, modifier, f\"{metric.capitalize()} is\", len(result))\n",
      "                                                     \n",
      "\u001b[A                                               \n",
      "\n",
      " 63%|██████▎   | 756/1200 [22:16:10<04:17,  1.73it/s]\n",
      "\u001b[A\n",
      "\u001b[A"
     ]
    },
    {
     "name": "stdout",
     "output_type": "stream",
     "text": [
      "{'eval_loss': 0.3575613796710968, 'eval_accuracy': 0.8333333333333334, 'eval_f1': 0.8387896825396824, 'eval_precision': 0.8819444444444443, 'eval_recall': 0.8333333333333334, 'eval_runtime': 0.4705, 'eval_samples_per_second': 102.011, 'eval_steps_per_second': 6.376, 'epoch': 62.0}\n"
     ]
    },
    {
     "name": "stderr",
     "output_type": "stream",
     "text": [
      "                                                     \n",
      " 63%|██████▎   | 756/1200 [22:16:17<04:17,  1.73it/s]"
     ]
    },
    {
     "name": "stdout",
     "output_type": "stream",
     "text": [
      "{'loss': 0.0031, 'grad_norm': 0.029686279594898224, 'learning_rate': 1.8750000000000002e-05, 'epoch': 62.5}\n"
     ]
    },
    {
     "name": "stderr",
     "output_type": "stream",
     "text": [
      "\n",
      "\u001b[A\n",
      "\u001b[Ac:\\Users\\thami\\.conda\\envs\\finetunning-bert\\lib\\site-packages\\sklearn\\metrics\\_classification.py:1531: UndefinedMetricWarning: Precision is ill-defined and being set to 0.0 in labels with no predicted samples. Use `zero_division` parameter to control this behavior.\n",
      "  _warn_prf(average, modifier, f\"{metric.capitalize()} is\", len(result))\n",
      "c:\\Users\\thami\\.conda\\envs\\finetunning-bert\\lib\\site-packages\\sklearn\\metrics\\_classification.py:1531: UndefinedMetricWarning: Recall is ill-defined and being set to 0.0 in labels with no true samples. Use `zero_division` parameter to control this behavior.\n",
      "  _warn_prf(average, modifier, f\"{metric.capitalize()} is\", len(result))\n",
      "                                                     \n",
      "\u001b[A                                               \n",
      "\n",
      " 63%|██████▎   | 756/1200 [22:16:22<04:17,  1.73it/s]\n",
      "\u001b[A\n",
      "\u001b[A"
     ]
    },
    {
     "name": "stdout",
     "output_type": "stream",
     "text": [
      "{'eval_loss': 0.3547007739543915, 'eval_accuracy': 0.8541666666666666, 'eval_f1': 0.8526785714285715, 'eval_precision': 0.892361111111111, 'eval_recall': 0.8541666666666666, 'eval_runtime': 0.5882, 'eval_samples_per_second': 81.601, 'eval_steps_per_second': 5.1, 'epoch': 63.0}\n"
     ]
    },
    {
     "name": "stderr",
     "output_type": "stream",
     "text": [
      "                                                     \n",
      " 63%|██████▎   | 756/1200 [22:16:28<04:17,  1.73it/s]"
     ]
    },
    {
     "name": "stdout",
     "output_type": "stream",
     "text": [
      "{'loss': 0.0035, 'grad_norm': 0.03441040962934494, 'learning_rate': 1.8333333333333333e-05, 'epoch': 63.33}\n"
     ]
    },
    {
     "name": "stderr",
     "output_type": "stream",
     "text": [
      "\n",
      "\u001b[A\n",
      "\u001b[Ac:\\Users\\thami\\.conda\\envs\\finetunning-bert\\lib\\site-packages\\sklearn\\metrics\\_classification.py:1531: UndefinedMetricWarning: Precision is ill-defined and being set to 0.0 in labels with no predicted samples. Use `zero_division` parameter to control this behavior.\n",
      "  _warn_prf(average, modifier, f\"{metric.capitalize()} is\", len(result))\n",
      "c:\\Users\\thami\\.conda\\envs\\finetunning-bert\\lib\\site-packages\\sklearn\\metrics\\_classification.py:1531: UndefinedMetricWarning: Recall is ill-defined and being set to 0.0 in labels with no true samples. Use `zero_division` parameter to control this behavior.\n",
      "  _warn_prf(average, modifier, f\"{metric.capitalize()} is\", len(result))\n",
      "                                                     \n",
      "\u001b[A                                               \n",
      "\n",
      " 63%|██████▎   | 756/1200 [22:16:36<04:17,  1.73it/s]\n",
      "\u001b[A\n",
      "\u001b[A"
     ]
    },
    {
     "name": "stdout",
     "output_type": "stream",
     "text": [
      "{'eval_loss': 0.3549552857875824, 'eval_accuracy': 0.8541666666666666, 'eval_f1': 0.8526785714285715, 'eval_precision': 0.892361111111111, 'eval_recall': 0.8541666666666666, 'eval_runtime': 0.5293, 'eval_samples_per_second': 90.681, 'eval_steps_per_second': 5.668, 'epoch': 64.0}\n"
     ]
    },
    {
     "name": "stderr",
     "output_type": "stream",
     "text": [
      "                                                     \n",
      " 63%|██████▎   | 756/1200 [22:16:40<04:17,  1.73it/s]"
     ]
    },
    {
     "name": "stdout",
     "output_type": "stream",
     "text": [
      "{'loss': 0.0032, 'grad_norm': 0.03369130194187164, 'learning_rate': 1.7916666666666667e-05, 'epoch': 64.17}\n"
     ]
    },
    {
     "name": "stderr",
     "output_type": "stream",
     "text": [
      "                                                     \n",
      " 63%|██████▎   | 756/1200 [22:16:48<04:17,  1.73it/s]"
     ]
    },
    {
     "name": "stdout",
     "output_type": "stream",
     "text": [
      "{'loss': 0.0032, 'grad_norm': 0.020367475226521492, 'learning_rate': 1.75e-05, 'epoch': 65.0}\n"
     ]
    },
    {
     "name": "stderr",
     "output_type": "stream",
     "text": [
      "\n",
      "\u001b[A\n",
      "\u001b[Ac:\\Users\\thami\\.conda\\envs\\finetunning-bert\\lib\\site-packages\\sklearn\\metrics\\_classification.py:1531: UndefinedMetricWarning: Precision is ill-defined and being set to 0.0 in labels with no predicted samples. Use `zero_division` parameter to control this behavior.\n",
      "  _warn_prf(average, modifier, f\"{metric.capitalize()} is\", len(result))\n",
      "c:\\Users\\thami\\.conda\\envs\\finetunning-bert\\lib\\site-packages\\sklearn\\metrics\\_classification.py:1531: UndefinedMetricWarning: Recall is ill-defined and being set to 0.0 in labels with no true samples. Use `zero_division` parameter to control this behavior.\n",
      "  _warn_prf(average, modifier, f\"{metric.capitalize()} is\", len(result))\n",
      "                                                     \n",
      "\u001b[A                                               \n",
      "\n",
      " 63%|██████▎   | 756/1200 [22:16:48<04:17,  1.73it/s]\n",
      "\u001b[A\n",
      "\u001b[A"
     ]
    },
    {
     "name": "stdout",
     "output_type": "stream",
     "text": [
      "{'eval_loss': 0.3573141396045685, 'eval_accuracy': 0.8541666666666666, 'eval_f1': 0.8526785714285715, 'eval_precision': 0.892361111111111, 'eval_recall': 0.8541666666666666, 'eval_runtime': 0.4854, 'eval_samples_per_second': 98.883, 'eval_steps_per_second': 6.18, 'epoch': 65.0}\n"
     ]
    },
    {
     "name": "stderr",
     "output_type": "stream",
     "text": [
      "                                                     \n",
      " 63%|██████▎   | 756/1200 [22:16:58<04:17,  1.73it/s]"
     ]
    },
    {
     "name": "stdout",
     "output_type": "stream",
     "text": [
      "{'loss': 0.003, 'grad_norm': 0.023722365498542786, 'learning_rate': 1.7083333333333333e-05, 'epoch': 65.83}\n"
     ]
    },
    {
     "name": "stderr",
     "output_type": "stream",
     "text": [
      "\n",
      "\u001b[A\n",
      "\u001b[Ac:\\Users\\thami\\.conda\\envs\\finetunning-bert\\lib\\site-packages\\sklearn\\metrics\\_classification.py:1531: UndefinedMetricWarning: Precision is ill-defined and being set to 0.0 in labels with no predicted samples. Use `zero_division` parameter to control this behavior.\n",
      "  _warn_prf(average, modifier, f\"{metric.capitalize()} is\", len(result))\n",
      "c:\\Users\\thami\\.conda\\envs\\finetunning-bert\\lib\\site-packages\\sklearn\\metrics\\_classification.py:1531: UndefinedMetricWarning: Recall is ill-defined and being set to 0.0 in labels with no true samples. Use `zero_division` parameter to control this behavior.\n",
      "  _warn_prf(average, modifier, f\"{metric.capitalize()} is\", len(result))\n",
      "                                                     \n",
      "\u001b[A                                               \n",
      "\n",
      " 63%|██████▎   | 756/1200 [22:17:00<04:17,  1.73it/s]\n",
      "\u001b[A\n",
      "\u001b[A"
     ]
    },
    {
     "name": "stdout",
     "output_type": "stream",
     "text": [
      "{'eval_loss': 0.3574488162994385, 'eval_accuracy': 0.8541666666666666, 'eval_f1': 0.8526785714285715, 'eval_precision': 0.892361111111111, 'eval_recall': 0.8541666666666666, 'eval_runtime': 0.4966, 'eval_samples_per_second': 96.657, 'eval_steps_per_second': 6.041, 'epoch': 66.0}\n"
     ]
    },
    {
     "name": "stderr",
     "output_type": "stream",
     "text": [
      "                                                     \n",
      " 63%|██████▎   | 756/1200 [22:17:09<04:17,  1.73it/s]"
     ]
    },
    {
     "name": "stdout",
     "output_type": "stream",
     "text": [
      "{'loss': 0.0032, 'grad_norm': 0.025124238803982735, 'learning_rate': 1.6666666666666667e-05, 'epoch': 66.67}\n"
     ]
    },
    {
     "name": "stderr",
     "output_type": "stream",
     "text": [
      "\n",
      "\u001b[A\n",
      "\u001b[Ac:\\Users\\thami\\.conda\\envs\\finetunning-bert\\lib\\site-packages\\sklearn\\metrics\\_classification.py:1531: UndefinedMetricWarning: Precision is ill-defined and being set to 0.0 in labels with no predicted samples. Use `zero_division` parameter to control this behavior.\n",
      "  _warn_prf(average, modifier, f\"{metric.capitalize()} is\", len(result))\n",
      "c:\\Users\\thami\\.conda\\envs\\finetunning-bert\\lib\\site-packages\\sklearn\\metrics\\_classification.py:1531: UndefinedMetricWarning: Recall is ill-defined and being set to 0.0 in labels with no true samples. Use `zero_division` parameter to control this behavior.\n",
      "  _warn_prf(average, modifier, f\"{metric.capitalize()} is\", len(result))\n",
      "                                                     \n",
      "\u001b[A                                               \n",
      "\n",
      " 63%|██████▎   | 756/1200 [22:17:12<04:17,  1.73it/s]\n",
      "\u001b[A\n",
      "\u001b[A"
     ]
    },
    {
     "name": "stdout",
     "output_type": "stream",
     "text": [
      "{'eval_loss': 0.35845234990119934, 'eval_accuracy': 0.8541666666666666, 'eval_f1': 0.8526785714285715, 'eval_precision': 0.892361111111111, 'eval_recall': 0.8541666666666666, 'eval_runtime': 0.5224, 'eval_samples_per_second': 91.875, 'eval_steps_per_second': 5.742, 'epoch': 67.0}\n"
     ]
    },
    {
     "name": "stderr",
     "output_type": "stream",
     "text": [
      "                                                     \n",
      " 63%|██████▎   | 756/1200 [22:17:20<04:17,  1.73it/s]"
     ]
    },
    {
     "name": "stdout",
     "output_type": "stream",
     "text": [
      "{'loss': 0.0032, 'grad_norm': 0.027113141492009163, 'learning_rate': 1.6250000000000002e-05, 'epoch': 67.5}\n"
     ]
    },
    {
     "name": "stderr",
     "output_type": "stream",
     "text": [
      "\n",
      "\u001b[A\n",
      "\u001b[Ac:\\Users\\thami\\.conda\\envs\\finetunning-bert\\lib\\site-packages\\sklearn\\metrics\\_classification.py:1531: UndefinedMetricWarning: Precision is ill-defined and being set to 0.0 in labels with no predicted samples. Use `zero_division` parameter to control this behavior.\n",
      "  _warn_prf(average, modifier, f\"{metric.capitalize()} is\", len(result))\n",
      "c:\\Users\\thami\\.conda\\envs\\finetunning-bert\\lib\\site-packages\\sklearn\\metrics\\_classification.py:1531: UndefinedMetricWarning: Recall is ill-defined and being set to 0.0 in labels with no true samples. Use `zero_division` parameter to control this behavior.\n",
      "  _warn_prf(average, modifier, f\"{metric.capitalize()} is\", len(result))\n",
      "                                                     \n",
      "\u001b[A                                               \n",
      "\n",
      " 63%|██████▎   | 756/1200 [22:17:25<04:17,  1.73it/s]\n",
      "\u001b[A\n",
      "\u001b[A"
     ]
    },
    {
     "name": "stdout",
     "output_type": "stream",
     "text": [
      "{'eval_loss': 0.3591900169849396, 'eval_accuracy': 0.8541666666666666, 'eval_f1': 0.8526785714285715, 'eval_precision': 0.892361111111111, 'eval_recall': 0.8541666666666666, 'eval_runtime': 0.4899, 'eval_samples_per_second': 97.986, 'eval_steps_per_second': 6.124, 'epoch': 68.0}\n"
     ]
    },
    {
     "name": "stderr",
     "output_type": "stream",
     "text": [
      "                                                     \n",
      " 63%|██████▎   | 756/1200 [22:17:31<04:17,  1.73it/s]"
     ]
    },
    {
     "name": "stdout",
     "output_type": "stream",
     "text": [
      "{'loss': 0.003, 'grad_norm': 0.023524118587374687, 'learning_rate': 1.5833333333333333e-05, 'epoch': 68.33}\n"
     ]
    },
    {
     "name": "stderr",
     "output_type": "stream",
     "text": [
      "\n",
      "\u001b[A\n",
      "\u001b[Ac:\\Users\\thami\\.conda\\envs\\finetunning-bert\\lib\\site-packages\\sklearn\\metrics\\_classification.py:1531: UndefinedMetricWarning: Precision is ill-defined and being set to 0.0 in labels with no predicted samples. Use `zero_division` parameter to control this behavior.\n",
      "  _warn_prf(average, modifier, f\"{metric.capitalize()} is\", len(result))\n",
      "c:\\Users\\thami\\.conda\\envs\\finetunning-bert\\lib\\site-packages\\sklearn\\metrics\\_classification.py:1531: UndefinedMetricWarning: Recall is ill-defined and being set to 0.0 in labels with no true samples. Use `zero_division` parameter to control this behavior.\n",
      "  _warn_prf(average, modifier, f\"{metric.capitalize()} is\", len(result))\n",
      "                                                     \n",
      "\u001b[A                                               \n",
      "\n",
      " 63%|██████▎   | 756/1200 [22:17:42<04:17,  1.73it/s]\n",
      "\u001b[A\n",
      "\u001b[A"
     ]
    },
    {
     "name": "stdout",
     "output_type": "stream",
     "text": [
      "{'eval_loss': 0.3639095723628998, 'eval_accuracy': 0.8541666666666666, 'eval_f1': 0.8526785714285715, 'eval_precision': 0.892361111111111, 'eval_recall': 0.8541666666666666, 'eval_runtime': 0.5874, 'eval_samples_per_second': 81.717, 'eval_steps_per_second': 5.107, 'epoch': 69.0}\n"
     ]
    },
    {
     "name": "stderr",
     "output_type": "stream",
     "text": [
      "                                                     \n",
      " 63%|██████▎   | 756/1200 [22:17:46<04:17,  1.73it/s]"
     ]
    },
    {
     "name": "stdout",
     "output_type": "stream",
     "text": [
      "{'loss': 0.003, 'grad_norm': 0.030142614617943764, 'learning_rate': 1.5416666666666668e-05, 'epoch': 69.17}\n"
     ]
    },
    {
     "name": "stderr",
     "output_type": "stream",
     "text": [
      "                                                     \n",
      " 63%|██████▎   | 756/1200 [22:17:54<04:17,  1.73it/s]"
     ]
    },
    {
     "name": "stdout",
     "output_type": "stream",
     "text": [
      "{'loss': 0.0028, 'grad_norm': 0.023260291665792465, 'learning_rate': 1.5e-05, 'epoch': 70.0}\n"
     ]
    },
    {
     "name": "stderr",
     "output_type": "stream",
     "text": [
      "\n",
      "\u001b[A\n",
      "\u001b[Ac:\\Users\\thami\\.conda\\envs\\finetunning-bert\\lib\\site-packages\\sklearn\\metrics\\_classification.py:1531: UndefinedMetricWarning: Precision is ill-defined and being set to 0.0 in labels with no predicted samples. Use `zero_division` parameter to control this behavior.\n",
      "  _warn_prf(average, modifier, f\"{metric.capitalize()} is\", len(result))\n",
      "c:\\Users\\thami\\.conda\\envs\\finetunning-bert\\lib\\site-packages\\sklearn\\metrics\\_classification.py:1531: UndefinedMetricWarning: Recall is ill-defined and being set to 0.0 in labels with no true samples. Use `zero_division` parameter to control this behavior.\n",
      "  _warn_prf(average, modifier, f\"{metric.capitalize()} is\", len(result))\n",
      "                                                     \n",
      "\u001b[A                                               \n",
      "\n",
      " 63%|██████▎   | 756/1200 [22:17:54<04:17,  1.73it/s]\n",
      "\u001b[A\n",
      "\u001b[A"
     ]
    },
    {
     "name": "stdout",
     "output_type": "stream",
     "text": [
      "{'eval_loss': 0.36364391446113586, 'eval_accuracy': 0.8541666666666666, 'eval_f1': 0.8526785714285715, 'eval_precision': 0.892361111111111, 'eval_recall': 0.8541666666666666, 'eval_runtime': 0.5005, 'eval_samples_per_second': 95.908, 'eval_steps_per_second': 5.994, 'epoch': 70.0}\n"
     ]
    },
    {
     "name": "stderr",
     "output_type": "stream",
     "text": [
      "                                                     \n",
      " 63%|██████▎   | 756/1200 [22:18:06<04:17,  1.73it/s]"
     ]
    },
    {
     "name": "stdout",
     "output_type": "stream",
     "text": [
      "{'loss': 0.0028, 'grad_norm': 0.020098159089684486, 'learning_rate': 1.4583333333333335e-05, 'epoch': 70.83}\n"
     ]
    },
    {
     "name": "stderr",
     "output_type": "stream",
     "text": [
      "\n",
      "\u001b[A\n",
      "\u001b[Ac:\\Users\\thami\\.conda\\envs\\finetunning-bert\\lib\\site-packages\\sklearn\\metrics\\_classification.py:1531: UndefinedMetricWarning: Precision is ill-defined and being set to 0.0 in labels with no predicted samples. Use `zero_division` parameter to control this behavior.\n",
      "  _warn_prf(average, modifier, f\"{metric.capitalize()} is\", len(result))\n",
      "c:\\Users\\thami\\.conda\\envs\\finetunning-bert\\lib\\site-packages\\sklearn\\metrics\\_classification.py:1531: UndefinedMetricWarning: Recall is ill-defined and being set to 0.0 in labels with no true samples. Use `zero_division` parameter to control this behavior.\n",
      "  _warn_prf(average, modifier, f\"{metric.capitalize()} is\", len(result))\n",
      "                                                     \n",
      "\u001b[A                                               \n",
      "\n",
      " 63%|██████▎   | 756/1200 [22:18:08<04:17,  1.73it/s]\n",
      "\u001b[A\n",
      "\u001b[A"
     ]
    },
    {
     "name": "stdout",
     "output_type": "stream",
     "text": [
      "{'eval_loss': 0.36176666617393494, 'eval_accuracy': 0.8541666666666666, 'eval_f1': 0.8526785714285715, 'eval_precision': 0.892361111111111, 'eval_recall': 0.8541666666666666, 'eval_runtime': 0.4633, 'eval_samples_per_second': 103.598, 'eval_steps_per_second': 6.475, 'epoch': 71.0}\n"
     ]
    },
    {
     "name": "stderr",
     "output_type": "stream",
     "text": [
      "                                                     \n",
      " 63%|██████▎   | 756/1200 [22:18:19<04:17,  1.73it/s]"
     ]
    },
    {
     "name": "stdout",
     "output_type": "stream",
     "text": [
      "{'loss': 0.0029, 'grad_norm': 0.023219436407089233, 'learning_rate': 1.4166666666666668e-05, 'epoch': 71.67}\n"
     ]
    },
    {
     "name": "stderr",
     "output_type": "stream",
     "text": [
      "\n",
      "\u001b[A\n",
      "\u001b[Ac:\\Users\\thami\\.conda\\envs\\finetunning-bert\\lib\\site-packages\\sklearn\\metrics\\_classification.py:1531: UndefinedMetricWarning: Precision is ill-defined and being set to 0.0 in labels with no predicted samples. Use `zero_division` parameter to control this behavior.\n",
      "  _warn_prf(average, modifier, f\"{metric.capitalize()} is\", len(result))\n",
      "c:\\Users\\thami\\.conda\\envs\\finetunning-bert\\lib\\site-packages\\sklearn\\metrics\\_classification.py:1531: UndefinedMetricWarning: Recall is ill-defined and being set to 0.0 in labels with no true samples. Use `zero_division` parameter to control this behavior.\n",
      "  _warn_prf(average, modifier, f\"{metric.capitalize()} is\", len(result))\n",
      "                                                     \n",
      "\u001b[A                                               \n",
      "\n",
      " 63%|██████▎   | 756/1200 [22:18:23<04:17,  1.73it/s]\n",
      "\u001b[A\n",
      "\u001b[A"
     ]
    },
    {
     "name": "stdout",
     "output_type": "stream",
     "text": [
      "{'eval_loss': 0.3639768064022064, 'eval_accuracy': 0.8541666666666666, 'eval_f1': 0.8526785714285715, 'eval_precision': 0.892361111111111, 'eval_recall': 0.8541666666666666, 'eval_runtime': 0.5064, 'eval_samples_per_second': 94.782, 'eval_steps_per_second': 5.924, 'epoch': 72.0}\n"
     ]
    },
    {
     "name": "stderr",
     "output_type": "stream",
     "text": [
      "                                                     \n",
      " 63%|██████▎   | 756/1200 [22:18:31<04:17,  1.73it/s]"
     ]
    },
    {
     "name": "stdout",
     "output_type": "stream",
     "text": [
      "{'loss': 0.0027, 'grad_norm': 0.02353569120168686, 'learning_rate': 1.3750000000000002e-05, 'epoch': 72.5}\n"
     ]
    },
    {
     "name": "stderr",
     "output_type": "stream",
     "text": [
      "\n",
      "\u001b[A\n",
      "\u001b[Ac:\\Users\\thami\\.conda\\envs\\finetunning-bert\\lib\\site-packages\\sklearn\\metrics\\_classification.py:1531: UndefinedMetricWarning: Precision is ill-defined and being set to 0.0 in labels with no predicted samples. Use `zero_division` parameter to control this behavior.\n",
      "  _warn_prf(average, modifier, f\"{metric.capitalize()} is\", len(result))\n",
      "c:\\Users\\thami\\.conda\\envs\\finetunning-bert\\lib\\site-packages\\sklearn\\metrics\\_classification.py:1531: UndefinedMetricWarning: Recall is ill-defined and being set to 0.0 in labels with no true samples. Use `zero_division` parameter to control this behavior.\n",
      "  _warn_prf(average, modifier, f\"{metric.capitalize()} is\", len(result))\n",
      "                                                     \n",
      "\u001b[A                                               \n",
      "\n",
      " 63%|██████▎   | 756/1200 [22:18:36<04:17,  1.73it/s]\n",
      "\u001b[A\n",
      "\u001b[A"
     ]
    },
    {
     "name": "stdout",
     "output_type": "stream",
     "text": [
      "{'eval_loss': 0.3671020567417145, 'eval_accuracy': 0.8541666666666666, 'eval_f1': 0.8526785714285715, 'eval_precision': 0.892361111111111, 'eval_recall': 0.8541666666666666, 'eval_runtime': 0.5034, 'eval_samples_per_second': 95.357, 'eval_steps_per_second': 5.96, 'epoch': 73.0}\n"
     ]
    },
    {
     "name": "stderr",
     "output_type": "stream",
     "text": [
      "                                                     \n",
      " 63%|██████▎   | 756/1200 [22:18:42<04:17,  1.73it/s]"
     ]
    },
    {
     "name": "stdout",
     "output_type": "stream",
     "text": [
      "{'loss': 0.0028, 'grad_norm': 0.02331836335361004, 'learning_rate': 1.3333333333333333e-05, 'epoch': 73.33}\n"
     ]
    },
    {
     "name": "stderr",
     "output_type": "stream",
     "text": [
      "\n",
      "\u001b[A\n",
      "\u001b[Ac:\\Users\\thami\\.conda\\envs\\finetunning-bert\\lib\\site-packages\\sklearn\\metrics\\_classification.py:1531: UndefinedMetricWarning: Precision is ill-defined and being set to 0.0 in labels with no predicted samples. Use `zero_division` parameter to control this behavior.\n",
      "  _warn_prf(average, modifier, f\"{metric.capitalize()} is\", len(result))\n",
      "c:\\Users\\thami\\.conda\\envs\\finetunning-bert\\lib\\site-packages\\sklearn\\metrics\\_classification.py:1531: UndefinedMetricWarning: Recall is ill-defined and being set to 0.0 in labels with no true samples. Use `zero_division` parameter to control this behavior.\n",
      "  _warn_prf(average, modifier, f\"{metric.capitalize()} is\", len(result))\n",
      "                                                     \n",
      "\u001b[A                                               \n",
      "\n",
      " 63%|██████▎   | 756/1200 [22:18:49<04:17,  1.73it/s]\n",
      "\u001b[A\n",
      "\u001b[A"
     ]
    },
    {
     "name": "stdout",
     "output_type": "stream",
     "text": [
      "{'eval_loss': 0.36937716603279114, 'eval_accuracy': 0.8541666666666666, 'eval_f1': 0.8526785714285715, 'eval_precision': 0.892361111111111, 'eval_recall': 0.8541666666666666, 'eval_runtime': 0.5278, 'eval_samples_per_second': 90.948, 'eval_steps_per_second': 5.684, 'epoch': 74.0}\n"
     ]
    },
    {
     "name": "stderr",
     "output_type": "stream",
     "text": [
      "                                                     \n",
      " 63%|██████▎   | 756/1200 [22:18:53<04:17,  1.73it/s]"
     ]
    },
    {
     "name": "stdout",
     "output_type": "stream",
     "text": [
      "{'loss': 0.0028, 'grad_norm': 0.028003422543406487, 'learning_rate': 1.2916666666666668e-05, 'epoch': 74.17}\n"
     ]
    },
    {
     "name": "stderr",
     "output_type": "stream",
     "text": [
      "                                                     \n",
      " 63%|██████▎   | 756/1200 [22:19:01<04:17,  1.73it/s]"
     ]
    },
    {
     "name": "stdout",
     "output_type": "stream",
     "text": [
      "{'loss': 0.0027, 'grad_norm': 0.025058837607502937, 'learning_rate': 1.25e-05, 'epoch': 75.0}\n"
     ]
    },
    {
     "name": "stderr",
     "output_type": "stream",
     "text": [
      "\n",
      "\u001b[A\n",
      "\u001b[Ac:\\Users\\thami\\.conda\\envs\\finetunning-bert\\lib\\site-packages\\sklearn\\metrics\\_classification.py:1531: UndefinedMetricWarning: Precision is ill-defined and being set to 0.0 in labels with no predicted samples. Use `zero_division` parameter to control this behavior.\n",
      "  _warn_prf(average, modifier, f\"{metric.capitalize()} is\", len(result))\n",
      "c:\\Users\\thami\\.conda\\envs\\finetunning-bert\\lib\\site-packages\\sklearn\\metrics\\_classification.py:1531: UndefinedMetricWarning: Recall is ill-defined and being set to 0.0 in labels with no true samples. Use `zero_division` parameter to control this behavior.\n",
      "  _warn_prf(average, modifier, f\"{metric.capitalize()} is\", len(result))\n",
      "                                                     \n",
      "\u001b[A                                               \n",
      "\n",
      " 63%|██████▎   | 756/1200 [22:19:01<04:17,  1.73it/s]\n",
      "\u001b[A\n",
      "\u001b[A"
     ]
    },
    {
     "name": "stdout",
     "output_type": "stream",
     "text": [
      "{'eval_loss': 0.37044474482536316, 'eval_accuracy': 0.8541666666666666, 'eval_f1': 0.8526785714285715, 'eval_precision': 0.892361111111111, 'eval_recall': 0.8541666666666666, 'eval_runtime': 0.4923, 'eval_samples_per_second': 97.501, 'eval_steps_per_second': 6.094, 'epoch': 75.0}\n"
     ]
    },
    {
     "name": "stderr",
     "output_type": "stream",
     "text": [
      "                                                     \n",
      " 63%|██████▎   | 756/1200 [22:19:10<04:17,  1.73it/s]"
     ]
    },
    {
     "name": "stdout",
     "output_type": "stream",
     "text": [
      "{'loss': 0.0027, 'grad_norm': 0.027841005474328995, 'learning_rate': 1.2083333333333333e-05, 'epoch': 75.83}\n"
     ]
    },
    {
     "name": "stderr",
     "output_type": "stream",
     "text": [
      "\n",
      "\u001b[A\n",
      "\u001b[Ac:\\Users\\thami\\.conda\\envs\\finetunning-bert\\lib\\site-packages\\sklearn\\metrics\\_classification.py:1531: UndefinedMetricWarning: Precision is ill-defined and being set to 0.0 in labels with no predicted samples. Use `zero_division` parameter to control this behavior.\n",
      "  _warn_prf(average, modifier, f\"{metric.capitalize()} is\", len(result))\n",
      "c:\\Users\\thami\\.conda\\envs\\finetunning-bert\\lib\\site-packages\\sklearn\\metrics\\_classification.py:1531: UndefinedMetricWarning: Recall is ill-defined and being set to 0.0 in labels with no true samples. Use `zero_division` parameter to control this behavior.\n",
      "  _warn_prf(average, modifier, f\"{metric.capitalize()} is\", len(result))\n",
      "                                                     \n",
      "\u001b[A                                               \n",
      "\n",
      " 63%|██████▎   | 756/1200 [22:19:12<04:17,  1.73it/s]\n",
      "\u001b[A\n",
      "\u001b[A"
     ]
    },
    {
     "name": "stdout",
     "output_type": "stream",
     "text": [
      "{'eval_loss': 0.3698699474334717, 'eval_accuracy': 0.8541666666666666, 'eval_f1': 0.8526785714285715, 'eval_precision': 0.892361111111111, 'eval_recall': 0.8541666666666666, 'eval_runtime': 0.4922, 'eval_samples_per_second': 97.519, 'eval_steps_per_second': 6.095, 'epoch': 76.0}\n"
     ]
    },
    {
     "name": "stderr",
     "output_type": "stream",
     "text": [
      "                                                     \n",
      " 63%|██████▎   | 756/1200 [22:19:21<04:17,  1.73it/s]"
     ]
    },
    {
     "name": "stdout",
     "output_type": "stream",
     "text": [
      "{'loss': 0.0026, 'grad_norm': 0.019455719739198685, 'learning_rate': 1.1666666666666668e-05, 'epoch': 76.67}\n"
     ]
    },
    {
     "name": "stderr",
     "output_type": "stream",
     "text": [
      "\n",
      "\u001b[A\n",
      "\u001b[Ac:\\Users\\thami\\.conda\\envs\\finetunning-bert\\lib\\site-packages\\sklearn\\metrics\\_classification.py:1531: UndefinedMetricWarning: Precision is ill-defined and being set to 0.0 in labels with no predicted samples. Use `zero_division` parameter to control this behavior.\n",
      "  _warn_prf(average, modifier, f\"{metric.capitalize()} is\", len(result))\n",
      "c:\\Users\\thami\\.conda\\envs\\finetunning-bert\\lib\\site-packages\\sklearn\\metrics\\_classification.py:1531: UndefinedMetricWarning: Recall is ill-defined and being set to 0.0 in labels with no true samples. Use `zero_division` parameter to control this behavior.\n",
      "  _warn_prf(average, modifier, f\"{metric.capitalize()} is\", len(result))\n",
      "                                                     \n",
      "\u001b[A                                               \n",
      "\n",
      " 63%|██████▎   | 756/1200 [22:19:24<04:17,  1.73it/s]\n",
      "\u001b[A\n",
      "\u001b[A"
     ]
    },
    {
     "name": "stdout",
     "output_type": "stream",
     "text": [
      "{'eval_loss': 0.36913809180259705, 'eval_accuracy': 0.8541666666666666, 'eval_f1': 0.8526785714285715, 'eval_precision': 0.892361111111111, 'eval_recall': 0.8541666666666666, 'eval_runtime': 0.4985, 'eval_samples_per_second': 96.291, 'eval_steps_per_second': 6.018, 'epoch': 77.0}\n"
     ]
    },
    {
     "name": "stderr",
     "output_type": "stream",
     "text": [
      "                                                     \n",
      " 63%|██████▎   | 756/1200 [22:19:31<04:17,  1.73it/s]"
     ]
    },
    {
     "name": "stdout",
     "output_type": "stream",
     "text": [
      "{'loss': 0.0025, 'grad_norm': 0.024123799055814743, 'learning_rate': 1.125e-05, 'epoch': 77.5}\n"
     ]
    },
    {
     "name": "stderr",
     "output_type": "stream",
     "text": [
      "\n",
      "\u001b[A\n",
      "\u001b[Ac:\\Users\\thami\\.conda\\envs\\finetunning-bert\\lib\\site-packages\\sklearn\\metrics\\_classification.py:1531: UndefinedMetricWarning: Precision is ill-defined and being set to 0.0 in labels with no predicted samples. Use `zero_division` parameter to control this behavior.\n",
      "  _warn_prf(average, modifier, f\"{metric.capitalize()} is\", len(result))\n",
      "c:\\Users\\thami\\.conda\\envs\\finetunning-bert\\lib\\site-packages\\sklearn\\metrics\\_classification.py:1531: UndefinedMetricWarning: Recall is ill-defined and being set to 0.0 in labels with no true samples. Use `zero_division` parameter to control this behavior.\n",
      "  _warn_prf(average, modifier, f\"{metric.capitalize()} is\", len(result))\n",
      "                                                     \n",
      "\u001b[A                                               \n",
      "\n",
      " 63%|██████▎   | 756/1200 [22:19:36<04:17,  1.73it/s]\n",
      "\u001b[A\n",
      "\u001b[A"
     ]
    },
    {
     "name": "stdout",
     "output_type": "stream",
     "text": [
      "{'eval_loss': 0.36921024322509766, 'eval_accuracy': 0.8333333333333334, 'eval_f1': 0.8387896825396824, 'eval_precision': 0.8819444444444443, 'eval_recall': 0.8333333333333334, 'eval_runtime': 0.4601, 'eval_samples_per_second': 104.315, 'eval_steps_per_second': 6.52, 'epoch': 78.0}\n"
     ]
    },
    {
     "name": "stderr",
     "output_type": "stream",
     "text": [
      "                                                     \n",
      " 63%|██████▎   | 756/1200 [22:19:42<04:17,  1.73it/s]"
     ]
    },
    {
     "name": "stdout",
     "output_type": "stream",
     "text": [
      "{'loss': 0.0027, 'grad_norm': 0.018405308946967125, 'learning_rate': 1.0833333333333334e-05, 'epoch': 78.33}\n"
     ]
    },
    {
     "name": "stderr",
     "output_type": "stream",
     "text": [
      "\n",
      "\u001b[A\n",
      "\u001b[Ac:\\Users\\thami\\.conda\\envs\\finetunning-bert\\lib\\site-packages\\sklearn\\metrics\\_classification.py:1531: UndefinedMetricWarning: Precision is ill-defined and being set to 0.0 in labels with no predicted samples. Use `zero_division` parameter to control this behavior.\n",
      "  _warn_prf(average, modifier, f\"{metric.capitalize()} is\", len(result))\n",
      "c:\\Users\\thami\\.conda\\envs\\finetunning-bert\\lib\\site-packages\\sklearn\\metrics\\_classification.py:1531: UndefinedMetricWarning: Recall is ill-defined and being set to 0.0 in labels with no true samples. Use `zero_division` parameter to control this behavior.\n",
      "  _warn_prf(average, modifier, f\"{metric.capitalize()} is\", len(result))\n",
      "                                                     \n",
      "\u001b[A                                               \n",
      "\n",
      " 63%|██████▎   | 756/1200 [22:19:48<04:17,  1.73it/s]\n",
      "\u001b[A\n",
      "\u001b[A"
     ]
    },
    {
     "name": "stdout",
     "output_type": "stream",
     "text": [
      "{'eval_loss': 0.36895909905433655, 'eval_accuracy': 0.8333333333333334, 'eval_f1': 0.8387896825396824, 'eval_precision': 0.8819444444444443, 'eval_recall': 0.8333333333333334, 'eval_runtime': 0.4607, 'eval_samples_per_second': 104.187, 'eval_steps_per_second': 6.512, 'epoch': 79.0}\n"
     ]
    },
    {
     "name": "stderr",
     "output_type": "stream",
     "text": [
      "                                                     \n",
      " 63%|██████▎   | 756/1200 [22:19:53<04:17,  1.73it/s]"
     ]
    },
    {
     "name": "stdout",
     "output_type": "stream",
     "text": [
      "{'loss': 0.0026, 'grad_norm': 0.019639823585748672, 'learning_rate': 1.0416666666666668e-05, 'epoch': 79.17}\n"
     ]
    },
    {
     "name": "stderr",
     "output_type": "stream",
     "text": [
      "                                                     \n",
      " 63%|██████▎   | 756/1200 [22:20:01<04:17,  1.73it/s]"
     ]
    },
    {
     "name": "stdout",
     "output_type": "stream",
     "text": [
      "{'loss': 0.0027, 'grad_norm': 0.027989549562335014, 'learning_rate': 1e-05, 'epoch': 80.0}\n"
     ]
    },
    {
     "name": "stderr",
     "output_type": "stream",
     "text": [
      "\n",
      "\u001b[A\n",
      "\u001b[Ac:\\Users\\thami\\.conda\\envs\\finetunning-bert\\lib\\site-packages\\sklearn\\metrics\\_classification.py:1531: UndefinedMetricWarning: Precision is ill-defined and being set to 0.0 in labels with no predicted samples. Use `zero_division` parameter to control this behavior.\n",
      "  _warn_prf(average, modifier, f\"{metric.capitalize()} is\", len(result))\n",
      "c:\\Users\\thami\\.conda\\envs\\finetunning-bert\\lib\\site-packages\\sklearn\\metrics\\_classification.py:1531: UndefinedMetricWarning: Recall is ill-defined and being set to 0.0 in labels with no true samples. Use `zero_division` parameter to control this behavior.\n",
      "  _warn_prf(average, modifier, f\"{metric.capitalize()} is\", len(result))\n",
      "                                                     \n",
      "\u001b[A                                               \n",
      "\n",
      " 63%|██████▎   | 756/1200 [22:20:01<04:17,  1.73it/s]\n",
      "\u001b[A\n",
      "\u001b[A"
     ]
    },
    {
     "name": "stdout",
     "output_type": "stream",
     "text": [
      "{'eval_loss': 0.3678523600101471, 'eval_accuracy': 0.8333333333333334, 'eval_f1': 0.8387896825396824, 'eval_precision': 0.8819444444444443, 'eval_recall': 0.8333333333333334, 'eval_runtime': 0.4826, 'eval_samples_per_second': 99.452, 'eval_steps_per_second': 6.216, 'epoch': 80.0}\n"
     ]
    },
    {
     "name": "stderr",
     "output_type": "stream",
     "text": [
      "                                                     \n",
      " 63%|██████▎   | 756/1200 [22:20:12<04:17,  1.73it/s]"
     ]
    },
    {
     "name": "stdout",
     "output_type": "stream",
     "text": [
      "{'loss': 0.0025, 'grad_norm': 0.017001530155539513, 'learning_rate': 9.583333333333334e-06, 'epoch': 80.83}\n"
     ]
    },
    {
     "name": "stderr",
     "output_type": "stream",
     "text": [
      "\n",
      "\u001b[A\n",
      "\u001b[Ac:\\Users\\thami\\.conda\\envs\\finetunning-bert\\lib\\site-packages\\sklearn\\metrics\\_classification.py:1531: UndefinedMetricWarning: Precision is ill-defined and being set to 0.0 in labels with no predicted samples. Use `zero_division` parameter to control this behavior.\n",
      "  _warn_prf(average, modifier, f\"{metric.capitalize()} is\", len(result))\n",
      "c:\\Users\\thami\\.conda\\envs\\finetunning-bert\\lib\\site-packages\\sklearn\\metrics\\_classification.py:1531: UndefinedMetricWarning: Recall is ill-defined and being set to 0.0 in labels with no true samples. Use `zero_division` parameter to control this behavior.\n",
      "  _warn_prf(average, modifier, f\"{metric.capitalize()} is\", len(result))\n",
      "                                                     \n",
      "\u001b[A                                               \n",
      "\n",
      " 63%|██████▎   | 756/1200 [22:20:14<04:17,  1.73it/s]\n",
      "\u001b[A\n",
      "\u001b[A"
     ]
    },
    {
     "name": "stdout",
     "output_type": "stream",
     "text": [
      "{'eval_loss': 0.3686666190624237, 'eval_accuracy': 0.8333333333333334, 'eval_f1': 0.8387896825396824, 'eval_precision': 0.8819444444444443, 'eval_recall': 0.8333333333333334, 'eval_runtime': 0.4945, 'eval_samples_per_second': 97.067, 'eval_steps_per_second': 6.067, 'epoch': 81.0}\n"
     ]
    },
    {
     "name": "stderr",
     "output_type": "stream",
     "text": [
      "                                                     \n",
      " 63%|██████▎   | 756/1200 [22:20:23<04:17,  1.73it/s]"
     ]
    },
    {
     "name": "stdout",
     "output_type": "stream",
     "text": [
      "{'loss': 0.0025, 'grad_norm': 0.028285769745707512, 'learning_rate': 9.166666666666666e-06, 'epoch': 81.67}\n"
     ]
    },
    {
     "name": "stderr",
     "output_type": "stream",
     "text": [
      "\n",
      "\u001b[A\n",
      "\u001b[Ac:\\Users\\thami\\.conda\\envs\\finetunning-bert\\lib\\site-packages\\sklearn\\metrics\\_classification.py:1531: UndefinedMetricWarning: Precision is ill-defined and being set to 0.0 in labels with no predicted samples. Use `zero_division` parameter to control this behavior.\n",
      "  _warn_prf(average, modifier, f\"{metric.capitalize()} is\", len(result))\n",
      "c:\\Users\\thami\\.conda\\envs\\finetunning-bert\\lib\\site-packages\\sklearn\\metrics\\_classification.py:1531: UndefinedMetricWarning: Recall is ill-defined and being set to 0.0 in labels with no true samples. Use `zero_division` parameter to control this behavior.\n",
      "  _warn_prf(average, modifier, f\"{metric.capitalize()} is\", len(result))\n",
      "                                                     \n",
      "\u001b[A                                               \n",
      "\n",
      " 63%|██████▎   | 756/1200 [22:20:26<04:17,  1.73it/s]\n",
      "\u001b[A\n",
      "\u001b[A"
     ]
    },
    {
     "name": "stdout",
     "output_type": "stream",
     "text": [
      "{'eval_loss': 0.36863431334495544, 'eval_accuracy': 0.8333333333333334, 'eval_f1': 0.8387896825396824, 'eval_precision': 0.8819444444444443, 'eval_recall': 0.8333333333333334, 'eval_runtime': 0.5038, 'eval_samples_per_second': 95.279, 'eval_steps_per_second': 5.955, 'epoch': 82.0}\n"
     ]
    },
    {
     "name": "stderr",
     "output_type": "stream",
     "text": [
      "                                                     \n",
      " 63%|██████▎   | 756/1200 [22:20:34<04:17,  1.73it/s]"
     ]
    },
    {
     "name": "stdout",
     "output_type": "stream",
     "text": [
      "{'loss': 0.0026, 'grad_norm': 0.02127566747367382, 'learning_rate': 8.75e-06, 'epoch': 82.5}\n"
     ]
    },
    {
     "name": "stderr",
     "output_type": "stream",
     "text": [
      "\n",
      "\u001b[A\n",
      "\u001b[Ac:\\Users\\thami\\.conda\\envs\\finetunning-bert\\lib\\site-packages\\sklearn\\metrics\\_classification.py:1531: UndefinedMetricWarning: Precision is ill-defined and being set to 0.0 in labels with no predicted samples. Use `zero_division` parameter to control this behavior.\n",
      "  _warn_prf(average, modifier, f\"{metric.capitalize()} is\", len(result))\n",
      "c:\\Users\\thami\\.conda\\envs\\finetunning-bert\\lib\\site-packages\\sklearn\\metrics\\_classification.py:1531: UndefinedMetricWarning: Recall is ill-defined and being set to 0.0 in labels with no true samples. Use `zero_division` parameter to control this behavior.\n",
      "  _warn_prf(average, modifier, f\"{metric.capitalize()} is\", len(result))\n",
      "                                                     \n",
      "\u001b[A                                               \n",
      "\n",
      " 63%|██████▎   | 756/1200 [22:20:39<04:17,  1.73it/s]\n",
      "\u001b[A\n",
      "\u001b[A"
     ]
    },
    {
     "name": "stdout",
     "output_type": "stream",
     "text": [
      "{'eval_loss': 0.3681112229824066, 'eval_accuracy': 0.8541666666666666, 'eval_f1': 0.8526785714285715, 'eval_precision': 0.892361111111111, 'eval_recall': 0.8541666666666666, 'eval_runtime': 0.4604, 'eval_samples_per_second': 104.265, 'eval_steps_per_second': 6.517, 'epoch': 83.0}\n"
     ]
    },
    {
     "name": "stderr",
     "output_type": "stream",
     "text": [
      "                                                     \n",
      " 63%|██████▎   | 756/1200 [22:20:46<04:17,  1.73it/s]"
     ]
    },
    {
     "name": "stdout",
     "output_type": "stream",
     "text": [
      "{'loss': 0.0025, 'grad_norm': 0.01873033307492733, 'learning_rate': 8.333333333333334e-06, 'epoch': 83.33}\n"
     ]
    },
    {
     "name": "stderr",
     "output_type": "stream",
     "text": [
      "\n",
      "\u001b[A\n",
      "\u001b[Ac:\\Users\\thami\\.conda\\envs\\finetunning-bert\\lib\\site-packages\\sklearn\\metrics\\_classification.py:1531: UndefinedMetricWarning: Precision is ill-defined and being set to 0.0 in labels with no predicted samples. Use `zero_division` parameter to control this behavior.\n",
      "  _warn_prf(average, modifier, f\"{metric.capitalize()} is\", len(result))\n",
      "c:\\Users\\thami\\.conda\\envs\\finetunning-bert\\lib\\site-packages\\sklearn\\metrics\\_classification.py:1531: UndefinedMetricWarning: Recall is ill-defined and being set to 0.0 in labels with no true samples. Use `zero_division` parameter to control this behavior.\n",
      "  _warn_prf(average, modifier, f\"{metric.capitalize()} is\", len(result))\n",
      "                                                     \n",
      "\u001b[A                                                \n",
      "\n",
      " 63%|██████▎   | 756/1200 [22:20:53<04:17,  1.73it/s]\n",
      "\u001b[A\n",
      "\u001b[A"
     ]
    },
    {
     "name": "stdout",
     "output_type": "stream",
     "text": [
      "{'eval_loss': 0.36674240231513977, 'eval_accuracy': 0.8541666666666666, 'eval_f1': 0.8526785714285715, 'eval_precision': 0.892361111111111, 'eval_recall': 0.8541666666666666, 'eval_runtime': 0.4872, 'eval_samples_per_second': 98.529, 'eval_steps_per_second': 6.158, 'epoch': 84.0}\n"
     ]
    },
    {
     "name": "stderr",
     "output_type": "stream",
     "text": [
      "                                                     \n",
      " 63%|██████▎   | 756/1200 [22:20:58<04:17,  1.73it/s]"
     ]
    },
    {
     "name": "stdout",
     "output_type": "stream",
     "text": [
      "{'loss': 0.0026, 'grad_norm': 0.0202633049339056, 'learning_rate': 7.916666666666667e-06, 'epoch': 84.17}\n"
     ]
    },
    {
     "name": "stderr",
     "output_type": "stream",
     "text": [
      "                                                     \n",
      " 63%|██████▎   | 756/1200 [22:21:05<04:17,  1.73it/s]"
     ]
    },
    {
     "name": "stdout",
     "output_type": "stream",
     "text": [
      "{'loss': 0.0026, 'grad_norm': 0.026224419474601746, 'learning_rate': 7.5e-06, 'epoch': 85.0}\n"
     ]
    },
    {
     "name": "stderr",
     "output_type": "stream",
     "text": [
      "\n",
      "\u001b[A\n",
      "\u001b[Ac:\\Users\\thami\\.conda\\envs\\finetunning-bert\\lib\\site-packages\\sklearn\\metrics\\_classification.py:1531: UndefinedMetricWarning: Precision is ill-defined and being set to 0.0 in labels with no predicted samples. Use `zero_division` parameter to control this behavior.\n",
      "  _warn_prf(average, modifier, f\"{metric.capitalize()} is\", len(result))\n",
      "c:\\Users\\thami\\.conda\\envs\\finetunning-bert\\lib\\site-packages\\sklearn\\metrics\\_classification.py:1531: UndefinedMetricWarning: Recall is ill-defined and being set to 0.0 in labels with no true samples. Use `zero_division` parameter to control this behavior.\n",
      "  _warn_prf(average, modifier, f\"{metric.capitalize()} is\", len(result))\n",
      "                                                     \n",
      "\u001b[A                                                \n",
      "\n",
      " 63%|██████▎   | 756/1200 [22:21:06<04:17,  1.73it/s]\n",
      "\u001b[A\n",
      "\u001b[A"
     ]
    },
    {
     "name": "stdout",
     "output_type": "stream",
     "text": [
      "{'eval_loss': 0.36510804295539856, 'eval_accuracy': 0.8541666666666666, 'eval_f1': 0.8526785714285715, 'eval_precision': 0.892361111111111, 'eval_recall': 0.8541666666666666, 'eval_runtime': 0.4686, 'eval_samples_per_second': 102.441, 'eval_steps_per_second': 6.403, 'epoch': 85.0}\n"
     ]
    },
    {
     "name": "stderr",
     "output_type": "stream",
     "text": [
      "                                                     \n",
      " 63%|██████▎   | 756/1200 [22:21:19<04:17,  1.73it/s]"
     ]
    },
    {
     "name": "stdout",
     "output_type": "stream",
     "text": [
      "{'loss': 0.0024, 'grad_norm': 0.021240681409835815, 'learning_rate': 7.083333333333334e-06, 'epoch': 85.83}\n"
     ]
    },
    {
     "name": "stderr",
     "output_type": "stream",
     "text": [
      "\n",
      "\u001b[A\n",
      "\u001b[Ac:\\Users\\thami\\.conda\\envs\\finetunning-bert\\lib\\site-packages\\sklearn\\metrics\\_classification.py:1531: UndefinedMetricWarning: Precision is ill-defined and being set to 0.0 in labels with no predicted samples. Use `zero_division` parameter to control this behavior.\n",
      "  _warn_prf(average, modifier, f\"{metric.capitalize()} is\", len(result))\n",
      "c:\\Users\\thami\\.conda\\envs\\finetunning-bert\\lib\\site-packages\\sklearn\\metrics\\_classification.py:1531: UndefinedMetricWarning: Recall is ill-defined and being set to 0.0 in labels with no true samples. Use `zero_division` parameter to control this behavior.\n",
      "  _warn_prf(average, modifier, f\"{metric.capitalize()} is\", len(result))\n",
      "                                                     \n",
      "\u001b[A                                                \n",
      "\n",
      " 63%|██████▎   | 756/1200 [22:21:21<04:17,  1.73it/s]\n",
      "\u001b[A\n",
      "\u001b[A"
     ]
    },
    {
     "name": "stdout",
     "output_type": "stream",
     "text": [
      "{'eval_loss': 0.3632560074329376, 'eval_accuracy': 0.8541666666666666, 'eval_f1': 0.8526785714285715, 'eval_precision': 0.892361111111111, 'eval_recall': 0.8541666666666666, 'eval_runtime': 0.5171, 'eval_samples_per_second': 92.825, 'eval_steps_per_second': 5.802, 'epoch': 86.0}\n"
     ]
    },
    {
     "name": "stderr",
     "output_type": "stream",
     "text": [
      "                                                     \n",
      " 63%|██████▎   | 756/1200 [22:21:30<04:17,  1.73it/s]"
     ]
    },
    {
     "name": "stdout",
     "output_type": "stream",
     "text": [
      "{'loss': 0.0023, 'grad_norm': 0.02279512770473957, 'learning_rate': 6.666666666666667e-06, 'epoch': 86.67}\n"
     ]
    },
    {
     "name": "stderr",
     "output_type": "stream",
     "text": [
      "\n",
      "\u001b[A\n",
      "\u001b[Ac:\\Users\\thami\\.conda\\envs\\finetunning-bert\\lib\\site-packages\\sklearn\\metrics\\_classification.py:1531: UndefinedMetricWarning: Precision is ill-defined and being set to 0.0 in labels with no predicted samples. Use `zero_division` parameter to control this behavior.\n",
      "  _warn_prf(average, modifier, f\"{metric.capitalize()} is\", len(result))\n",
      "c:\\Users\\thami\\.conda\\envs\\finetunning-bert\\lib\\site-packages\\sklearn\\metrics\\_classification.py:1531: UndefinedMetricWarning: Recall is ill-defined and being set to 0.0 in labels with no true samples. Use `zero_division` parameter to control this behavior.\n",
      "  _warn_prf(average, modifier, f\"{metric.capitalize()} is\", len(result))\n",
      "                                                     \n",
      "\u001b[A                                                \n",
      "\n",
      " 63%|██████▎   | 756/1200 [22:21:33<04:17,  1.73it/s]\n",
      "\u001b[A\n",
      "\u001b[A"
     ]
    },
    {
     "name": "stdout",
     "output_type": "stream",
     "text": [
      "{'eval_loss': 0.363533616065979, 'eval_accuracy': 0.8333333333333334, 'eval_f1': 0.8387896825396824, 'eval_precision': 0.8819444444444443, 'eval_recall': 0.8333333333333334, 'eval_runtime': 0.5108, 'eval_samples_per_second': 93.964, 'eval_steps_per_second': 5.873, 'epoch': 87.0}\n"
     ]
    },
    {
     "name": "stderr",
     "output_type": "stream",
     "text": [
      "                                                     \n",
      " 63%|██████▎   | 756/1200 [22:21:41<04:17,  1.73it/s]"
     ]
    },
    {
     "name": "stdout",
     "output_type": "stream",
     "text": [
      "{'loss': 0.0026, 'grad_norm': 0.02533421479165554, 'learning_rate': 6.25e-06, 'epoch': 87.5}\n"
     ]
    },
    {
     "name": "stderr",
     "output_type": "stream",
     "text": [
      "\n",
      "\u001b[A\n",
      "\u001b[Ac:\\Users\\thami\\.conda\\envs\\finetunning-bert\\lib\\site-packages\\sklearn\\metrics\\_classification.py:1531: UndefinedMetricWarning: Precision is ill-defined and being set to 0.0 in labels with no predicted samples. Use `zero_division` parameter to control this behavior.\n",
      "  _warn_prf(average, modifier, f\"{metric.capitalize()} is\", len(result))\n",
      "c:\\Users\\thami\\.conda\\envs\\finetunning-bert\\lib\\site-packages\\sklearn\\metrics\\_classification.py:1531: UndefinedMetricWarning: Recall is ill-defined and being set to 0.0 in labels with no true samples. Use `zero_division` parameter to control this behavior.\n",
      "  _warn_prf(average, modifier, f\"{metric.capitalize()} is\", len(result))\n",
      "                                                     \n",
      "\u001b[A                                                \n",
      "\n",
      " 63%|██████▎   | 756/1200 [22:21:46<04:17,  1.73it/s]\n",
      "\u001b[A\n",
      "\u001b[A"
     ]
    },
    {
     "name": "stdout",
     "output_type": "stream",
     "text": [
      "{'eval_loss': 0.36430418491363525, 'eval_accuracy': 0.8333333333333334, 'eval_f1': 0.8387896825396824, 'eval_precision': 0.8819444444444443, 'eval_recall': 0.8333333333333334, 'eval_runtime': 0.4848, 'eval_samples_per_second': 99.014, 'eval_steps_per_second': 6.188, 'epoch': 88.0}\n"
     ]
    },
    {
     "name": "stderr",
     "output_type": "stream",
     "text": [
      "                                                     \n",
      " 63%|██████▎   | 756/1200 [22:21:52<04:17,  1.73it/s]"
     ]
    },
    {
     "name": "stdout",
     "output_type": "stream",
     "text": [
      "{'loss': 0.0024, 'grad_norm': 0.020570222288370132, 'learning_rate': 5.833333333333334e-06, 'epoch': 88.33}\n"
     ]
    },
    {
     "name": "stderr",
     "output_type": "stream",
     "text": [
      "\n",
      "\u001b[A\n",
      "\u001b[Ac:\\Users\\thami\\.conda\\envs\\finetunning-bert\\lib\\site-packages\\sklearn\\metrics\\_classification.py:1531: UndefinedMetricWarning: Precision is ill-defined and being set to 0.0 in labels with no predicted samples. Use `zero_division` parameter to control this behavior.\n",
      "  _warn_prf(average, modifier, f\"{metric.capitalize()} is\", len(result))\n",
      "c:\\Users\\thami\\.conda\\envs\\finetunning-bert\\lib\\site-packages\\sklearn\\metrics\\_classification.py:1531: UndefinedMetricWarning: Recall is ill-defined and being set to 0.0 in labels with no true samples. Use `zero_division` parameter to control this behavior.\n",
      "  _warn_prf(average, modifier, f\"{metric.capitalize()} is\", len(result))\n",
      "                                                     \n",
      "\u001b[A                                                \n",
      "\n",
      " 63%|██████▎   | 756/1200 [22:21:59<04:17,  1.73it/s]\n",
      "\u001b[A\n",
      "\u001b[A"
     ]
    },
    {
     "name": "stdout",
     "output_type": "stream",
     "text": [
      "{'eval_loss': 0.3642791211605072, 'eval_accuracy': 0.8333333333333334, 'eval_f1': 0.8387896825396824, 'eval_precision': 0.8819444444444443, 'eval_recall': 0.8333333333333334, 'eval_runtime': 0.5248, 'eval_samples_per_second': 91.46, 'eval_steps_per_second': 5.716, 'epoch': 89.0}\n"
     ]
    },
    {
     "name": "stderr",
     "output_type": "stream",
     "text": [
      "                                                     \n",
      " 63%|██████▎   | 756/1200 [22:22:06<04:17,  1.73it/s]"
     ]
    },
    {
     "name": "stdout",
     "output_type": "stream",
     "text": [
      "{'loss': 0.0024, 'grad_norm': 0.023241695016622543, 'learning_rate': 5.416666666666667e-06, 'epoch': 89.17}\n"
     ]
    },
    {
     "name": "stderr",
     "output_type": "stream",
     "text": [
      "                                                     \n",
      " 63%|██████▎   | 756/1200 [22:22:14<04:17,  1.73it/s]"
     ]
    },
    {
     "name": "stdout",
     "output_type": "stream",
     "text": [
      "{'loss': 0.0024, 'grad_norm': 0.020595906302332878, 'learning_rate': 5e-06, 'epoch': 90.0}\n"
     ]
    },
    {
     "name": "stderr",
     "output_type": "stream",
     "text": [
      "\n",
      "\u001b[A\n",
      "\u001b[Ac:\\Users\\thami\\.conda\\envs\\finetunning-bert\\lib\\site-packages\\sklearn\\metrics\\_classification.py:1531: UndefinedMetricWarning: Precision is ill-defined and being set to 0.0 in labels with no predicted samples. Use `zero_division` parameter to control this behavior.\n",
      "  _warn_prf(average, modifier, f\"{metric.capitalize()} is\", len(result))\n",
      "c:\\Users\\thami\\.conda\\envs\\finetunning-bert\\lib\\site-packages\\sklearn\\metrics\\_classification.py:1531: UndefinedMetricWarning: Recall is ill-defined and being set to 0.0 in labels with no true samples. Use `zero_division` parameter to control this behavior.\n",
      "  _warn_prf(average, modifier, f\"{metric.capitalize()} is\", len(result))\n",
      "                                                     \n",
      "\u001b[A                                                \n",
      "\n",
      " 63%|██████▎   | 756/1200 [22:22:14<04:17,  1.73it/s]\n",
      "\u001b[A\n",
      "\u001b[A"
     ]
    },
    {
     "name": "stdout",
     "output_type": "stream",
     "text": [
      "{'eval_loss': 0.3645532429218292, 'eval_accuracy': 0.8333333333333334, 'eval_f1': 0.8387896825396824, 'eval_precision': 0.8819444444444443, 'eval_recall': 0.8333333333333334, 'eval_runtime': 0.5157, 'eval_samples_per_second': 93.072, 'eval_steps_per_second': 5.817, 'epoch': 90.0}\n"
     ]
    },
    {
     "name": "stderr",
     "output_type": "stream",
     "text": [
      "                                                     \n",
      " 63%|██████▎   | 756/1200 [22:22:28<04:17,  1.73it/s]"
     ]
    },
    {
     "name": "stdout",
     "output_type": "stream",
     "text": [
      "{'loss': 0.0025, 'grad_norm': 0.02247856929898262, 'learning_rate': 4.583333333333333e-06, 'epoch': 90.83}\n"
     ]
    },
    {
     "name": "stderr",
     "output_type": "stream",
     "text": [
      "\n",
      "\u001b[A\n",
      "\u001b[Ac:\\Users\\thami\\.conda\\envs\\finetunning-bert\\lib\\site-packages\\sklearn\\metrics\\_classification.py:1531: UndefinedMetricWarning: Precision is ill-defined and being set to 0.0 in labels with no predicted samples. Use `zero_division` parameter to control this behavior.\n",
      "  _warn_prf(average, modifier, f\"{metric.capitalize()} is\", len(result))\n",
      "c:\\Users\\thami\\.conda\\envs\\finetunning-bert\\lib\\site-packages\\sklearn\\metrics\\_classification.py:1531: UndefinedMetricWarning: Recall is ill-defined and being set to 0.0 in labels with no true samples. Use `zero_division` parameter to control this behavior.\n",
      "  _warn_prf(average, modifier, f\"{metric.capitalize()} is\", len(result))\n",
      "                                                     \n",
      "\u001b[A                                                \n",
      "\n",
      " 63%|██████▎   | 756/1200 [22:22:30<04:17,  1.73it/s]\n",
      "\u001b[A\n",
      "\u001b[A"
     ]
    },
    {
     "name": "stdout",
     "output_type": "stream",
     "text": [
      "{'eval_loss': 0.364185094833374, 'eval_accuracy': 0.8333333333333334, 'eval_f1': 0.8387896825396824, 'eval_precision': 0.8819444444444443, 'eval_recall': 0.8333333333333334, 'eval_runtime': 0.4734, 'eval_samples_per_second': 101.395, 'eval_steps_per_second': 6.337, 'epoch': 91.0}\n"
     ]
    },
    {
     "name": "stderr",
     "output_type": "stream",
     "text": [
      "                                                     \n",
      " 63%|██████▎   | 756/1200 [22:22:41<04:17,  1.73it/s]"
     ]
    },
    {
     "name": "stdout",
     "output_type": "stream",
     "text": [
      "{'loss': 0.0023, 'grad_norm': 0.017405536025762558, 'learning_rate': 4.166666666666667e-06, 'epoch': 91.67}\n"
     ]
    },
    {
     "name": "stderr",
     "output_type": "stream",
     "text": [
      "\n",
      "\u001b[A\n",
      "\u001b[Ac:\\Users\\thami\\.conda\\envs\\finetunning-bert\\lib\\site-packages\\sklearn\\metrics\\_classification.py:1531: UndefinedMetricWarning: Precision is ill-defined and being set to 0.0 in labels with no predicted samples. Use `zero_division` parameter to control this behavior.\n",
      "  _warn_prf(average, modifier, f\"{metric.capitalize()} is\", len(result))\n",
      "c:\\Users\\thami\\.conda\\envs\\finetunning-bert\\lib\\site-packages\\sklearn\\metrics\\_classification.py:1531: UndefinedMetricWarning: Recall is ill-defined and being set to 0.0 in labels with no true samples. Use `zero_division` parameter to control this behavior.\n",
      "  _warn_prf(average, modifier, f\"{metric.capitalize()} is\", len(result))\n",
      "                                                     \n",
      "\u001b[A                                                \n",
      "\n",
      " 63%|██████▎   | 756/1200 [22:22:45<04:17,  1.73it/s]\n",
      "\u001b[A\n",
      "\u001b[A"
     ]
    },
    {
     "name": "stdout",
     "output_type": "stream",
     "text": [
      "{'eval_loss': 0.3647533357143402, 'eval_accuracy': 0.8333333333333334, 'eval_f1': 0.8387896825396824, 'eval_precision': 0.8819444444444443, 'eval_recall': 0.8333333333333334, 'eval_runtime': 0.454, 'eval_samples_per_second': 105.723, 'eval_steps_per_second': 6.608, 'epoch': 92.0}\n"
     ]
    },
    {
     "name": "stderr",
     "output_type": "stream",
     "text": [
      "                                                     \n",
      " 63%|██████▎   | 756/1200 [22:22:54<04:17,  1.73it/s]"
     ]
    },
    {
     "name": "stdout",
     "output_type": "stream",
     "text": [
      "{'loss': 0.0025, 'grad_norm': 0.02254779264330864, 'learning_rate': 3.75e-06, 'epoch': 92.5}\n"
     ]
    },
    {
     "name": "stderr",
     "output_type": "stream",
     "text": [
      "\n",
      "\u001b[A\n",
      "\u001b[Ac:\\Users\\thami\\.conda\\envs\\finetunning-bert\\lib\\site-packages\\sklearn\\metrics\\_classification.py:1531: UndefinedMetricWarning: Precision is ill-defined and being set to 0.0 in labels with no predicted samples. Use `zero_division` parameter to control this behavior.\n",
      "  _warn_prf(average, modifier, f\"{metric.capitalize()} is\", len(result))\n",
      "c:\\Users\\thami\\.conda\\envs\\finetunning-bert\\lib\\site-packages\\sklearn\\metrics\\_classification.py:1531: UndefinedMetricWarning: Recall is ill-defined and being set to 0.0 in labels with no true samples. Use `zero_division` parameter to control this behavior.\n",
      "  _warn_prf(average, modifier, f\"{metric.capitalize()} is\", len(result))\n",
      "                                                     \n",
      "\u001b[A                                                \n",
      "\n",
      " 63%|██████▎   | 756/1200 [22:23:00<04:17,  1.73it/s]\n",
      "\u001b[A\n",
      "\u001b[A"
     ]
    },
    {
     "name": "stdout",
     "output_type": "stream",
     "text": [
      "{'eval_loss': 0.36468639969825745, 'eval_accuracy': 0.8333333333333334, 'eval_f1': 0.8387896825396824, 'eval_precision': 0.8819444444444443, 'eval_recall': 0.8333333333333334, 'eval_runtime': 0.5176, 'eval_samples_per_second': 92.736, 'eval_steps_per_second': 5.796, 'epoch': 93.0}\n"
     ]
    },
    {
     "name": "stderr",
     "output_type": "stream",
     "text": [
      "                                                     \n",
      " 63%|██████▎   | 756/1200 [22:23:06<04:17,  1.73it/s]"
     ]
    },
    {
     "name": "stdout",
     "output_type": "stream",
     "text": [
      "{'loss': 0.0025, 'grad_norm': 0.02134088985621929, 'learning_rate': 3.3333333333333333e-06, 'epoch': 93.33}\n"
     ]
    },
    {
     "name": "stderr",
     "output_type": "stream",
     "text": [
      "\n",
      "\u001b[A\n",
      "\u001b[Ac:\\Users\\thami\\.conda\\envs\\finetunning-bert\\lib\\site-packages\\sklearn\\metrics\\_classification.py:1531: UndefinedMetricWarning: Precision is ill-defined and being set to 0.0 in labels with no predicted samples. Use `zero_division` parameter to control this behavior.\n",
      "  _warn_prf(average, modifier, f\"{metric.capitalize()} is\", len(result))\n",
      "c:\\Users\\thami\\.conda\\envs\\finetunning-bert\\lib\\site-packages\\sklearn\\metrics\\_classification.py:1531: UndefinedMetricWarning: Recall is ill-defined and being set to 0.0 in labels with no true samples. Use `zero_division` parameter to control this behavior.\n",
      "  _warn_prf(average, modifier, f\"{metric.capitalize()} is\", len(result))\n",
      "                                                     \n",
      "\u001b[A                                                \n",
      "\n",
      " 63%|██████▎   | 756/1200 [22:23:13<04:17,  1.73it/s]\n",
      "\u001b[A\n",
      "\u001b[A"
     ]
    },
    {
     "name": "stdout",
     "output_type": "stream",
     "text": [
      "{'eval_loss': 0.3643517792224884, 'eval_accuracy': 0.8333333333333334, 'eval_f1': 0.8387896825396824, 'eval_precision': 0.8819444444444443, 'eval_recall': 0.8333333333333334, 'eval_runtime': 0.4733, 'eval_samples_per_second': 101.424, 'eval_steps_per_second': 6.339, 'epoch': 94.0}\n"
     ]
    },
    {
     "name": "stderr",
     "output_type": "stream",
     "text": [
      "                                                     \n",
      " 63%|██████▎   | 756/1200 [22:23:17<04:17,  1.73it/s]"
     ]
    },
    {
     "name": "stdout",
     "output_type": "stream",
     "text": [
      "{'loss': 0.0027, 'grad_norm': 0.02307666651904583, 'learning_rate': 2.916666666666667e-06, 'epoch': 94.17}\n"
     ]
    },
    {
     "name": "stderr",
     "output_type": "stream",
     "text": [
      "                                                     \n",
      " 63%|██████▎   | 756/1200 [22:23:25<04:17,  1.73it/s]"
     ]
    },
    {
     "name": "stdout",
     "output_type": "stream",
     "text": [
      "{'loss': 0.0024, 'grad_norm': 0.019865475594997406, 'learning_rate': 2.5e-06, 'epoch': 95.0}\n"
     ]
    },
    {
     "name": "stderr",
     "output_type": "stream",
     "text": [
      "\n",
      "\u001b[A\n",
      "\u001b[Ac:\\Users\\thami\\.conda\\envs\\finetunning-bert\\lib\\site-packages\\sklearn\\metrics\\_classification.py:1531: UndefinedMetricWarning: Precision is ill-defined and being set to 0.0 in labels with no predicted samples. Use `zero_division` parameter to control this behavior.\n",
      "  _warn_prf(average, modifier, f\"{metric.capitalize()} is\", len(result))\n",
      "c:\\Users\\thami\\.conda\\envs\\finetunning-bert\\lib\\site-packages\\sklearn\\metrics\\_classification.py:1531: UndefinedMetricWarning: Recall is ill-defined and being set to 0.0 in labels with no true samples. Use `zero_division` parameter to control this behavior.\n",
      "  _warn_prf(average, modifier, f\"{metric.capitalize()} is\", len(result))\n",
      "                                                     \n",
      "\u001b[A                                                \n",
      "\n",
      " 63%|██████▎   | 756/1200 [22:23:25<04:17,  1.73it/s]\n",
      "\u001b[A\n",
      "\u001b[A"
     ]
    },
    {
     "name": "stdout",
     "output_type": "stream",
     "text": [
      "{'eval_loss': 0.3637024164199829, 'eval_accuracy': 0.8333333333333334, 'eval_f1': 0.8387896825396824, 'eval_precision': 0.8819444444444443, 'eval_recall': 0.8333333333333334, 'eval_runtime': 0.4885, 'eval_samples_per_second': 98.265, 'eval_steps_per_second': 6.142, 'epoch': 95.0}\n"
     ]
    },
    {
     "name": "stderr",
     "output_type": "stream",
     "text": [
      "                                                     \n",
      " 63%|██████▎   | 756/1200 [22:23:36<04:17,  1.73it/s]"
     ]
    },
    {
     "name": "stdout",
     "output_type": "stream",
     "text": [
      "{'loss': 0.0022, 'grad_norm': 0.022070616483688354, 'learning_rate': 2.0833333333333334e-06, 'epoch': 95.83}\n"
     ]
    },
    {
     "name": "stderr",
     "output_type": "stream",
     "text": [
      "\n",
      "\u001b[A\n",
      "\u001b[Ac:\\Users\\thami\\.conda\\envs\\finetunning-bert\\lib\\site-packages\\sklearn\\metrics\\_classification.py:1531: UndefinedMetricWarning: Precision is ill-defined and being set to 0.0 in labels with no predicted samples. Use `zero_division` parameter to control this behavior.\n",
      "  _warn_prf(average, modifier, f\"{metric.capitalize()} is\", len(result))\n",
      "c:\\Users\\thami\\.conda\\envs\\finetunning-bert\\lib\\site-packages\\sklearn\\metrics\\_classification.py:1531: UndefinedMetricWarning: Recall is ill-defined and being set to 0.0 in labels with no true samples. Use `zero_division` parameter to control this behavior.\n",
      "  _warn_prf(average, modifier, f\"{metric.capitalize()} is\", len(result))\n",
      "                                                     \n",
      "\u001b[A                                                \n",
      "\n",
      " 63%|██████▎   | 756/1200 [22:23:38<04:17,  1.73it/s]\n",
      "\u001b[A\n",
      "\u001b[A"
     ]
    },
    {
     "name": "stdout",
     "output_type": "stream",
     "text": [
      "{'eval_loss': 0.3638765513896942, 'eval_accuracy': 0.8333333333333334, 'eval_f1': 0.8387896825396824, 'eval_precision': 0.8819444444444443, 'eval_recall': 0.8333333333333334, 'eval_runtime': 0.5022, 'eval_samples_per_second': 95.581, 'eval_steps_per_second': 5.974, 'epoch': 96.0}\n"
     ]
    },
    {
     "name": "stderr",
     "output_type": "stream",
     "text": [
      "                                                     \n",
      " 63%|██████▎   | 756/1200 [22:23:51<04:17,  1.73it/s]"
     ]
    },
    {
     "name": "stdout",
     "output_type": "stream",
     "text": [
      "{'loss': 0.0024, 'grad_norm': 0.017598651349544525, 'learning_rate': 1.6666666666666667e-06, 'epoch': 96.67}\n"
     ]
    },
    {
     "name": "stderr",
     "output_type": "stream",
     "text": [
      "\n",
      "\u001b[A\n",
      "\u001b[Ac:\\Users\\thami\\.conda\\envs\\finetunning-bert\\lib\\site-packages\\sklearn\\metrics\\_classification.py:1531: UndefinedMetricWarning: Precision is ill-defined and being set to 0.0 in labels with no predicted samples. Use `zero_division` parameter to control this behavior.\n",
      "  _warn_prf(average, modifier, f\"{metric.capitalize()} is\", len(result))\n",
      "c:\\Users\\thami\\.conda\\envs\\finetunning-bert\\lib\\site-packages\\sklearn\\metrics\\_classification.py:1531: UndefinedMetricWarning: Recall is ill-defined and being set to 0.0 in labels with no true samples. Use `zero_division` parameter to control this behavior.\n",
      "  _warn_prf(average, modifier, f\"{metric.capitalize()} is\", len(result))\n",
      "                                                     \n",
      "\u001b[A                                                \n",
      "\n",
      " 63%|██████▎   | 756/1200 [22:23:56<04:17,  1.73it/s]\n",
      "\u001b[A\n",
      "\u001b[A"
     ]
    },
    {
     "name": "stdout",
     "output_type": "stream",
     "text": [
      "{'eval_loss': 0.3640260696411133, 'eval_accuracy': 0.8333333333333334, 'eval_f1': 0.8387896825396824, 'eval_precision': 0.8819444444444443, 'eval_recall': 0.8333333333333334, 'eval_runtime': 0.4938, 'eval_samples_per_second': 97.208, 'eval_steps_per_second': 6.075, 'epoch': 97.0}\n"
     ]
    },
    {
     "name": "stderr",
     "output_type": "stream",
     "text": [
      "                                                     \n",
      " 63%|██████▎   | 756/1200 [22:24:01<04:17,  1.73it/s]"
     ]
    },
    {
     "name": "stdout",
     "output_type": "stream",
     "text": [
      "{'loss': 0.0024, 'grad_norm': 0.03469781205058098, 'learning_rate': 1.25e-06, 'epoch': 97.5}\n"
     ]
    },
    {
     "name": "stderr",
     "output_type": "stream",
     "text": [
      "\n",
      "\u001b[A\n",
      "\u001b[Ac:\\Users\\thami\\.conda\\envs\\finetunning-bert\\lib\\site-packages\\sklearn\\metrics\\_classification.py:1531: UndefinedMetricWarning: Precision is ill-defined and being set to 0.0 in labels with no predicted samples. Use `zero_division` parameter to control this behavior.\n",
      "  _warn_prf(average, modifier, f\"{metric.capitalize()} is\", len(result))\n",
      "c:\\Users\\thami\\.conda\\envs\\finetunning-bert\\lib\\site-packages\\sklearn\\metrics\\_classification.py:1531: UndefinedMetricWarning: Recall is ill-defined and being set to 0.0 in labels with no true samples. Use `zero_division` parameter to control this behavior.\n",
      "  _warn_prf(average, modifier, f\"{metric.capitalize()} is\", len(result))\n",
      "                                                     \n",
      "\u001b[A                                                \n",
      "\n",
      " 63%|██████▎   | 756/1200 [22:24:06<04:17,  1.73it/s]\n",
      "\u001b[A\n",
      "\u001b[A"
     ]
    },
    {
     "name": "stdout",
     "output_type": "stream",
     "text": [
      "{'eval_loss': 0.3642303943634033, 'eval_accuracy': 0.8333333333333334, 'eval_f1': 0.8387896825396824, 'eval_precision': 0.8819444444444443, 'eval_recall': 0.8333333333333334, 'eval_runtime': 0.4668, 'eval_samples_per_second': 102.826, 'eval_steps_per_second': 6.427, 'epoch': 98.0}\n"
     ]
    },
    {
     "name": "stderr",
     "output_type": "stream",
     "text": [
      "                                                     \n",
      " 63%|██████▎   | 756/1200 [22:24:11<04:17,  1.73it/s]"
     ]
    },
    {
     "name": "stdout",
     "output_type": "stream",
     "text": [
      "{'loss': 0.0023, 'grad_norm': 0.018340641632676125, 'learning_rate': 8.333333333333333e-07, 'epoch': 98.33}\n"
     ]
    },
    {
     "name": "stderr",
     "output_type": "stream",
     "text": [
      "\n",
      "\u001b[A\n",
      "\u001b[Ac:\\Users\\thami\\.conda\\envs\\finetunning-bert\\lib\\site-packages\\sklearn\\metrics\\_classification.py:1531: UndefinedMetricWarning: Precision is ill-defined and being set to 0.0 in labels with no predicted samples. Use `zero_division` parameter to control this behavior.\n",
      "  _warn_prf(average, modifier, f\"{metric.capitalize()} is\", len(result))\n",
      "c:\\Users\\thami\\.conda\\envs\\finetunning-bert\\lib\\site-packages\\sklearn\\metrics\\_classification.py:1531: UndefinedMetricWarning: Recall is ill-defined and being set to 0.0 in labels with no true samples. Use `zero_division` parameter to control this behavior.\n",
      "  _warn_prf(average, modifier, f\"{metric.capitalize()} is\", len(result))\n",
      "                                                     \n",
      "\u001b[A                                                \n",
      "\n",
      " 63%|██████▎   | 756/1200 [22:24:17<04:17,  1.73it/s]\n",
      "\u001b[A\n",
      "\u001b[A"
     ]
    },
    {
     "name": "stdout",
     "output_type": "stream",
     "text": [
      "{'eval_loss': 0.36441847681999207, 'eval_accuracy': 0.8333333333333334, 'eval_f1': 0.8387896825396824, 'eval_precision': 0.8819444444444443, 'eval_recall': 0.8333333333333334, 'eval_runtime': 0.5127, 'eval_samples_per_second': 93.619, 'eval_steps_per_second': 5.851, 'epoch': 99.0}\n"
     ]
    },
    {
     "name": "stderr",
     "output_type": "stream",
     "text": [
      "                                                     \n",
      " 63%|██████▎   | 756/1200 [22:24:20<04:17,  1.73it/s]"
     ]
    },
    {
     "name": "stdout",
     "output_type": "stream",
     "text": [
      "{'loss': 0.0022, 'grad_norm': 0.015144219622015953, 'learning_rate': 4.1666666666666667e-07, 'epoch': 99.17}\n"
     ]
    },
    {
     "name": "stderr",
     "output_type": "stream",
     "text": [
      "                                                     \n",
      " 63%|██████▎   | 756/1200 [22:24:27<04:17,  1.73it/s]"
     ]
    },
    {
     "name": "stdout",
     "output_type": "stream",
     "text": [
      "{'loss': 0.0023, 'grad_norm': 0.02170770801603794, 'learning_rate': 0.0, 'epoch': 100.0}\n"
     ]
    },
    {
     "name": "stderr",
     "output_type": "stream",
     "text": [
      "\n",
      "\u001b[A\n",
      "\u001b[Ac:\\Users\\thami\\.conda\\envs\\finetunning-bert\\lib\\site-packages\\sklearn\\metrics\\_classification.py:1531: UndefinedMetricWarning: Precision is ill-defined and being set to 0.0 in labels with no predicted samples. Use `zero_division` parameter to control this behavior.\n",
      "  _warn_prf(average, modifier, f\"{metric.capitalize()} is\", len(result))\n",
      "c:\\Users\\thami\\.conda\\envs\\finetunning-bert\\lib\\site-packages\\sklearn\\metrics\\_classification.py:1531: UndefinedMetricWarning: Recall is ill-defined and being set to 0.0 in labels with no true samples. Use `zero_division` parameter to control this behavior.\n",
      "  _warn_prf(average, modifier, f\"{metric.capitalize()} is\", len(result))\n",
      "                                                     \n",
      "\u001b[A                                                \n",
      "\n",
      " 63%|██████▎   | 756/1200 [22:24:28<04:17,  1.73it/s]\n",
      "\u001b[A\n",
      "\u001b[A"
     ]
    },
    {
     "name": "stdout",
     "output_type": "stream",
     "text": [
      "{'eval_loss': 0.3644067049026489, 'eval_accuracy': 0.8333333333333334, 'eval_f1': 0.8387896825396824, 'eval_precision': 0.8819444444444443, 'eval_recall': 0.8333333333333334, 'eval_runtime': 0.5108, 'eval_samples_per_second': 93.962, 'eval_steps_per_second': 5.873, 'epoch': 100.0}\n"
     ]
    },
    {
     "name": "stderr",
     "output_type": "stream",
     "text": [
      "                                                     \n",
      "100%|██████████| 1200/1200 [20:55<00:00,  1.05s/it]s]\n"
     ]
    },
    {
     "name": "stdout",
     "output_type": "stream",
     "text": [
      "{'train_runtime': 1255.1172, 'train_samples_per_second': 15.058, 'train_steps_per_second': 0.956, 'train_loss': 0.1520066738066574, 'epoch': 100.0}\n"
     ]
    },
    {
     "name": "stderr",
     "output_type": "stream",
     "text": [
      "c:\\Users\\thami\\.conda\\envs\\finetunning-bert\\lib\\site-packages\\sklearn\\metrics\\_classification.py:1531: UndefinedMetricWarning: Precision is ill-defined and being set to 0.0 in labels with no predicted samples. Use `zero_division` parameter to control this behavior.\n",
      "  _warn_prf(average, modifier, f\"{metric.capitalize()} is\", len(result))\n",
      "c:\\Users\\thami\\.conda\\envs\\finetunning-bert\\lib\\site-packages\\sklearn\\metrics\\_classification.py:1531: UndefinedMetricWarning: Recall is ill-defined and being set to 0.0 in labels with no true samples. Use `zero_division` parameter to control this behavior.\n",
      "  _warn_prf(average, modifier, f\"{metric.capitalize()} is\", len(result))\n",
      "100%|██████████| 3/3 [00:00<00:00, 10.01it/s]\n"
     ]
    },
    {
     "name": "stdout",
     "output_type": "stream",
     "text": [
      "\n",
      "\n",
      "{'eval_loss': 0.35025593638420105, 'eval_accuracy': 0.875, 'eval_f1': 0.876984126984127, 'eval_precision': 0.8993055555555555, 'eval_recall': 0.875, 'eval_runtime': 0.4453, 'eval_samples_per_second': 107.787, 'eval_steps_per_second': 6.737, 'epoch': 100.0}\n"
     ]
    },
    {
     "data": {
      "text/plain": [
       "('bert_finetuned/tokenizer\\\\tokenizer_config.json',\n",
       " 'bert_finetuned/tokenizer\\\\special_tokens_map.json',\n",
       " 'bert_finetuned/tokenizer\\\\vocab.txt',\n",
       " 'bert_finetuned/tokenizer\\\\added_tokens.json',\n",
       " 'bert_finetuned/tokenizer\\\\tokenizer.json')"
      ]
     },
     "execution_count": 206,
     "metadata": {},
     "output_type": "execute_result"
    }
   ],
   "source": [
    "model = AutoModelForSequenceClassification.from_pretrained(model_name, num_labels=len(df_aug['intent_encoded'].unique()))\n",
    "\n",
    "training_args = TrainingArguments(\n",
    "    output_dir='./results',\n",
    "    num_train_epochs=100,\n",
    "    per_device_train_batch_size=16,\n",
    "    per_device_eval_batch_size=16,\n",
    "    evaluation_strategy='epoch',\n",
    "    save_strategy='epoch',\n",
    "    logging_dir='./logs',\n",
    "    logging_steps=10,\n",
    "    load_best_model_at_end=True,\n",
    "    metric_for_best_model='accuracy'\n",
    ")\n",
    "\n",
    "trainer = Trainer(\n",
    "    model=model,\n",
    "    args=training_args,\n",
    "    train_dataset=datasets_token['train'],\n",
    "    eval_dataset=datasets_token['test'],\n",
    "    tokenizer=tokenizer,\n",
    "    compute_metrics=compute_metrics\n",
    ")\n",
    "\n",
    "trainer.train()\n",
    "\n",
    "eval_result = trainer.evaluate()\n",
    "print(f\"\\n\\n{eval_result}\")\n",
    "\n",
    "model.save_pretrained('bert_finetuned/model')\n",
    "tokenizer.save_pretrained('bert_finetuned/tokenizer')"
   ]
  },
  {
   "cell_type": "code",
   "execution_count": null,
   "metadata": {},
   "outputs": [],
   "source": [
    "# sd"
   ]
  },
  {
   "cell_type": "code",
   "execution_count": 78,
   "metadata": {},
   "outputs": [
    {
     "name": "stdout",
     "output_type": "stream",
     "text": [
      "Predicted Intent: Shutup\n"
     ]
    }
   ],
   "source": [
    "test_sentence = \"neosineosidsdd\"\n",
    "predicted_intent = predict_intent(test_sentence)\n",
    "print(f\"Predicted Intent: {predicted_intent}\")"
   ]
  },
  {
   "cell_type": "code",
   "execution_count": null,
   "metadata": {},
   "outputs": [],
   "source": [
    "# ed"
   ]
  },
  {
   "cell_type": "code",
   "execution_count": null,
   "metadata": {},
   "outputs": [],
   "source": [
    "# sd "
   ]
  },
  {
   "cell_type": "code",
   "execution_count": 83,
   "metadata": {},
   "outputs": [],
   "source": [
    "text = 'sdpmodnspnsd'\n",
    "inputs = tokenizer(text, return_tensors=\"pt\", truncation=True, padding=True)\n",
    "outputs = model(**inputs)\n"
   ]
  },
  {
   "cell_type": "code",
   "execution_count": 98,
   "metadata": {},
   "outputs": [
    {
     "data": {
      "text/plain": [
       "tensor(0.1801, grad_fn=<SelectBackward0>)"
      ]
     },
     "execution_count": 98,
     "metadata": {},
     "output_type": "execute_result"
    }
   ],
   "source": [
    "outputs[0].softmax(1)[0][16]"
   ]
  },
  {
   "cell_type": "code",
   "execution_count": null,
   "metadata": {},
   "outputs": [],
   "source": []
  },
  {
   "cell_type": "code",
   "execution_count": 85,
   "metadata": {},
   "outputs": [
    {
     "name": "stdout",
     "output_type": "stream",
     "text": [
      "Label 0: Clever\n",
      "Label 1: CourtesyGoodBye\n",
      "Label 2: CourtesyGreeting\n",
      "Label 3: CourtesyGreetingResponse\n",
      "Label 4: CurrentHumanQuery\n",
      "Label 5: GoodBye\n",
      "Label 6: Gossip\n",
      "Label 7: Greeting\n",
      "Label 8: GreetingResponse\n",
      "Label 9: Jokes\n",
      "Label 10: NameQuery\n",
      "Label 11: NotTalking2U\n",
      "Label 12: PodBayDoor\n",
      "Label 13: PodBayDoorResponse\n",
      "Label 14: RealNameQuery\n",
      "Label 15: SelfAware\n",
      "Label 16: Shutup\n",
      "Label 17: Swearing\n",
      "Label 18: Thanks\n",
      "Label 19: TimeQuery\n",
      "Label 20: UnderstandQuery\n",
      "Label 21: WhoAmI\n"
     ]
    }
   ],
   "source": [
    "for index, label in enumerate(le.classes_):\n",
    "    print(f\"Label {index}: {label}\")"
   ]
  },
  {
   "cell_type": "code",
   "execution_count": 90,
   "metadata": {},
   "outputs": [
    {
     "ename": "SyntaxError",
     "evalue": "invalid syntax (3233424227.py, line 1)",
     "output_type": "error",
     "traceback": [
      "\u001b[1;36m  Cell \u001b[1;32mIn[90], line 1\u001b[1;36m\u001b[0m\n\u001b[1;33m    torch.argmax(probs).\u001b[0m\n\u001b[1;37m                        ^\u001b[0m\n\u001b[1;31mSyntaxError\u001b[0m\u001b[1;31m:\u001b[0m invalid syntax\n"
     ]
    }
   ],
   "source": [
    "torch.argmax(probs)"
   ]
  },
  {
   "cell_type": "code",
   "execution_count": 86,
   "metadata": {},
   "outputs": [
    {
     "data": {
      "text/plain": [
       "array(['Shutup'], dtype=object)"
      ]
     },
     "execution_count": 86,
     "metadata": {},
     "output_type": "execute_result"
    }
   ],
   "source": [
    "probs = outputs[0].softmax(1)\n",
    "pred_label = torch.argmax(probs).item()\n",
    "intent = le.inverse_transform([pred_label])\n",
    "intent"
   ]
  },
  {
   "cell_type": "code",
   "execution_count": null,
   "metadata": {},
   "outputs": [],
   "source": [
    "# ed"
   ]
  }
 ],
 "metadata": {
  "kernelspec": {
   "display_name": "finetunning-bert",
   "language": "python",
   "name": "python3"
  },
  "language_info": {
   "codemirror_mode": {
    "name": "ipython",
    "version": 3
   },
   "file_extension": ".py",
   "mimetype": "text/x-python",
   "name": "python",
   "nbconvert_exporter": "python",
   "pygments_lexer": "ipython3",
   "version": "3.9.20"
  }
 },
 "nbformat": 4,
 "nbformat_minor": 2
}
