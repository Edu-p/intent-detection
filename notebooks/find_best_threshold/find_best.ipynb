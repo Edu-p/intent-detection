{
 "cells": [
  {
   "cell_type": "markdown",
   "metadata": {},
   "source": [
    "# Imports"
   ]
  },
  {
   "cell_type": "code",
   "execution_count": 1,
   "metadata": {},
   "outputs": [],
   "source": [
    "import pandas as pd"
   ]
  },
  {
   "cell_type": "markdown",
   "metadata": {},
   "source": [
    "# helper functions"
   ]
  },
  {
   "cell_type": "code",
   "execution_count": null,
   "metadata": {},
   "outputs": [],
   "source": []
  },
  {
   "cell_type": "markdown",
   "metadata": {},
   "source": [
    "# Best threshold to put\n"
   ]
  },
  {
   "cell_type": "code",
   "execution_count": 33,
   "metadata": {},
   "outputs": [
    {
     "data": {
      "text/html": [
       "<div>\n",
       "<style scoped>\n",
       "    .dataframe tbody tr th:only-of-type {\n",
       "        vertical-align: middle;\n",
       "    }\n",
       "\n",
       "    .dataframe tbody tr th {\n",
       "        vertical-align: top;\n",
       "    }\n",
       "\n",
       "    .dataframe thead th {\n",
       "        text-align: right;\n",
       "    }\n",
       "</style>\n",
       "<table border=\"1\" class=\"dataframe\">\n",
       "  <thead>\n",
       "    <tr style=\"text-align: right;\">\n",
       "      <th></th>\n",
       "      <th>text</th>\n",
       "      <th>intent_encoded</th>\n",
       "      <th>__index_level_0__</th>\n",
       "      <th>input_ids</th>\n",
       "      <th>attention_mask</th>\n",
       "      <th>labels</th>\n",
       "      <th>intent</th>\n",
       "    </tr>\n",
       "  </thead>\n",
       "  <tbody>\n",
       "    <tr>\n",
       "      <th>0</th>\n",
       "      <td>This be Bella</td>\n",
       "      <td>8</td>\n",
       "      <td>25</td>\n",
       "      <td>[  101  2023  2022 12101   102     0     0    ...</td>\n",
       "      <td>[1 1 1 1 1 0 0 0 0 0 0 0 0 0 0 0]</td>\n",
       "      <td>8</td>\n",
       "      <td>GreetingResponse</td>\n",
       "    </tr>\n",
       "    <tr>\n",
       "      <th>1</th>\n",
       "      <td>Who am I please</td>\n",
       "      <td>22</td>\n",
       "      <td>204</td>\n",
       "      <td>[ 101 2040 2572 1045 3531  102    0    0    0 ...</td>\n",
       "      <td>[1 1 1 1 1 1 0 0 0 0 0 0 0 0 0 0]</td>\n",
       "      <td>22</td>\n",
       "      <td>WhoAmI</td>\n",
       "    </tr>\n",
       "    <tr>\n",
       "      <th>2</th>\n",
       "      <td>I americium Bella</td>\n",
       "      <td>8</td>\n",
       "      <td>27</td>\n",
       "      <td>[  101  1045  2572 22420  5007 12101   102    ...</td>\n",
       "      <td>[1 1 1 1 1 1 1 0 0 0 0 0 0 0 0 0]</td>\n",
       "      <td>8</td>\n",
       "      <td>GreetingResponse</td>\n",
       "    </tr>\n",
       "  </tbody>\n",
       "</table>\n",
       "</div>"
      ],
      "text/plain": [
       "                text  intent_encoded  __index_level_0__  \\\n",
       "0      This be Bella               8                 25   \n",
       "1    Who am I please              22                204   \n",
       "2  I americium Bella               8                 27   \n",
       "\n",
       "                                           input_ids  \\\n",
       "0  [  101  2023  2022 12101   102     0     0    ...   \n",
       "1  [ 101 2040 2572 1045 3531  102    0    0    0 ...   \n",
       "2  [  101  1045  2572 22420  5007 12101   102    ...   \n",
       "\n",
       "                      attention_mask  labels            intent  \n",
       "0  [1 1 1 1 1 0 0 0 0 0 0 0 0 0 0 0]       8  GreetingResponse  \n",
       "1  [1 1 1 1 1 1 0 0 0 0 0 0 0 0 0 0]      22            WhoAmI  \n",
       "2  [1 1 1 1 1 1 1 0 0 0 0 0 0 0 0 0]       8  GreetingResponse  "
      ]
     },
     "metadata": {},
     "output_type": "display_data"
    },
    {
     "data": {
      "text/plain": [
       "(192, 7)"
      ]
     },
     "metadata": {},
     "output_type": "display_data"
    },
    {
     "data": {
      "text/html": [
       "<div>\n",
       "<style scoped>\n",
       "    .dataframe tbody tr th:only-of-type {\n",
       "        vertical-align: middle;\n",
       "    }\n",
       "\n",
       "    .dataframe tbody tr th {\n",
       "        vertical-align: top;\n",
       "    }\n",
       "\n",
       "    .dataframe thead th {\n",
       "        text-align: right;\n",
       "    }\n",
       "</style>\n",
       "<table border=\"1\" class=\"dataframe\">\n",
       "  <thead>\n",
       "    <tr style=\"text-align: right;\">\n",
       "      <th></th>\n",
       "      <th>text</th>\n",
       "      <th>intent_encoded</th>\n",
       "      <th>__index_level_0__</th>\n",
       "      <th>input_ids</th>\n",
       "      <th>attention_mask</th>\n",
       "      <th>labels</th>\n",
       "      <th>intent</th>\n",
       "    </tr>\n",
       "  </thead>\n",
       "  <tbody>\n",
       "    <tr>\n",
       "      <th>0</th>\n",
       "      <td>Tell me what time it is?</td>\n",
       "      <td>20</td>\n",
       "      <td>110</td>\n",
       "      <td>[ 101 2425 2033 2054 2051 2009 2003 1029  102 ...</td>\n",
       "      <td>[1 1 1 1 1 1 1 1 1 0 0 0 0 0 0 0]</td>\n",
       "      <td>20</td>\n",
       "      <td>TimeQuery</td>\n",
       "    </tr>\n",
       "    <tr>\n",
       "      <th>1</th>\n",
       "      <td>Hello how are you?</td>\n",
       "      <td>2</td>\n",
       "      <td>34</td>\n",
       "      <td>[ 101 7592 2129 2024 2017 1029  102    0    0 ...</td>\n",
       "      <td>[1 1 1 1 1 1 1 0 0 0 0 0 0 0 0 0]</td>\n",
       "      <td>2</td>\n",
       "      <td>CourtesyGreeting</td>\n",
       "    </tr>\n",
       "    <tr>\n",
       "      <th>2</th>\n",
       "      <td>I am bored gossip with me</td>\n",
       "      <td>6</td>\n",
       "      <td>220</td>\n",
       "      <td>[  101  1045  2572 11471 13761  2007  2033   1...</td>\n",
       "      <td>[1 1 1 1 1 1 1 1 0 0 0 0 0 0 0 0]</td>\n",
       "      <td>6</td>\n",
       "      <td>Gossip</td>\n",
       "    </tr>\n",
       "  </tbody>\n",
       "</table>\n",
       "</div>"
      ],
      "text/plain": [
       "                        text  intent_encoded  __index_level_0__  \\\n",
       "0   Tell me what time it is?              20                110   \n",
       "1         Hello how are you?               2                 34   \n",
       "2  I am bored gossip with me               6                220   \n",
       "\n",
       "                                           input_ids  \\\n",
       "0  [ 101 2425 2033 2054 2051 2009 2003 1029  102 ...   \n",
       "1  [ 101 7592 2129 2024 2017 1029  102    0    0 ...   \n",
       "2  [  101  1045  2572 11471 13761  2007  2033   1...   \n",
       "\n",
       "                      attention_mask  labels            intent  \n",
       "0  [1 1 1 1 1 1 1 1 1 0 0 0 0 0 0 0]      20         TimeQuery  \n",
       "1  [1 1 1 1 1 1 1 0 0 0 0 0 0 0 0 0]       2  CourtesyGreeting  \n",
       "2  [1 1 1 1 1 1 1 1 0 0 0 0 0 0 0 0]       6            Gossip  "
      ]
     },
     "metadata": {},
     "output_type": "display_data"
    },
    {
     "data": {
      "text/plain": [
       "(48, 7)"
      ]
     },
     "metadata": {},
     "output_type": "display_data"
    }
   ],
   "source": [
    "df_train = pd.read_csv(\"../../flask_back/rsc/datasets/train_aug.csv\")\n",
    "display(df_train.head(3))\n",
    "display(df_train.shape)\n",
    "\n",
    "df_test = pd.read_csv(\"../../flask_back/rsc/datasets/test_aug.csv\")\n",
    "display(df_test.head(3))\n",
    "display(df_test.shape)"
   ]
  },
  {
   "cell_type": "code",
   "execution_count": null,
   "metadata": {},
   "outputs": [],
   "source": []
  }
 ],
 "metadata": {
  "kernelspec": {
   "display_name": "finetunning-bert",
   "language": "python",
   "name": "python3"
  },
  "language_info": {
   "codemirror_mode": {
    "name": "ipython",
    "version": 3
   },
   "file_extension": ".py",
   "mimetype": "text/x-python",
   "name": "python",
   "nbconvert_exporter": "python",
   "pygments_lexer": "ipython3",
   "version": "3.9.20"
  }
 },
 "nbformat": 4,
 "nbformat_minor": 2
}
